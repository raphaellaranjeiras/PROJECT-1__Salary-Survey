{
 "cells": [
  {
   "cell_type": "code",
   "execution_count": 1,
   "id": "25154eb2",
   "metadata": {
    "id": "25154eb2",
    "tags": []
   },
   "outputs": [],
   "source": [
    "import pandas as pd\n",
    "import numpy as np\n",
    "import matplotlib.pyplot as plt\n",
    "import seaborn as sns\n",
    "from scipy import stats\n",
    "%matplotlib inline\n",
    "import warnings\n",
    "warnings.filterwarnings(\"ignore\")"
   ]
  },
  {
   "cell_type": "code",
   "execution_count": 2,
   "id": "56578da3",
   "metadata": {
    "colab": {
     "base_uri": "https://localhost:8080/",
     "height": 311
    },
    "id": "56578da3",
    "outputId": "c7791e73-58a4-48f9-8400-c251bc50db7e",
    "scrolled": true
   },
   "outputs": [],
   "source": [
    "original = pd.read_csv('Salary Survey from AskAManager.org.csv', sep=',', decimal='.')"
   ]
  },
  {
   "cell_type": "code",
   "execution_count": 3,
   "id": "6766626d",
   "metadata": {
    "id": "6766626d"
   },
   "outputs": [],
   "source": [
    "df = original.copy(deep=True)"
   ]
  },
  {
   "cell_type": "code",
   "execution_count": 4,
   "id": "b4dfc5a2",
   "metadata": {
    "id": "b4dfc5a2",
    "outputId": "f3670acb-34fd-4c91-feea-22190a31b687",
    "tags": []
   },
   "outputs": [
    {
     "data": {
      "text/html": [
       "<div>\n",
       "<style scoped>\n",
       "    .dataframe tbody tr th:only-of-type {\n",
       "        vertical-align: middle;\n",
       "    }\n",
       "\n",
       "    .dataframe tbody tr th {\n",
       "        vertical-align: top;\n",
       "    }\n",
       "\n",
       "    .dataframe thead th {\n",
       "        text-align: right;\n",
       "    }\n",
       "</style>\n",
       "<table border=\"1\" class=\"dataframe\">\n",
       "  <thead>\n",
       "    <tr style=\"text-align: right;\">\n",
       "      <th></th>\n",
       "      <th>Timestamp</th>\n",
       "      <th>How old are you?</th>\n",
       "      <th>What industry do you work in?</th>\n",
       "      <th>Job title</th>\n",
       "      <th>If your job title needs additional context, please clarify here:</th>\n",
       "      <th>What is your annual salary? (You'll indicate the currency in a later question. If you are part-time or hourly, please enter an annualized equivalent -- what you would earn if you worked the job 40 hours a week, 52 weeks a year.)</th>\n",
       "      <th>How much additional monetary compensation do you get, if any (for example, bonuses or overtime in an average year)? Please only include monetary compensation here, not the value of benefits.</th>\n",
       "      <th>Please indicate the currency</th>\n",
       "      <th>If \"Other,\" please indicate the currency here:</th>\n",
       "      <th>If your income needs additional context, please provide it here:</th>\n",
       "      <th>What country do you work in?</th>\n",
       "      <th>If you're in the U.S., what state do you work in?</th>\n",
       "      <th>What city do you work in?</th>\n",
       "      <th>How many years of professional work experience do you have overall?</th>\n",
       "      <th>How many years of professional work experience do you have in your field?</th>\n",
       "      <th>What is your highest level of education completed?</th>\n",
       "      <th>What is your gender?</th>\n",
       "      <th>What is your race? (Choose all that apply.)</th>\n",
       "    </tr>\n",
       "  </thead>\n",
       "  <tbody>\n",
       "    <tr>\n",
       "      <th>0</th>\n",
       "      <td>4/27/2021 11:02:10</td>\n",
       "      <td>25-34</td>\n",
       "      <td>Education (Higher Education)</td>\n",
       "      <td>Research and Instruction Librarian</td>\n",
       "      <td>NaN</td>\n",
       "      <td>55,000</td>\n",
       "      <td>0.0</td>\n",
       "      <td>USD</td>\n",
       "      <td>NaN</td>\n",
       "      <td>NaN</td>\n",
       "      <td>United States</td>\n",
       "      <td>Massachusetts</td>\n",
       "      <td>Boston</td>\n",
       "      <td>5-7 years</td>\n",
       "      <td>5-7 years</td>\n",
       "      <td>Master's degree</td>\n",
       "      <td>Woman</td>\n",
       "      <td>White</td>\n",
       "    </tr>\n",
       "    <tr>\n",
       "      <th>1</th>\n",
       "      <td>4/27/2021 11:02:22</td>\n",
       "      <td>25-34</td>\n",
       "      <td>Computing or Tech</td>\n",
       "      <td>Change &amp; Internal Communications Manager</td>\n",
       "      <td>NaN</td>\n",
       "      <td>54,600</td>\n",
       "      <td>4000.0</td>\n",
       "      <td>GBP</td>\n",
       "      <td>NaN</td>\n",
       "      <td>NaN</td>\n",
       "      <td>United Kingdom</td>\n",
       "      <td>NaN</td>\n",
       "      <td>Cambridge</td>\n",
       "      <td>8 - 10 years</td>\n",
       "      <td>5-7 years</td>\n",
       "      <td>College degree</td>\n",
       "      <td>Non-binary</td>\n",
       "      <td>White</td>\n",
       "    </tr>\n",
       "    <tr>\n",
       "      <th>2</th>\n",
       "      <td>4/27/2021 11:02:38</td>\n",
       "      <td>25-34</td>\n",
       "      <td>Accounting, Banking &amp; Finance</td>\n",
       "      <td>Marketing Specialist</td>\n",
       "      <td>NaN</td>\n",
       "      <td>34,000</td>\n",
       "      <td>NaN</td>\n",
       "      <td>USD</td>\n",
       "      <td>NaN</td>\n",
       "      <td>NaN</td>\n",
       "      <td>US</td>\n",
       "      <td>Tennessee</td>\n",
       "      <td>Chattanooga</td>\n",
       "      <td>2 - 4 years</td>\n",
       "      <td>2 - 4 years</td>\n",
       "      <td>College degree</td>\n",
       "      <td>Woman</td>\n",
       "      <td>White</td>\n",
       "    </tr>\n",
       "    <tr>\n",
       "      <th>3</th>\n",
       "      <td>4/27/2021 11:02:41</td>\n",
       "      <td>25-34</td>\n",
       "      <td>Nonprofits</td>\n",
       "      <td>Program Manager</td>\n",
       "      <td>NaN</td>\n",
       "      <td>62,000</td>\n",
       "      <td>3000.0</td>\n",
       "      <td>USD</td>\n",
       "      <td>NaN</td>\n",
       "      <td>NaN</td>\n",
       "      <td>USA</td>\n",
       "      <td>Wisconsin</td>\n",
       "      <td>Milwaukee</td>\n",
       "      <td>8 - 10 years</td>\n",
       "      <td>5-7 years</td>\n",
       "      <td>College degree</td>\n",
       "      <td>Woman</td>\n",
       "      <td>White</td>\n",
       "    </tr>\n",
       "    <tr>\n",
       "      <th>4</th>\n",
       "      <td>4/27/2021 11:02:42</td>\n",
       "      <td>25-34</td>\n",
       "      <td>Accounting, Banking &amp; Finance</td>\n",
       "      <td>Accounting Manager</td>\n",
       "      <td>NaN</td>\n",
       "      <td>60,000</td>\n",
       "      <td>7000.0</td>\n",
       "      <td>USD</td>\n",
       "      <td>NaN</td>\n",
       "      <td>NaN</td>\n",
       "      <td>US</td>\n",
       "      <td>South Carolina</td>\n",
       "      <td>Greenville</td>\n",
       "      <td>8 - 10 years</td>\n",
       "      <td>5-7 years</td>\n",
       "      <td>College degree</td>\n",
       "      <td>Woman</td>\n",
       "      <td>White</td>\n",
       "    </tr>\n",
       "  </tbody>\n",
       "</table>\n",
       "</div>"
      ],
      "text/plain": [
       "            Timestamp How old are you?  What industry do you work in?  \\\n",
       "0  4/27/2021 11:02:10            25-34   Education (Higher Education)   \n",
       "1  4/27/2021 11:02:22            25-34              Computing or Tech   \n",
       "2  4/27/2021 11:02:38            25-34  Accounting, Banking & Finance   \n",
       "3  4/27/2021 11:02:41            25-34                     Nonprofits   \n",
       "4  4/27/2021 11:02:42            25-34  Accounting, Banking & Finance   \n",
       "\n",
       "                                  Job title  \\\n",
       "0        Research and Instruction Librarian   \n",
       "1  Change & Internal Communications Manager   \n",
       "2                      Marketing Specialist   \n",
       "3                           Program Manager   \n",
       "4                        Accounting Manager   \n",
       "\n",
       "  If your job title needs additional context, please clarify here:  \\\n",
       "0                                                NaN                 \n",
       "1                                                NaN                 \n",
       "2                                                NaN                 \n",
       "3                                                NaN                 \n",
       "4                                                NaN                 \n",
       "\n",
       "  What is your annual salary? (You'll indicate the currency in a later question. If you are part-time or hourly, please enter an annualized equivalent -- what you would earn if you worked the job 40 hours a week, 52 weeks a year.)  \\\n",
       "0                                             55,000                                                                                                                                                                                     \n",
       "1                                             54,600                                                                                                                                                                                     \n",
       "2                                             34,000                                                                                                                                                                                     \n",
       "3                                             62,000                                                                                                                                                                                     \n",
       "4                                             60,000                                                                                                                                                                                     \n",
       "\n",
       "   How much additional monetary compensation do you get, if any (for example, bonuses or overtime in an average year)? Please only include monetary compensation here, not the value of benefits.  \\\n",
       "0                                                0.0                                                                                                                                                \n",
       "1                                             4000.0                                                                                                                                                \n",
       "2                                                NaN                                                                                                                                                \n",
       "3                                             3000.0                                                                                                                                                \n",
       "4                                             7000.0                                                                                                                                                \n",
       "\n",
       "  Please indicate the currency  \\\n",
       "0                          USD   \n",
       "1                          GBP   \n",
       "2                          USD   \n",
       "3                          USD   \n",
       "4                          USD   \n",
       "\n",
       "  If \"Other,\" please indicate the currency here:   \\\n",
       "0                                             NaN   \n",
       "1                                             NaN   \n",
       "2                                             NaN   \n",
       "3                                             NaN   \n",
       "4                                             NaN   \n",
       "\n",
       "  If your income needs additional context, please provide it here:  \\\n",
       "0                                                NaN                 \n",
       "1                                                NaN                 \n",
       "2                                                NaN                 \n",
       "3                                                NaN                 \n",
       "4                                                NaN                 \n",
       "\n",
       "  What country do you work in?  \\\n",
       "0                United States   \n",
       "1               United Kingdom   \n",
       "2                           US   \n",
       "3                          USA   \n",
       "4                           US   \n",
       "\n",
       "  If you're in the U.S., what state do you work in? What city do you work in?  \\\n",
       "0                                     Massachusetts                    Boston   \n",
       "1                                               NaN                 Cambridge   \n",
       "2                                         Tennessee               Chattanooga   \n",
       "3                                         Wisconsin                 Milwaukee   \n",
       "4                                    South Carolina                Greenville   \n",
       "\n",
       "  How many years of professional work experience do you have overall?  \\\n",
       "0                                          5-7 years                    \n",
       "1                                       8 - 10 years                    \n",
       "2                                        2 - 4 years                    \n",
       "3                                       8 - 10 years                    \n",
       "4                                       8 - 10 years                    \n",
       "\n",
       "  How many years of professional work experience do you have in your field?  \\\n",
       "0                                          5-7 years                          \n",
       "1                                          5-7 years                          \n",
       "2                                        2 - 4 years                          \n",
       "3                                          5-7 years                          \n",
       "4                                          5-7 years                          \n",
       "\n",
       "  What is your highest level of education completed? What is your gender?  \\\n",
       "0                                    Master's degree                Woman   \n",
       "1                                     College degree           Non-binary   \n",
       "2                                     College degree                Woman   \n",
       "3                                     College degree                Woman   \n",
       "4                                     College degree                Woman   \n",
       "\n",
       "  What is your race? (Choose all that apply.)  \n",
       "0                                       White  \n",
       "1                                       White  \n",
       "2                                       White  \n",
       "3                                       White  \n",
       "4                                       White  "
      ]
     },
     "execution_count": 4,
     "metadata": {},
     "output_type": "execute_result"
    }
   ],
   "source": [
    "df.head()"
   ]
  },
  {
   "cell_type": "markdown",
   "id": "a2f404ca",
   "metadata": {
    "id": "a2f404ca"
   },
   "source": [
    "### Tratamento Geral das Colunas"
   ]
  },
  {
   "cell_type": "code",
   "execution_count": 5,
   "id": "ebe8c02e",
   "metadata": {
    "id": "ebe8c02e"
   },
   "outputs": [],
   "source": [
    "df.rename(columns = {'How old are you?':'Age', 'What industry do you work in?':'work_industry', \"What is your annual salary? \\\n",
    "(You'll indicate the currency in a later question. If you are part-time or hourly, please enter an annualized equivalent \\\n",
    "-- what you would earn if you worked the job 40 hours a week, 52 weeks a year.)\":\"annual_salary\", 'How much additional monetary \\\n",
    "compensation do you get, if any (for example, bonuses or overtime in an average year)? Please only include monetary compensation \\\n",
    "here, not the value of benefits.':'additional_monetary_compensation', 'Please indicate the currency':'currency', 'What country \\\n",
    "do you work in?':'country', \"If you're in the U.S., what state do you work in?\":\"state_(US)\", \"What city do you work in?\":\"city\" \\\n",
    ", \"How many years of professional work experience do you have overall?\":\"overall_work_exp.\", \"How many years of \\\n",
    "professional work experience do you have in your field?\":'fieldwork _exp.', \"What is your highest level of \\\n",
    "education completed?\":\"level_of_education\", \"What is your gender?\":\"gender\", \"What is your race? (Choose all that apply.)\":\"race\" \\\n",
    ", \"How much additional monetary compensation do you get, if any (for example, bonuses or overtime in an average year)? Please \\\n",
    "only include monetary compensation here, not the value of benefits.\":\"additional_monetary_compensation\", \"If your income needs \\\n",
    "additional context, please provide it here:\":\"additional_income _context\",'If \"Other,\" please indicate the currency here: ':\"other_currencies\"},\n",
    "         inplace=True)"
   ]
  },
  {
   "cell_type": "code",
   "execution_count": 6,
   "id": "c2d0836f",
   "metadata": {
    "id": "c2d0836f",
    "scrolled": true
   },
   "outputs": [],
   "source": [
    "df.drop([['If your job title needs additional context, please clarify here:', \n",
    "          'additional_income _context', \n",
    "          'additional_monetary_compensation', \n",
    "          'other_currencies']], axis = 1, inplace=True)\n",
    "          \n",
    "#Essas colunas apresentam uma inconsistência muito grande na sua coleta de dados, obtendo entradas de texto de entrevistados \n",
    "#explicando o contexto e entrada de valores em si. Como são colunas de certa forma arbitrárias, resolvi desconsiderá-las."
   ]
  },
  {
   "cell_type": "code",
   "execution_count": 7,
   "id": "e8dec338-e169-4c74-99ed-2beb537619e2",
   "metadata": {
    "id": "e8dec338-e169-4c74-99ed-2beb537619e2"
   },
   "outputs": [],
   "source": [
    "df.drop(['Timestamp'], axis=1, inplace=True)"
   ]
  },
  {
   "cell_type": "code",
   "execution_count": 8,
   "id": "fa7bff37",
   "metadata": {
    "id": "fa7bff37",
    "outputId": "1db9012b-205d-4b6c-9352-92d6a352fefc",
    "tags": []
   },
   "outputs": [
    {
     "name": "stdout",
     "output_type": "stream",
     "text": [
      "<class 'pandas.core.frame.DataFrame'>\n",
      "RangeIndex: 27779 entries, 0 to 27778\n",
      "Data columns (total 13 columns):\n",
      " #   Column              Non-Null Count  Dtype \n",
      "---  ------              --------------  ----- \n",
      " 0   Age                 27779 non-null  object\n",
      " 1   Work Industry       27709 non-null  object\n",
      " 2   Job title           27779 non-null  object\n",
      " 3   Annual Salary       27779 non-null  object\n",
      " 4   Currency            27779 non-null  object\n",
      " 5   Country             27779 non-null  object\n",
      " 6   State (US)          22840 non-null  object\n",
      " 7   City                27704 non-null  object\n",
      " 8   Overall Work Exp.   27779 non-null  object\n",
      " 9   Fieldwork Exp.      27779 non-null  object\n",
      " 10  Level of Education  27569 non-null  object\n",
      " 11  Gender              27614 non-null  object\n",
      " 12  Race                27615 non-null  object\n",
      "dtypes: object(13)\n",
      "memory usage: 2.8+ MB\n"
     ]
    }
   ],
   "source": [
    "df.info()"
   ]
  },
  {
   "cell_type": "markdown",
   "id": "371306af",
   "metadata": {},
   "source": [
    "### Ánalise Coluna \"Currency\""
   ]
  },
  {
   "cell_type": "code",
   "execution_count": 9,
   "id": "20860796",
   "metadata": {
    "id": "20860796",
    "outputId": "3d16a447-d3c6-4237-b674-52a85bec64dd",
    "tags": []
   },
   "outputs": [
    {
     "data": {
      "text/plain": [
       "USD        0.833723\n",
       "CAD        0.059613\n",
       "GBP        0.056662\n",
       "EUR        0.022679\n",
       "AUD/NZD    0.017927\n",
       "Other      0.005256\n",
       "CHF        0.001332\n",
       "SEK        0.001332\n",
       "JPY        0.000828\n",
       "ZAR        0.000504\n",
       "HKD        0.000144\n",
       "Name: Currency, dtype: float64"
      ]
     },
     "execution_count": 9,
     "metadata": {},
     "output_type": "execute_result"
    }
   ],
   "source": [
    "df['Currency'].value_counts(normalize=True)"
   ]
  },
  {
   "cell_type": "code",
   "execution_count": 10,
   "id": "fd431197",
   "metadata": {
    "id": "fd431197"
   },
   "outputs": [],
   "source": [
    "#Como a grande maioria dos salários são em dólar, limitei a análise a esses participantes. \n",
    "df = df.loc[(df['Currency'] == 'USD'), :]"
   ]
  },
  {
   "cell_type": "markdown",
   "id": "7c35234e",
   "metadata": {},
   "source": [
    "### Análise Coluna \"Annual Salary\""
   ]
  },
  {
   "cell_type": "code",
   "execution_count": null,
   "id": "cd384f3b",
   "metadata": {},
   "outputs": [],
   "source": [
    "df.head()"
   ]
  },
  {
   "cell_type": "code",
   "execution_count": 11,
   "id": "429487a8",
   "metadata": {
    "id": "429487a8",
    "scrolled": true
   },
   "outputs": [],
   "source": [
    "df['Annual Salary'] = df['Annual Salary'].str.replace(',','')\n",
    "df['Annual Salary'] = df['Annual Salary'].str.replace('.','')\n",
    "df['Annual Salary'] = df['Annual Salary'].astype(float)"
   ]
  },
  {
   "cell_type": "code",
   "execution_count": 13,
   "id": "1d2a7f21",
   "metadata": {
    "id": "1d2a7f21",
    "outputId": "d59cfa90-8258-466f-82c7-2434d8e48cfd"
   },
   "outputs": [
    {
     "data": {
      "text/plain": [
       "0"
      ]
     },
     "execution_count": 13,
     "metadata": {},
     "output_type": "execute_result"
    }
   ],
   "source": [
    "df['Annual Salary'].isnull().sum()"
   ]
  },
  {
   "cell_type": "code",
   "execution_count": 14,
   "id": "9e170a2c",
   "metadata": {
    "id": "9e170a2c",
    "outputId": "f53b14ca-42ab-4c21-c211-36882a729a68",
    "tags": []
   },
   "outputs": [
    {
     "data": {
      "text/plain": [
       "count    2.316000e+04\n",
       "mean     9.649106e+04\n",
       "std      6.735750e+05\n",
       "min      0.000000e+00\n",
       "25%      5.609050e+04\n",
       "50%      7.850000e+04\n",
       "75%      1.120000e+05\n",
       "max      1.020000e+08\n",
       "Name: Annual Salary, dtype: float64"
      ]
     },
     "execution_count": 14,
     "metadata": {},
     "output_type": "execute_result"
    }
   ],
   "source": [
    "df['Annual Salary'].describe()"
   ]
  },
  {
   "cell_type": "code",
   "execution_count": 15,
   "id": "ddb4308d",
   "metadata": {
    "id": "ddb4308d",
    "outputId": "7bf528ee-3755-4abd-8162-fc32b317dce8",
    "tags": []
   },
   "outputs": [
    {
     "data": {
      "image/png": "[encoded data removed]",
      "text/plain": [
       "<Figure size 1300x500 with 1 Axes>"
      ]
     },
     "metadata": {
      "needs_background": "light"
     },
     "output_type": "display_data"
    }
   ],
   "source": [
    "#Percebe-se que os dados têm outliers severos.\n",
    "fig, ax = plt.subplots(figsize=(13,5))\n",
    "ax = sns.boxplot(x=df['Annual Salary'])\n",
    "ax.set_xticklabels(np.arange(0,750000,50000))\n",
    "plt.tight_layout()"
   ]
  },
  {
   "cell_type": "code",
   "execution_count": 16,
   "id": "6c3a222f",
   "metadata": {
    "id": "6c3a222f",
    "outputId": "3c867378-ab41-4813-b809-f916305a8fb8",
    "tags": []
   },
   "outputs": [
    {
     "data": {
      "image/png": "[encoded data removed]",
      "text/plain": [
       "<Figure size 1200x700 with 1 Axes>"
      ]
     },
     "metadata": {},
     "output_type": "display_data"
    }
   ],
   "source": [
    "fig, ax = plt.subplots(figsize=(12,7))\n",
    "sns.set_theme(style='white', font='verdana')\n",
    "ax = sns.histplot(x=df['Annual Salary'], kde=True)\n",
    "ax.set_title('Distribuição - Salário Anual', fontsize=20)\n",
    "ax.set_xlabel('Salário Anual', fontsize=15)\n",
    "ax.set_ylabel('Entrevistados', fontsize=15)\n",
    "ax.set_xticklabels(np.arange(0,500000,50000))\n",
    "\n",
    "plt.tight_layout()"
   ]
  },
  {
   "cell_type": "markdown",
   "id": "e3ceca59",
   "metadata": {},
   "source": [
    "### Análise Coluna \"Gender\""
   ]
  },
  {
   "cell_type": "code",
   "execution_count": 17,
   "id": "5ad189c5",
   "metadata": {
    "id": "5ad189c5",
    "outputId": "e2cdfe85-1f2e-4dc9-e979-bdd23e2fe4a4",
    "scrolled": true,
    "tags": []
   },
   "outputs": [
    {
     "data": {
      "text/plain": [
       "Woman                            77.469775\n",
       "Man                              18.380829\n",
       "Non-binary                        2.564767\n",
       "Other or prefer not to answer     0.988774\n",
       "NaN                               0.591537\n",
       "Prefer not to answer              0.004318\n",
       "Name: Gender, dtype: float64"
      ]
     },
     "execution_count": 17,
     "metadata": {},
     "output_type": "execute_result"
    }
   ],
   "source": [
    "df['Gender'].value_counts(dropna=False, normalize=True).mul(100)"
   ]
  },
  {
   "cell_type": "code",
   "execution_count": 18,
   "id": "4e04a97e",
   "metadata": {},
   "outputs": [],
   "source": [
    "df['Gender'].replace({'Prefer not to answer': 'Other or prefer not to answer'}, inplace= True) "
   ]
  },
  {
   "cell_type": "code",
   "execution_count": 19,
   "id": "3bdf27b4",
   "metadata": {
    "scrolled": true
   },
   "outputs": [
    {
     "data": {
      "text/plain": [
       "Woman                            77.469775\n",
       "Man                              18.380829\n",
       "Non-binary                        2.564767\n",
       "Other or prefer not to answer     0.993092\n",
       "NaN                               0.591537\n",
       "Name: Gender, dtype: float64"
      ]
     },
     "execution_count": 19,
     "metadata": {},
     "output_type": "execute_result"
    }
   ],
   "source": [
    "df['Gender'].value_counts(dropna=False, normalize=True).mul(100)"
   ]
  },
  {
   "cell_type": "code",
   "execution_count": 20,
   "id": "a0e571d6",
   "metadata": {},
   "outputs": [
    {
     "data": {
      "text/plain": [
       "<AxesSubplot:xlabel='count', ylabel='Gender'>"
      ]
     },
     "execution_count": 20,
     "metadata": {},
     "output_type": "execute_result"
    },
    {
     "data": {
      "image/png": "[encoded data removed]",
      "text/plain": [
       "<Figure size 640x480 with 1 Axes>"
      ]
     },
     "metadata": {},
     "output_type": "display_data"
    }
   ],
   "source": [
    "sns.countplot(y= df['Gender'])"
   ]
  },
  {
   "cell_type": "markdown",
   "id": "f93f8ad3",
   "metadata": {},
   "source": [
    "### Análise Coluna \"Race\""
   ]
  },
  {
   "cell_type": "code",
   "execution_count": 21,
   "id": "07210fff",
   "metadata": {
    "collapsed": true,
    "id": "07210fff",
    "jupyter": {
     "outputs_hidden": true
    },
    "outputId": "ceb88710-83dc-4430-c2db-cb89528f6e67",
    "tags": []
   },
   "outputs": [
    {
     "data": {
      "text/plain": [
       "White                                                                                                                            19142\n",
       "Asian or Asian American                                                                                                           1113\n",
       "Black or African American                                                                                                          595\n",
       "Hispanic, Latino, or Spanish origin                                                                                                534\n",
       "Another option not listed here or prefer not to answer                                                                             461\n",
       "Hispanic, Latino, or Spanish origin, White                                                                                         359\n",
       "Asian or Asian American, White                                                                                                     300\n",
       "Black or African American, White                                                                                                   112\n",
       "Middle Eastern or Northern African, White                                                                                           76\n",
       "Middle Eastern or Northern African                                                                                                  52\n",
       "Native American or Alaska Native, White                                                                                             51\n",
       "Native American or Alaska Native                                                                                                    37\n",
       "White, Another option not listed here or prefer not to answer                                                                       36\n",
       "Black or African American, Hispanic, Latino, or Spanish origin                                                                      26\n",
       "Asian or Asian American, Hispanic, Latino, or Spanish origin                                                                        14\n",
       "Asian or Asian American, Hispanic, Latino, or Spanish origin, White                                                                 12\n",
       "Black or African American, Hispanic, Latino, or Spanish origin, White                                                               11\n",
       "Hispanic, Latino, or Spanish origin, Native American or Alaska Native, White                                                         9\n",
       "Hispanic, Latino, or Spanish origin, Native American or Alaska Native                                                                9\n",
       "Asian or Asian American, Black or African American                                                                                   8\n",
       "Asian or Asian American, Middle Eastern or Northern African                                                                          7\n",
       "Hispanic, Latino, or Spanish origin, Another option not listed here or prefer not to answer                                          6\n",
       "Asian or Asian American, Another option not listed here or prefer not to answer                                                      6\n",
       "Asian or Asian American, Black or African American, White                                                                            5\n",
       "Asian or Asian American, White, Another option not listed here or prefer not to answer                                               5\n",
       "Asian or Asian American, Native American or Alaska Native, White                                                                     4\n",
       "Black or African American, Middle Eastern or Northern African, White                                                                 4\n",
       "Hispanic, Latino, or Spanish origin, Middle Eastern or Northern African, White                                                       4\n",
       "Black or African American, Native American or Alaska Native, White                                                                   3\n",
       "Black or African American, Hispanic, Latino, or Spanish origin, Native American or Alaska Native, White                              3\n",
       "Black or African American, Middle Eastern or Northern African                                                                        2\n",
       "Black or African American, Another option not listed here or prefer not to answer                                                    1\n",
       "Hispanic, Latino, or Spanish origin, Middle Eastern or Northern African                                                              1\n",
       "Asian or Asian American, Hispanic, Latino, or Spanish origin, Another option not listed here or prefer not to answer                 1\n",
       "Asian or Asian American, Native American or Alaska Native                                                                            1\n",
       "Hispanic, Latino, or Spanish origin, Native American or Alaska Native, Another option not listed here or prefer not to answer        1\n",
       "Middle Eastern or Northern African, White, Another option not listed here or prefer not to answer                                    1\n",
       "Asian or Asian American, Black or African American, Native American or Alaska Native, White                                          1\n",
       "Asian or Asian American, Middle Eastern or Northern African, White                                                                   1\n",
       "Middle Eastern or Northern African, Native American or Alaska Native, White                                                          1\n",
       "Asian or Asian American, Black or African American, Hispanic, Latino, or Spanish origin                                              1\n",
       "Hispanic, Latino, or Spanish origin, White, Another option not listed here or prefer not to answer                                   1\n",
       "Black or African American, Middle Eastern or Northern African, Native American or Alaska Native, White                               1\n",
       "Asian or Asian American, Hispanic, Latino, or Spanish origin, Native American or Alaska Native, White                                1\n",
       "Asian or Asian American, Hispanic, Latino, or Spanish origin, White, Another option not listed here or prefer not to answer          1\n",
       "Name: Race, dtype: int64"
      ]
     },
     "execution_count": 21,
     "metadata": {},
     "output_type": "execute_result"
    }
   ],
   "source": [
    "df['Race'].value_counts()"
   ]
  },
  {
   "cell_type": "code",
   "execution_count": 22,
   "id": "45c6264e",
   "metadata": {
    "id": "45c6264e",
    "outputId": "fa15a237-165d-4da0-b9a5-7c39e4ca7b00",
    "tags": []
   },
   "outputs": [
    {
     "data": {
      "text/plain": [
       "White                                                                                              19178\n",
       "Asian or Asian American                                                                             1439\n",
       "Hispanic, Latino, or Spanish origin                                                                  919\n",
       "Black or African American                                                                            758\n",
       "Another option not listed here or prefer not to answer                                               461\n",
       "Middle Eastern or Northern African                                                                   136\n",
       "Native American or Alaska Native                                                                      88\n",
       "Asian or Asian American, Another option not listed here or prefer not to answer                       13\n",
       "Black or African American, Native American or Alaska Native                                            7\n",
       "Asian or Asian American, Native American or Alaska Native                                              6\n",
       "Black or African American, Middle Eastern or Northern African                                          6\n",
       "Hispanic, Latino, or Spanish origin, Middle Eastern or Northern African                                5\n",
       "Black or African American, Middle Eastern or Northern African, Native American or Alaska Native        1\n",
       "Black or African American, Another option not listed here or prefer not to answer                      1\n",
       "Middle Eastern or Northern African, Native American or Alaska Native                                   1\n",
       "Middle Eastern or Northern African, Another option not listed here or prefer not to answer             1\n",
       "Name: Race, dtype: int64"
      ]
     },
     "execution_count": 22,
     "metadata": {},
     "output_type": "execute_result"
    }
   ],
   "source": [
    "df['Race'] = df['Race'].str.replace('Hispanic, Latino, or Spanish origin, White', 'Hispanic, Latino, or Spanish origin')\n",
    "df['Race'] = df['Race'].str.replace('Asian or Asian American, White', 'Asian or Asian American') \n",
    "df['Race'] = df['Race'].str.replace('Black or African American, White', 'Black or African American') \n",
    "df['Race'] = df['Race'].str.replace('Middle Eastern or Northern African, White', 'Middle Eastern or Northern African')\n",
    "df['Race'] = df['Race'].str.replace('Native American or Alaska Native, White', 'Native American or Alaska Native')\n",
    "df['Race'] = df['Race'].str.replace('White, Another option not listed here or prefer not to answer', 'White')\n",
    "df['Race'] = df['Race'].str.replace('Black or African American, Hispanic, Latino, or Spanish origin', 'Black or African American')\n",
    "df['Race'] = df['Race'].str.replace('Asian or Asian American, Hispanic, Latino, or Spanish origin', 'Asian or Asian American')\n",
    "df['Race'] = df['Race'].str.replace('Asian or Asian American, Hispanic, Latino, or Spanish origin, White', 'White')\n",
    "df['Race'] = df['Race'].str.replace('Black or African American, Hispanic, Latino, or Spanish origin, White', 'White')\n",
    "df['Race'] = df['Race'].str.replace('Hispanic, Latino, or Spanish origin, Native American or Alaska Native, White', 'White')\n",
    "df['Race'] = df['Race'].str.replace('Hispanic, Latino, or Spanish origin, Native American or Alaska Native', 'Hispanic, Latino, or Spanish origin')\n",
    "df['Race'] = df['Race'].str.replace('Asian or Asian American, Black or African American', 'Black or African American')\n",
    "df['Race'] = df['Race'].str.replace('Asian or Asian American, Middle Eastern or Northern African', 'Middle Eastern or Northern African')\n",
    "df['Race'] = df['Race'].str.replace('Hispanic, Latino, or Spanish origin, Another option not listed here or prefer not to answer', 'Hispanic, Latino, or Spanish origin')\n",
    "\n",
    "df['Race'].value_counts()"
   ]
  },
  {
   "cell_type": "code",
   "execution_count": 23,
   "id": "43d1c6f5",
   "metadata": {},
   "outputs": [
    {
     "data": {
      "text/plain": [
       "White                                                     83.458810\n",
       "Asian or Asian American                                    6.262239\n",
       "Hispanic, Latino, or Spanish origin                        3.999304\n",
       "Black or African American                                  3.298664\n",
       "Another option not listed here or prefer not to answer     2.006180\n",
       "Middle Eastern or Northern African                         0.591845\n",
       "Native American or Alaska Native                           0.382958\n",
       "Name: Race, dtype: float64"
      ]
     },
     "execution_count": 23,
     "metadata": {},
     "output_type": "execute_result"
    }
   ],
   "source": [
    "#Com o objetivo de eliminar a redundância, ambiguidade e a cardinalidade, removeremos algumas categorias acima. Essas possuem pequeno volume,\n",
    "#não gerando um impacto significativo.\n",
    "\n",
    "df = df.loc[(df['Race'] != 'Black or African American, Native American or Alaska Native') & (df['Race'] != \n",
    "    'Asian or Asian American, Native American or Alaska Native') & (df['Race'] != \n",
    "    'Black or African American, Middle Eastern or Northern African') & (df['Race'] != \n",
    "    'Hispanic, Latino, or Spanish origin, Middle Eastern or Northern African') & (df['Race'] != \n",
    "    'Black or African American, Middle Eastern or Northern African, Native American or Alaska Native') & (df['Race'] !=\n",
    "    'Black or African American, Another option not listed here or prefer not to answer') & (df['Race'] !=\n",
    "    'Middle Eastern or Northern African, Native American or Alaska Native') & (df['Race'] != \n",
    "    'Middle Eastern or Northern African, Another option not listed here or prefer not to answer') & (df['Race'] != \n",
    "    'Asian or Asian American, Another option not listed here or prefer not to answer'), :]\n",
    "\n",
    "df['Race'].value_counts(normalize=True).mul(100)"
   ]
  },
  {
   "cell_type": "code",
   "execution_count": 24,
   "id": "caaa2ebf",
   "metadata": {},
   "outputs": [
    {
     "data": {
      "text/plain": [
       "<AxesSubplot:xlabel='count', ylabel='Race'>"
      ]
     },
     "execution_count": 24,
     "metadata": {},
     "output_type": "execute_result"
    },
    {
     "data": {
      "image/png": "[encoded data removed]",
      "text/plain": [
       "<Figure size 640x480 with 1 Axes>"
      ]
     },
     "metadata": {},
     "output_type": "display_data"
    }
   ],
   "source": [
    "sns.countplot(y= df['Race'])"
   ]
  },
  {
   "cell_type": "markdown",
   "id": "7bccb955",
   "metadata": {},
   "source": [
    "### Análise Coluna \"Level of Education\""
   ]
  },
  {
   "cell_type": "code",
   "execution_count": 25,
   "id": "01152ecf",
   "metadata": {
    "id": "01152ecf",
    "outputId": "0c642695-2862-4c7f-90c6-17dabda1019f",
    "scrolled": true,
    "tags": []
   },
   "outputs": [
    {
     "data": {
      "text/plain": [
       "College degree                        48.522860\n",
       "Master's degree                       32.311086\n",
       "Some college                           6.976945\n",
       "Professional degree (MD, JD, etc.)     4.909382\n",
       "PhD                                    4.879104\n",
       "High School                            1.751806\n",
       "NaN                                    0.648817\n",
       "Name: Level of Education, dtype: float64"
      ]
     },
     "execution_count": 25,
     "metadata": {},
     "output_type": "execute_result"
    }
   ],
   "source": [
    "df['Level of Education'].value_counts(dropna=False, normalize=True).mul(100)"
   ]
  },
  {
   "cell_type": "code",
   "execution_count": 26,
   "id": "6e4a41df",
   "metadata": {
    "id": "6e4a41df",
    "outputId": "b55f684b-67ef-4048-d588-3ec862830d23",
    "scrolled": true,
    "tags": []
   },
   "outputs": [
    {
     "data": {
      "text/plain": [
       "College degree                        12831\n",
       "Master's degree                        7470\n",
       "Professional degree (MD, JD, etc.)     1135\n",
       "PhD                                    1128\n",
       "High School                             405\n",
       "Name: Level of Education, dtype: int64"
      ]
     },
     "execution_count": 26,
     "metadata": {},
     "output_type": "execute_result"
    }
   ],
   "source": [
    "df['Level of Education'] = df['Level of Education'].str.replace('Some college', 'College degree')\n",
    "df['Level of Education'].value_counts()"
   ]
  },
  {
   "cell_type": "code",
   "execution_count": 27,
   "id": "29a64081",
   "metadata": {},
   "outputs": [],
   "source": [
    "df['Level of Education'] = pd.Categorical(df['Level of Education'], categories= ['High School',\n",
    "                            'Professional degree (MD, JD, etc.)', 'College degree', \"Master's degree\", 'PhD'])"
   ]
  },
  {
   "cell_type": "code",
   "execution_count": 28,
   "id": "b3850608",
   "metadata": {},
   "outputs": [
    {
     "data": {
      "text/plain": [
       "College degree                        55.499805\n",
       "Master's degree                       32.311086\n",
       "Professional degree (MD, JD, etc.)     4.909382\n",
       "PhD                                    4.879104\n",
       "High School                            1.751806\n",
       "NaN                                    0.648817\n",
       "Name: Level of Education, dtype: float64"
      ]
     },
     "execution_count": 28,
     "metadata": {},
     "output_type": "execute_result"
    }
   ],
   "source": [
    "df['Level of Education'].value_counts(dropna=False, normalize=True).mul(100)"
   ]
  },
  {
   "cell_type": "markdown",
   "id": "a0fe91db",
   "metadata": {},
   "source": [
    "### Análise Coluna \"Fieldwork Exp.\" "
   ]
  },
  {
   "cell_type": "code",
   "execution_count": 29,
   "id": "85405245-50eb-46d9-a771-a430584a1e28",
   "metadata": {
    "id": "85405245-50eb-46d9-a771-a430584a1e28",
    "outputId": "1c34c804-c2a5-430f-8a4d-c2a8606471a2"
   },
   "outputs": [
    {
     "data": {
      "text/plain": [
       "11 - 20 years       23.725075\n",
       "5-7 years           23.422293\n",
       "2 - 4 years         21.480168\n",
       "8 - 10 years        18.123621\n",
       "21 - 30 years        6.777975\n",
       "1 year or less       4.900731\n",
       "31 - 40 years        1.427397\n",
       "41 years or more     0.142740\n",
       "Name: Fieldwork Exp., dtype: float64"
      ]
     },
     "execution_count": 29,
     "metadata": {},
     "output_type": "execute_result"
    }
   ],
   "source": [
    "df['Fieldwork Exp.'].value_counts(dropna=False, normalize=True).mul(100)"
   ]
  },
  {
   "cell_type": "code",
   "execution_count": 30,
   "id": "ccd5d5cc",
   "metadata": {
    "id": "ccd5d5cc",
    "outputId": "3b6315ee-474d-46d0-c928-84b3d754190f",
    "tags": []
   },
   "outputs": [
    {
     "data": {
      "image/png": "[encoded data removed]",
      "text/plain": [
       "<Figure size 640x480 with 1 Axes>"
      ]
     },
     "metadata": {},
     "output_type": "display_data"
    }
   ],
   "source": [
    "df['Fieldwork Exp.'] = df['Fieldwork Exp.'].str.replace('5-7 years', '5 - 7 years')\n",
    "df['Fieldwork Exp.'] = pd.Categorical(df['Fieldwork Exp.'], categories = ['1 year or less','2 - 4 years','5 - 7 years', \n",
    "                                        '8 - 10 years', '11 - 20 years', '21 - 30 years', '31 - 40 years', '41 years or more'])\n",
    "\n",
    "sns.countplot(y= df['Fieldwork Exp.'])\n",
    "plt.tight_layout()"
   ]
  },
  {
   "cell_type": "markdown",
   "id": "ad6923ad",
   "metadata": {},
   "source": [
    "### Análise Coluna \"Overall Work Exp.\" "
   ]
  },
  {
   "cell_type": "code",
   "execution_count": 31,
   "id": "a3da51e7",
   "metadata": {},
   "outputs": [
    {
     "data": {
      "text/plain": [
       "11 - 20 years       34.945283\n",
       "8 - 10 years        19.096847\n",
       "5-7 years           17.133094\n",
       "21 - 30 years       13.132056\n",
       "2 - 4 years         10.355119\n",
       "31 - 40 years        3.157576\n",
       "1 year or less       1.708551\n",
       "41 years or more     0.471474\n",
       "Name: Overall Work Exp., dtype: float64"
      ]
     },
     "execution_count": 31,
     "metadata": {},
     "output_type": "execute_result"
    }
   ],
   "source": [
    "df['Overall Work Exp.'].value_counts(dropna=False, normalize=True).mul(100)"
   ]
  },
  {
   "cell_type": "code",
   "execution_count": 32,
   "id": "64672bc5",
   "metadata": {},
   "outputs": [],
   "source": [
    "df['Overall Work Exp.'].replace('5-7 years', '5 - 7 years', inplace=True)\n",
    "df['Overall Work Exp.'] = pd.Categorical(df['Overall Work Exp.'], categories=['1 year or less','2 - 4 years','5 - 7 years', \n",
    "                                        '8 - 10 years', '11 - 20 years', '21 - 30 years', '31 - 40 years', '41 years or more'])"
   ]
  },
  {
   "cell_type": "code",
   "execution_count": 33,
   "id": "93d7607a",
   "metadata": {},
   "outputs": [
    {
     "data": {
      "image/png": "[encoded data removed]",
      "text/plain": [
       "<Figure size 640x480 with 1 Axes>"
      ]
     },
     "metadata": {},
     "output_type": "display_data"
    }
   ],
   "source": [
    "sns.countplot(y= df['Overall Work Exp.'])\n",
    "plt.tight_layout()"
   ]
  },
  {
   "cell_type": "markdown",
   "id": "a220b1c6",
   "metadata": {},
   "source": [
    "fig, ax = plt.subplots(1, 2)\n",
    "fig.suptitle('Comparação: Tipos de Experiência e Salários')\n",
    "\n",
    "ax[0][0] = sns.barplot(y= df['Fieldwork Exp.'], x= df['Annual Salary'])\n",
    "ax[0][1] = sns.barplot(y= df['Overall Work Exp.'], x= df['Annual Salary'])\n",
    "\n",
    "\n",
    "plt.tight_layout()"
   ]
  },
  {
   "cell_type": "markdown",
   "id": "c5af9676",
   "metadata": {},
   "source": [
    "### Análise da Coluna \"Age\""
   ]
  },
  {
   "cell_type": "code",
   "execution_count": 34,
   "id": "d32aab15-3a17-4192-aebe-747ccb40f33a",
   "metadata": {
    "id": "d32aab15-3a17-4192-aebe-747ccb40f33a"
   },
   "outputs": [],
   "source": [
    "df['Age'] = pd.Categorical(df['Age'], categories= ['under 18', '18-24', '25-34', '35-44', '45-54', '55-64', '65 or over'])"
   ]
  },
  {
   "cell_type": "code",
   "execution_count": 35,
   "id": "21b5a765",
   "metadata": {
    "scrolled": true
   },
   "outputs": [
    {
     "data": {
      "text/plain": [
       "25-34         44.409360\n",
       "35-44         35.741165\n",
       "45-54         11.587871\n",
       "18-24          4.091872\n",
       "55-64          3.758813\n",
       "65 or over     0.367663\n",
       "under 18       0.043254\n",
       "Name: Age, dtype: float64"
      ]
     },
     "execution_count": 35,
     "metadata": {},
     "output_type": "execute_result"
    }
   ],
   "source": [
    "df['Age'].value_counts(dropna=False, normalize = True).mul(100)"
   ]
  },
  {
   "cell_type": "code",
   "execution_count": 36,
   "id": "e6fdbbfd",
   "metadata": {},
   "outputs": [
    {
     "data": {
      "text/plain": [
       "<AxesSubplot:xlabel='count', ylabel='Age'>"
      ]
     },
     "execution_count": 36,
     "metadata": {},
     "output_type": "execute_result"
    },
    {
     "data": {
      "image/png": "[encoded data removed]",
      "text/plain": [
       "<Figure size 640x480 with 1 Axes>"
      ]
     },
     "metadata": {},
     "output_type": "display_data"
    }
   ],
   "source": [
    "sns.countplot(y= df['Age'])"
   ]
  },
  {
   "cell_type": "markdown",
   "id": "f29f3b42",
   "metadata": {},
   "source": [
    "### Ánalise da Coluna \"Country\""
   ]
  },
  {
   "cell_type": "code",
   "execution_count": 37,
   "id": "9c2249d5-176a-4a20-848b-b08c2a15a75b",
   "metadata": {
    "collapsed": true,
    "id": "9c2249d5-176a-4a20-848b-b08c2a15a75b",
    "jupyter": {
     "outputs_hidden": true
    },
    "outputId": "7662b72c-26a4-4e10-d637-eb1bc8496488",
    "tags": []
   },
   "outputs": [
    {
     "data": {
      "text/plain": [
       "United States                                0.384792\n",
       "USA                                          0.339850\n",
       "US                                           0.111467\n",
       "United States                                0.028418\n",
       "U.S.                                         0.024785\n",
       "                                               ...   \n",
       "Cuba                                         0.000043\n",
       "Cote d'Ivoire                                0.000043\n",
       "From Romania, but for an US based company    0.000043\n",
       "Somalia                                      0.000043\n",
       "U.S.A                                        0.000043\n",
       "Name: Country, Length: 219, dtype: float64"
      ]
     },
     "execution_count": 37,
     "metadata": {},
     "output_type": "execute_result"
    }
   ],
   "source": [
    "df['Country'].value_counts(dropna=False, normalize=True)"
   ]
  },
  {
   "cell_type": "code",
   "execution_count": 38,
   "id": "e1804ef6-f342-483c-b5d3-bb6abb76fa5e",
   "metadata": {
    "collapsed": true,
    "id": "e1804ef6-f342-483c-b5d3-bb6abb76fa5e",
    "jupyter": {
     "outputs_hidden": true
    },
    "outputId": "c13b00c8-ae74-49e1-a0d5-982be3a346b0",
    "tags": []
   },
   "outputs": [
    {
     "data": {
      "text/plain": [
       "array(['United States', 'US', 'USA', 'usa', 'U.S.', 'United States ',\n",
       "       'us', 'Usa', 'United States of America', 'United states', 'USA ',\n",
       "       'United states ', 'united states', 'United States of America ',\n",
       "       'U.S. ', 'U.S>', 'ISA', 'US ', 'United State', 'U.S.A',\n",
       "       'United Kingdom', 'Denmark', 'U.S.A.', 'America',\n",
       "       'united states of america', 'Canada', 'Bermuda', 'Us',\n",
       "       'The United States', 'United State of America', 'Mexico ',\n",
       "       'France', 'United Stated', 'u.s.', 'UNITED STATES',\n",
       "       'united States', 'Kuwait', 'Sri lanka', 'Contracts',\n",
       "       'USA-- Virgin Islands', 'United Statws', 'U.S',\n",
       "       \"We don't get raises, we get quarterly bonuses, but they periodically asses income in the area you work, so I got a raise because a 3rd party assessment showed I was paid too little for the area we were located\",\n",
       "       'Unites States ', 'Usa ', 'U.S.A. ', 'Japan', 'U. S. ', 'Germany',\n",
       "       'United Sates', 'Japan ', 'United States of American ',\n",
       "       'Uniited States',\n",
       "       'Worldwide (based in US but short term trips aroudn the world)',\n",
       "       'United Sates of America', 'England ',\n",
       "       'United States (I work from home and my clients are all over the US/Canada/PR',\n",
       "       'Colombia', 'Unted States', 'United Statesp', 'United Stattes',\n",
       "       'United Statea', 'Mexico', 'Unites States', 'Sweden',\n",
       "       'United Statees', 'Cayman Islands', 'UNited States',\n",
       "       'I am located in Canada but I work for a company in the US',\n",
       "       'Uniyed states', 'Uniyes States', 'United States of Americas',\n",
       "       'U.A.', 'U. S.', 'UK', 'Puerto Rico', 'US of A', 'Rwanda',\n",
       "       'United States of america ', 'United Arab Emirates ', 'U.SA',\n",
       "       'United Status', 'Currently finance', ' U.S.', 'Russia ', 'UXZ',\n",
       "       'Puerto Rico ', 'ireland', 'Virginia', 'U.s.', 'U.s.a.', 'USS',\n",
       "       'Uniteed States', 'Hartford', 'Japan, US Gov position',\n",
       "       'United Stares', 'I.S.', ' US', 'Unites states ', 'Us ',\n",
       "       'Hong Kong ', 'Unite States', 'The US', 'China', 'united states ',\n",
       "       'Cambodia', 'United states of America ', 'Vietnam', 'Australia',\n",
       "       'India', 'Bangladesh', 'Israel', 'Eritrea', 'Scotland ',\n",
       "       'For the United States government, but posted overseas', 'IS',\n",
       "       'Cuba', \"Cote d'Ivoire\",\n",
       "       'From Romania, but for an US based company', 'Somalia', 'Norway',\n",
       "       'UnitedStates', 'Danmark', 'Malaysia', 'United States of america',\n",
       "       'Sierra Leone', 'United statew', 'UAE', 'Singapore',\n",
       "       'bonus based on meeting yearly goals set w/ my supervisor',\n",
       "       'Italy', 'International ', 'The Bahamas ',\n",
       "       \"I earn commission on sales. If I meet quota, I'm guaranteed another 16k min. Last year i earned an additional 27k. It's not uncommon for people in my space to earn 100k+ after commission. \",\n",
       "       'Costa Rica', ' United States', 'United Statues', 'Argentina',\n",
       "       'Untied States',\n",
       "       'USA (company is based in a US territory, I work remote)', 'Chile',\n",
       "       'USAB', 'Unitied States', 'Qatar', 'United Sttes', 'Remote',\n",
       "       'Remote (philippines)', 'united stated',\n",
       "       'United States Of America', 'Nigeria', 'Panamá', 'SWITZERLAND',\n",
       "       'Spain', 'Brazil',\n",
       "       'I was brought in on this salary to help with the EHR and very quickly was promoted to current position but compensation was not altered. ',\n",
       "       'Uniter Statez', 'U. S ', 'United states of America', 'Uruguay',\n",
       "       'USA tomorrow ', 'Canada ', 'United Stateds', 'singapore',\n",
       "       'Pakistan', 'New Zealand',\n",
       "       'US govt employee overseas, country withheld', 'usa ', 'Malaysia ',\n",
       "       'Uganda', 'Philippines', 'Poland', 'Netherlands', 'Switzerland',\n",
       "       'Morocco', 'Africa', 'Ecuador', 'Australia ', 'Zimbabwe', 'Ghana',\n",
       "       'San Francisco', 'Usat', '🇺🇸 ', 'Romania', 'Unitef Stated', 'UA',\n",
       "       'United Stares ', 'United STates', 'Uk ', 'USaa', 'uSA',\n",
       "       'South Korea ', 'Ukraine ', 'The Netherlands', 'america',\n",
       "       'United States- Puerto Rico', 'Y', 'United y', 'Thailand',\n",
       "       'California ', 'Australian ', 'Jamaica', 'uS', 'Belgium', 'USD',\n",
       "       \"USA, but for foreign gov't\", 'Kenya', 'Jordan', 'United Statss',\n",
       "       'Switzerland ', 'United states of america', 'UsA',\n",
       "       'I work for a UAE-based organization, though I am personally in the US.',\n",
       "       'United  States', 'South africa', 'na', 'hong konh',\n",
       "       'United States is America', 'United States of American', 'U.S.A '],\n",
       "      dtype=object)"
      ]
     },
     "execution_count": 38,
     "metadata": {},
     "output_type": "execute_result"
    }
   ],
   "source": [
    "df['Country'].unique()"
   ]
  },
  {
   "cell_type": "code",
   "execution_count": 39,
   "id": "1c0ffa8f-b477-4372-839a-0d1b01ec0144",
   "metadata": {
    "collapsed": true,
    "id": "1c0ffa8f-b477-4372-839a-0d1b01ec0144",
    "jupyter": {
     "outputs_hidden": true
    },
    "outputId": "be76dd7a-eaf6-4ecd-ecc7-5e1eada822cd",
    "tags": []
   },
   "outputs": [
    {
     "data": {
      "text/plain": [
       "United States                                                                                                                                                                                                        8896\n",
       "USA                                                                                                                                                                                                                  7857\n",
       "US                                                                                                                                                                                                                   2577\n",
       "United States                                                                                                                                                                                                         657\n",
       "USA                                                                                                                                                                                                                   466\n",
       "Usa                                                                                                                                                                                                                   442\n",
       "United States of America                                                                                                                                                                                              419\n",
       "United states                                                                                                                                                                                                         203\n",
       "usa                                                                                                                                                                                                                   181\n",
       "united states                                                                                                                                                                                                         115\n",
       "Us                                                                                                                                                                                                                    105\n",
       "United States of America                                                                                                                                                                                               42\n",
       "us                                                                                                                                                                                                                     36\n",
       "America                                                                                                                                                                                                                20\n",
       "United State                                                                                                                                                                                                           19\n",
       "Usa                                                                                                                                                                                                                    18\n",
       "US                                                                                                                                                                                                                     18\n",
       "United states                                                                                                                                                                                                          13\n",
       "Unites States                                                                                                                                                                                                          13\n",
       "United Stated                                                                                                                                                                                                           9\n",
       "Australia                                                                                                                                                                                                               8\n",
       "United Kingdom                                                                                                                                                                                                          7\n",
       "The United States                                                                                                                                                                                                       7\n",
       "United States of america                                                                                                                                                                                                6\n",
       "United Sates                                                                                                                                                                                                            6\n",
       "Us                                                                                                                                                                                                                      5\n",
       "United State of America                                                                                                                                                                                                 4\n",
       "united States                                                                                                                                                                                                           4\n",
       "UnitedStates                                                                                                                                                                                                            4\n",
       "United States Of America                                                                                                                                                                                                4\n",
       "United Statea                                                                                                                                                                                                           3\n",
       "United states of America                                                                                                                                                                                                3\n",
       "united states                                                                                                                                                                                                           3\n",
       "ISA                                                                                                                                                                                                                     3\n",
       "Unites states                                                                                                                                                                                                           3\n",
       "United Stares                                                                                                                                                                                                           2\n",
       "United states of America                                                                                                                                                                                                2\n",
       "Australia                                                                                                                                                                                                               2\n",
       "USA tomorrow                                                                                                                                                                                                            2\n",
       "Unite States                                                                                                                                                                                                            2\n",
       "The US                                                                                                                                                                                                                  2\n",
       "United Sates of America                                                                                                                                                                                                 2\n",
       "United Status                                                                                                                                                                                                           2\n",
       "united stated                                                                                                                                                                                                           1\n",
       "United Sttes                                                                                                                                                                                                            1\n",
       "Uniter Statez                                                                                                                                                                                                           1\n",
       "Unitied States                                                                                                                                                                                                          1\n",
       "USA (company is based in a US territory, I work remote)                                                                                                                                                                 1\n",
       "USAB                                                                                                                                                                                                                    1\n",
       "United States- Puerto Rico                                                                                                                                                                                              1\n",
       "United Stateds                                                                                                                                                                                                          1\n",
       "US govt employee overseas, country withheld                                                                                                                                                                             1\n",
       "United States is America                                                                                                                                                                                                1\n",
       "United  States                                                                                                                                                                                                          1\n",
       "I work for a UAE-based organization, though I am personally in the US.                                                                                                                                                  1\n",
       "UsA                                                                                                                                                                                                                     1\n",
       "United states of america                                                                                                                                                                                                1\n",
       "United Statss                                                                                                                                                                                                           1\n",
       "USA, but for foreign gov't                                                                                                                                                                                              1\n",
       "USD                                                                                                                                                                                                                     1\n",
       "Australian                                                                                                                                                                                                              1\n",
       "United y                                                                                                                                                                                                                1\n",
       "United Statues                                                                                                                                                                                                          1\n",
       "america                                                                                                                                                                                                                 1\n",
       "uSA                                                                                                                                                                                                                     1\n",
       "USaa                                                                                                                                                                                                                    1\n",
       "United STates                                                                                                                                                                                                           1\n",
       "United Stares                                                                                                                                                                                                           1\n",
       "Unitef Stated                                                                                                                                                                                                           1\n",
       "Usat                                                                                                                                                                                                                    1\n",
       "usa                                                                                                                                                                                                                     1\n",
       "Untied States                                                                                                                                                                                                           1\n",
       "Uniteed States                                                                                                                                                                                                          1\n",
       " United States                                                                                                                                                                                                          1\n",
       "I am located in Canada but I work for a company in the US                                                                                                                                                               1\n",
       "united states of america                                                                                                                                                                                                1\n",
       "USA-- Virgin Islands                                                                                                                                                                                                    1\n",
       "United Statws                                                                                                                                                                                                           1\n",
       "We don't get raises, we get quarterly bonuses, but they periodically asses income in the area you work, so I got a raise because a 3rd party assessment showed I was paid too little for the area we were located       1\n",
       "Unites States                                                                                                                                                                                                           1\n",
       "United States of American                                                                                                                                                                                               1\n",
       "Uniited States                                                                                                                                                                                                          1\n",
       "Worldwide (based in US but short term trips aroudn the world)                                                                                                                                                           1\n",
       "United States (I work from home and my clients are all over the US/Canada/PR                                                                                                                                            1\n",
       "Unted States                                                                                                                                                                                                            1\n",
       "United Statesp                                                                                                                                                                                                          1\n",
       "United Stattes                                                                                                                                                                                                          1\n",
       "United Statees                                                                                                                                                                                                          1\n",
       "UNited States                                                                                                                                                                                                           1\n",
       "Uniyed states                                                                                                                                                                                                           1\n",
       "I earn commission on sales. If I meet quota, I'm guaranteed another 16k min. Last year i earned an additional 27k. It's not uncommon for people in my space to earn 100k+ after commission.                             1\n",
       "Uniyes States                                                                                                                                                                                                           1\n",
       "United States of Americas                                                                                                                                                                                               1\n",
       "US of A                                                                                                                                                                                                                 1\n",
       "United States of america                                                                                                                                                                                                1\n",
       "United Arab Emirates                                                                                                                                                                                                    1\n",
       "U.SA                                                                                                                                                                                                                    1\n",
       "Russia                                                                                                                                                                                                                  1\n",
       "USS                                                                                                                                                                                                                     1\n",
       "Japan, US Gov position                                                                                                                                                                                                  1\n",
       " US                                                                                                                                                                                                                     1\n",
       "For the United States government, but posted overseas                                                                                                                                                                   1\n",
       "From Romania, but for an US based company                                                                                                                                                                               1\n",
       "United statew                                                                                                                                                                                                           1\n",
       "bonus based on meeting yearly goals set w/ my supervisor                                                                                                                                                                1\n",
       "United States of American                                                                                                                                                                                               1\n",
       "Name: Country, dtype: int64"
      ]
     },
     "execution_count": 39,
     "metadata": {},
     "output_type": "execute_result"
    }
   ],
   "source": [
    "pd.set_option('display.max_rows', None)\n",
    "dfCountry = df.loc[df['Country'].str.contains(r'(Us|US|stat|Stat|us|SA|Un|un|meri)+' , regex=True), :]\n",
    "dfCountry['Country'].value_counts()\n",
    "\n",
    "#Alguns países e outras espécies de preenchimento foram \"pegos\" pela experssão regular."
   ]
  },
  {
   "cell_type": "code",
   "execution_count": 40,
   "id": "cc090054",
   "metadata": {
    "id": "cc090054",
    "outputId": "559f068e-5a8b-4a8c-b7ae-78d7b70b9875"
   },
   "outputs": [
    {
     "data": {
      "text/plain": [
       "(22255, 13)"
      ]
     },
     "execution_count": 40,
     "metadata": {},
     "output_type": "execute_result"
    }
   ],
   "source": [
    "dfCountry.shape"
   ]
  },
  {
   "cell_type": "code",
   "execution_count": 41,
   "id": "52cab80f",
   "metadata": {
    "collapsed": true,
    "id": "52cab80f",
    "jupyter": {
     "outputs_hidden": true
    },
    "outputId": "82141c05-9668-42cf-c772-bb68bedd997c",
    "tags": []
   },
   "outputs": [
    {
     "data": {
      "text/plain": [
       "USA               22240\n",
       "Australia             8\n",
       "United Kingdom        7\n",
       "Name: Country, dtype: int64"
      ]
     },
     "execution_count": 41,
     "metadata": {},
     "output_type": "execute_result"
    }
   ],
   "source": [
    "#Vamos manter as strings de países diferentes e alterar as strings relacionaadas com USA que estão completamente despadronizadas\n",
    "#alteração essa para 'USA'. Pessoas que trabalham fora e para os EUA foram consideradas dos Estados Unidos. \n",
    "\n",
    "dfCountry2 = dfCountry['Country'].where(dfCountry['Country'].isin(['Russia', 'Australia', 'Australian', 'United Arab Emirates', \n",
    "                                                    'United Kingdom']), 'USA')\n",
    "dfCountry2.value_counts()\n",
    "\n",
    "#Percebe-se que algumas strings da lista passada não foram consideradas para alteração."
   ]
  },
  {
   "cell_type": "code",
   "execution_count": 42,
   "id": "96aafa32",
   "metadata": {
    "collapsed": true,
    "id": "96aafa32",
    "jupyter": {
     "outputs_hidden": true
    },
    "outputId": "a6bb2e68-e74e-480a-ad2e-752b6ad96a2e",
    "tags": []
   },
   "outputs": [
    {
     "data": {
      "text/plain": [
       "(22255,)"
      ]
     },
     "execution_count": 42,
     "metadata": {},
     "output_type": "execute_result"
    }
   ],
   "source": [
    "dfCountry['Country'].shape"
   ]
  },
  {
   "cell_type": "code",
   "execution_count": 43,
   "id": "13fccb4d",
   "metadata": {
    "collapsed": true,
    "id": "13fccb4d",
    "jupyter": {
     "outputs_hidden": true
    },
    "outputId": "ad9a3cb8-6a38-43d5-ef9a-3e26857e4dc0",
    "tags": []
   },
   "outputs": [
    {
     "data": {
      "text/html": [
       "<div>\n",
       "<style scoped>\n",
       "    .dataframe tbody tr th:only-of-type {\n",
       "        vertical-align: middle;\n",
       "    }\n",
       "\n",
       "    .dataframe tbody tr th {\n",
       "        vertical-align: top;\n",
       "    }\n",
       "\n",
       "    .dataframe thead th {\n",
       "        text-align: right;\n",
       "    }\n",
       "</style>\n",
       "<table border=\"1\" class=\"dataframe\">\n",
       "  <thead>\n",
       "    <tr style=\"text-align: right;\">\n",
       "      <th></th>\n",
       "      <th>Age</th>\n",
       "      <th>Work Industry</th>\n",
       "      <th>Job title</th>\n",
       "      <th>Annual Salary</th>\n",
       "      <th>Currency</th>\n",
       "      <th>Country</th>\n",
       "      <th>State (US)</th>\n",
       "      <th>City</th>\n",
       "      <th>Overall Work Exp.</th>\n",
       "      <th>Fieldwork Exp.</th>\n",
       "      <th>Level of Education</th>\n",
       "      <th>Gender</th>\n",
       "      <th>Race</th>\n",
       "    </tr>\n",
       "  </thead>\n",
       "  <tbody>\n",
       "    <tr>\n",
       "      <th>7696</th>\n",
       "      <td>25-34</td>\n",
       "      <td>Academia</td>\n",
       "      <td>Assistant</td>\n",
       "      <td>15000.0</td>\n",
       "      <td>USD</td>\n",
       "      <td>Russia</td>\n",
       "      <td>NaN</td>\n",
       "      <td>Moscow</td>\n",
       "      <td>8 - 10 years</td>\n",
       "      <td>5 - 7 years</td>\n",
       "      <td>PhD</td>\n",
       "      <td>Woman</td>\n",
       "      <td>White</td>\n",
       "    </tr>\n",
       "  </tbody>\n",
       "</table>\n",
       "</div>"
      ],
      "text/plain": [
       "        Age Work Industry   Job title  Annual Salary Currency  Country  \\\n",
       "7696  25-34     Academia   Assistant         15000.0      USD  Russia    \n",
       "\n",
       "     State (US)     City Overall Work Exp. Fieldwork Exp. Level of Education  \\\n",
       "7696        NaN  Moscow       8 - 10 years    5 - 7 years                PhD   \n",
       "\n",
       "     Gender   Race  \n",
       "7696  Woman  White  "
      ]
     },
     "execution_count": 43,
     "metadata": {},
     "output_type": "execute_result"
    }
   ],
   "source": [
    "df.loc[df['Country'] == 'Russia ', :]"
   ]
  },
  {
   "cell_type": "code",
   "execution_count": 44,
   "id": "9401eca3",
   "metadata": {
    "collapsed": true,
    "id": "9401eca3",
    "jupyter": {
     "outputs_hidden": true
    },
    "outputId": "16165803-233a-4672-b2ae-283222fc3e26",
    "tags": []
   },
   "outputs": [
    {
     "data": {
      "text/html": [
       "<div>\n",
       "<style scoped>\n",
       "    .dataframe tbody tr th:only-of-type {\n",
       "        vertical-align: middle;\n",
       "    }\n",
       "\n",
       "    .dataframe tbody tr th {\n",
       "        vertical-align: top;\n",
       "    }\n",
       "\n",
       "    .dataframe thead th {\n",
       "        text-align: right;\n",
       "    }\n",
       "</style>\n",
       "<table border=\"1\" class=\"dataframe\">\n",
       "  <thead>\n",
       "    <tr style=\"text-align: right;\">\n",
       "      <th></th>\n",
       "      <th>Age</th>\n",
       "      <th>Work Industry</th>\n",
       "      <th>Job title</th>\n",
       "      <th>Annual Salary</th>\n",
       "      <th>Currency</th>\n",
       "      <th>Country</th>\n",
       "      <th>State (US)</th>\n",
       "      <th>City</th>\n",
       "      <th>Overall Work Exp.</th>\n",
       "      <th>Fieldwork Exp.</th>\n",
       "      <th>Level of Education</th>\n",
       "      <th>Gender</th>\n",
       "      <th>Race</th>\n",
       "    </tr>\n",
       "  </thead>\n",
       "  <tbody>\n",
       "    <tr>\n",
       "      <th>23224</th>\n",
       "      <td>35-44</td>\n",
       "      <td>Computing or Tech</td>\n",
       "      <td>Technical Lead</td>\n",
       "      <td>195000.0</td>\n",
       "      <td>USD</td>\n",
       "      <td>Australian</td>\n",
       "      <td>NaN</td>\n",
       "      <td>Sydney</td>\n",
       "      <td>11 - 20 years</td>\n",
       "      <td>11 - 20 years</td>\n",
       "      <td>College degree</td>\n",
       "      <td>Man</td>\n",
       "      <td>White</td>\n",
       "    </tr>\n",
       "  </tbody>\n",
       "</table>\n",
       "</div>"
      ],
      "text/plain": [
       "         Age      Work Industry       Job title  Annual Salary Currency  \\\n",
       "23224  35-44  Computing or Tech  Technical Lead       195000.0      USD   \n",
       "\n",
       "           Country State (US)    City Overall Work Exp. Fieldwork Exp.  \\\n",
       "23224  Australian         NaN  Sydney     11 - 20 years  11 - 20 years   \n",
       "\n",
       "      Level of Education Gender   Race  \n",
       "23224     College degree    Man  White  "
      ]
     },
     "execution_count": 44,
     "metadata": {},
     "output_type": "execute_result"
    }
   ],
   "source": [
    "df.loc[df['Country'] == 'Australian ', :]"
   ]
  },
  {
   "cell_type": "code",
   "execution_count": 45,
   "id": "04ef3318",
   "metadata": {
    "collapsed": true,
    "id": "04ef3318",
    "jupyter": {
     "outputs_hidden": true
    },
    "outputId": "b0d211fe-022e-4096-8c71-25a7af59ebc9",
    "tags": []
   },
   "outputs": [
    {
     "data": {
      "text/html": [
       "<div>\n",
       "<style scoped>\n",
       "    .dataframe tbody tr th:only-of-type {\n",
       "        vertical-align: middle;\n",
       "    }\n",
       "\n",
       "    .dataframe tbody tr th {\n",
       "        vertical-align: top;\n",
       "    }\n",
       "\n",
       "    .dataframe thead th {\n",
       "        text-align: right;\n",
       "    }\n",
       "</style>\n",
       "<table border=\"1\" class=\"dataframe\">\n",
       "  <thead>\n",
       "    <tr style=\"text-align: right;\">\n",
       "      <th></th>\n",
       "      <th>Age</th>\n",
       "      <th>Work Industry</th>\n",
       "      <th>Job title</th>\n",
       "      <th>Annual Salary</th>\n",
       "      <th>Currency</th>\n",
       "      <th>Country</th>\n",
       "      <th>State (US)</th>\n",
       "      <th>City</th>\n",
       "      <th>Overall Work Exp.</th>\n",
       "      <th>Fieldwork Exp.</th>\n",
       "      <th>Level of Education</th>\n",
       "      <th>Gender</th>\n",
       "      <th>Race</th>\n",
       "    </tr>\n",
       "  </thead>\n",
       "  <tbody>\n",
       "    <tr>\n",
       "      <th>6756</th>\n",
       "      <td>45-54</td>\n",
       "      <td>Education (Higher Education)</td>\n",
       "      <td>Librarian</td>\n",
       "      <td>69000.0</td>\n",
       "      <td>USD</td>\n",
       "      <td>United Arab Emirates</td>\n",
       "      <td>NaN</td>\n",
       "      <td>Dubai</td>\n",
       "      <td>21 - 30 years</td>\n",
       "      <td>11 - 20 years</td>\n",
       "      <td>Master's degree</td>\n",
       "      <td>Woman</td>\n",
       "      <td>White</td>\n",
       "    </tr>\n",
       "  </tbody>\n",
       "</table>\n",
       "</div>"
      ],
      "text/plain": [
       "        Age                 Work Industry  Job title  Annual Salary Currency  \\\n",
       "6756  45-54  Education (Higher Education)  Librarian        69000.0      USD   \n",
       "\n",
       "                    Country State (US)   City Overall Work Exp.  \\\n",
       "6756  United Arab Emirates         NaN  Dubai     21 - 30 years   \n",
       "\n",
       "     Fieldwork Exp. Level of Education Gender   Race  \n",
       "6756  11 - 20 years    Master's degree  Woman  White  "
      ]
     },
     "execution_count": 45,
     "metadata": {},
     "output_type": "execute_result"
    }
   ],
   "source": [
    "df.loc[df['Country'] == 'United Arab Emirates ', :]"
   ]
  },
  {
   "cell_type": "code",
   "execution_count": 46,
   "id": "11e36bc4",
   "metadata": {
    "collapsed": true,
    "id": "11e36bc4",
    "jupyter": {
     "outputs_hidden": true
    },
    "outputId": "8dcd970a-5ebc-4497-9155-b917ccb25950",
    "tags": []
   },
   "outputs": [
    {
     "data": {
      "text/plain": [
       "USA                      22237\n",
       "Australia                    8\n",
       "United Kingdom               7\n",
       "United Arab Emirates         1\n",
       "Russia                       1\n",
       "Australian                   1\n",
       "Name: Country, dtype: int64"
      ]
     },
     "execution_count": 46,
     "metadata": {},
     "output_type": "execute_result"
    }
   ],
   "source": [
    "# Como visto nas 3 células acima, percebe-se que o caractere em branco impediu que as strings fossem encontradas. \n",
    "\n",
    "dfCountry['Country'] = dfCountry['Country'].where(dfCountry['Country'].isin(['Russia ', 'Australia', 'Australian ', \n",
    "                                                                         'United Arab Emirates ', 'United Kingdom']), 'USA')\n",
    "dfCountry['Country'].value_counts()"
   ]
  },
  {
   "cell_type": "code",
   "execution_count": 47,
   "id": "965b7567",
   "metadata": {
    "collapsed": true,
    "id": "965b7567",
    "jupyter": {
     "outputs_hidden": true
    },
    "outputId": "f455aeb5-aad8-45ba-9ce0-f4efb0040102",
    "tags": []
   },
   "outputs": [
    {
     "data": {
      "text/plain": [
       "USA                     22237\n",
       "Australia                   9\n",
       "United Kingdom              7\n",
       "United Arab Emirates        1\n",
       "Russia                      1\n",
       "Name: Country, dtype: int64"
      ]
     },
     "execution_count": 47,
     "metadata": {},
     "output_type": "execute_result"
    }
   ],
   "source": [
    "#Vamos corrigi-las (além da correção de 'Australian ' para 'Australia').\n",
    "\n",
    "dfCountry['Country'].replace({'Russia ':'Russia', 'Australian ':'Australia', 'United Arab Emirates ': 'United Arab Emirates'}, \n",
    "                   inplace=True)\n",
    "dfCountry['Country'].value_counts()"
   ]
  },
  {
   "cell_type": "code",
   "execution_count": 48,
   "id": "b483e6a6",
   "metadata": {
    "id": "b483e6a6",
    "outputId": "ed807baf-548f-4884-a722-d268eb02fc39"
   },
   "outputs": [
    {
     "data": {
      "text/plain": [
       "(22255,)"
      ]
     },
     "execution_count": 48,
     "metadata": {},
     "output_type": "execute_result"
    }
   ],
   "source": [
    "dfCountry['Country'].shape"
   ]
  },
  {
   "cell_type": "code",
   "execution_count": 49,
   "id": "136b420a-f939-4d29-8d5c-71e2a8112810",
   "metadata": {
    "id": "136b420a-f939-4d29-8d5c-71e2a8112810",
    "outputId": "cf7c96fb-54d4-4c96-bdb3-c2bfc20555ec",
    "scrolled": true
   },
   "outputs": [
    {
     "data": {
      "text/plain": [
       "(23119,)"
      ]
     },
     "execution_count": 49,
     "metadata": {},
     "output_type": "execute_result"
    }
   ],
   "source": [
    "df['Country'].shape"
   ]
  },
  {
   "cell_type": "code",
   "execution_count": 50,
   "id": "ac81e98b",
   "metadata": {
    "tags": []
   },
   "outputs": [
    {
     "data": {
      "text/plain": [
       "(22237,)"
      ]
     },
     "execution_count": 50,
     "metadata": {},
     "output_type": "execute_result"
    }
   ],
   "source": [
    "#Percebe-se que a imensa maioria dos dados para a coluna Country são de residentes do USA. Devido a isso e a grande falta de \n",
    "#padrão no preenchimento dos dados, serão considerados para análise, apenas os residentes dos Estados Unidos. \n",
    "df = dfCountry.reset_index(drop=True)\n",
    "df.drop(df[df['Country'] != 'USA'].index, axis=0, inplace=True)\n",
    "df['Country'].shape"
   ]
  },
  {
   "cell_type": "code",
   "execution_count": 51,
   "id": "3bac794a",
   "metadata": {},
   "outputs": [
    {
     "data": {
      "text/plain": [
       "USA    22237\n",
       "Name: Country, dtype: int64"
      ]
     },
     "execution_count": 51,
     "metadata": {},
     "output_type": "execute_result"
    }
   ],
   "source": [
    "df['Country'].value_counts()"
   ]
  },
  {
   "cell_type": "markdown",
   "id": "27b084aa",
   "metadata": {},
   "source": [
    "### Análise da Coluna \"State (US)\""
   ]
  },
  {
   "cell_type": "code",
   "execution_count": 52,
   "id": "a22f4251",
   "metadata": {
    "collapsed": true,
    "jupyter": {
     "outputs_hidden": true
    },
    "tags": []
   },
   "outputs": [
    {
     "data": {
      "text/plain": [
       "Alabama, Montana                                                                                                         1\n",
       "Arkansas, Iowa, Massachusetts, Ohio, Wyoming                                                                             1\n",
       "Massachusetts, Vermont                                                                                                   1\n",
       "District of Columbia, Maryland, Virginia                                                                                 1\n",
       "Colorado, Massachusetts                                                                                                  1\n",
       "Montana, Wyoming                                                                                                         1\n",
       "New Jersey, Virginia                                                                                                     1\n",
       "Nevada, Oregon                                                                                                           1\n",
       "Massachusetts, Pennsylvania                                                                                              1\n",
       "Alaska, Idaho, Oregon, Utah, Washington                                                                                  1\n",
       "Arizona, California, Nevada, Texas                                                                                       1\n",
       "Illinois, Kentucky                                                                                                       1\n",
       "Illinois, Wisconsin                                                                                                      1\n",
       "California, Oklahoma                                                                                                     1\n",
       "Alabama, Kansas                                                                                                          1\n",
       "Arizona, Utah                                                                                                            1\n",
       "Alabama, Minnesota, Nevada                                                                                               1\n",
       "Maine, Massachusetts, New Hampshire, North Carolina                                                                      1\n",
       "Colorado, Nevada                                                                                                         1\n",
       "Georgia, Minnesota                                                                                                       1\n",
       "Massachusetts, Rhode Island                                                                                              1\n",
       "Michigan, South Carolina                                                                                                 1\n",
       "Alaska, Maryland                                                                                                         1\n",
       "Georgia, Washington                                                                                                      1\n",
       "California, Pennsylvania                                                                                                 1\n",
       "Alabama, District of Columbia                                                                                            1\n",
       "Alabama, California                                                                                                      1\n",
       "Massachusetts, Oregon                                                                                                    1\n",
       "New York, Texas                                                                                                          1\n",
       "California, Montana                                                                                                      1\n",
       "Iowa, Utah, Vermont                                                                                                      1\n",
       "Texas, Virginia                                                                                                          1\n",
       "California, Illinois, Massachusetts, North Carolina, South Carolina, Virginia                                            1\n",
       "California, Maryland                                                                                                     1\n",
       "Mississippi, Missouri                                                                                                    1\n",
       "New York, Virginia                                                                                                       1\n",
       "Oregon, Washington                                                                                                       1\n",
       "California, District of Columbia, Illinois, Iowa, Maryland, Minnesota                                                    1\n",
       "Arizona, New York                                                                                                        1\n",
       "California, New York                                                                                                     1\n",
       "Iowa, Nebraska                                                                                                           1\n",
       "New York, Oregon, Vermont                                                                                                1\n",
       "Pennsylvania, Rhode Island                                                                                               1\n",
       "Florida, New Hampshire, Wisconsin                                                                                        1\n",
       "Indiana, Massachusetts                                                                                                   1\n",
       "Georgia, Tennessee                                                                                                       1\n",
       "Illinois, North Carolina                                                                                                 1\n",
       "District of Columbia, Washington                                                                                         1\n",
       "Maryland, New York                                                                                                       1\n",
       "Louisiana, Washington                                                                                                    1\n",
       "California, New Jersey                                                                                                   1\n",
       "Arizona, Hawaii, Illinois, Michigan, Utah, Wyoming                                                                       1\n",
       "Colorado, Illinois                                                                                                       1\n",
       "Ohio, Washington                                                                                                         1\n",
       "Indiana, Ohio                                                                                                            1\n",
       "California, Texas                                                                                                        1\n",
       "Florida, Georgia, South Carolina                                                                                         1\n",
       "Georgia, Massachusetts                                                                                                   1\n",
       "Arkansas, Illinois                                                                                                       1\n",
       "Utah, Vermont                                                                                                            1\n",
       "Delaware, Pennsylvania                                                                                                   1\n",
       "Ohio, Wyoming                                                                                                            1\n",
       "Michigan, Texas, Washington                                                                                              1\n",
       "North Carolina, Utah                                                                                                     1\n",
       "District of Columbia, Maryland, Pennsylvania, Virginia                                                                   1\n",
       "Georgia, New York                                                                                                        1\n",
       "Arizona, Washington                                                                                                      1\n",
       "Arizona, California                                                                                                      2\n",
       "California, Colorado                                                                                                     2\n",
       "Massachusetts, New Hampshire                                                                                             2\n",
       "Kentucky, Ohio                                                                                                           2\n",
       "Kansas, Missouri                                                                                                         2\n",
       "Arkansas, Idaho, Kansas, Louisiana, Michigan, Mississippi, Nevada, New York, South Carolina, Tennessee, Washington       2\n",
       "Maryland, Virginia                                                                                                       3\n",
       "California, Oregon                                                                                                       4\n",
       "New Jersey, Pennsylvania                                                                                                 4\n",
       "District of Columbia, Maryland                                                                                           4\n",
       "District of Columbia, Virginia                                                                                           5\n",
       "New Jersey, New York                                                                                                     5\n",
       "Wyoming                                                                                                                 24\n",
       "South Dakota                                                                                                            25\n",
       "Hawaii                                                                                                                  27\n",
       "North Dakota                                                                                                            35\n",
       "West Virginia                                                                                                           40\n",
       "Delaware                                                                                                                43\n",
       "Mississippi                                                                                                             49\n",
       "Montana                                                                                                                 60\n",
       "Alaska                                                                                                                  61\n",
       "Vermont                                                                                                                 67\n",
       "Arkansas                                                                                                                70\n",
       "Rhode Island                                                                                                            74\n",
       "Nevada                                                                                                                  88\n",
       "New Mexico                                                                                                              94\n",
       "Idaho                                                                                                                   97\n",
       "Nebraska                                                                                                               103\n",
       "Oklahoma                                                                                                               108\n",
       "Alabama                                                                                                                110\n",
       "New Hampshire                                                                                                          116\n",
       "Maine                                                                                                                  121\n",
       "Louisiana                                                                                                              125\n",
       "South Carolina                                                                                                         141\n",
       "Kansas                                                                                                                 146\n",
       "NaN                                                                                                                    168\n",
       "Iowa                                                                                                                   170\n",
       "Kentucky                                                                                                               188\n",
       "Utah                                                                                                                   195\n",
       "Connecticut                                                                                                            232\n",
       "Tennessee                                                                                                              273\n",
       "Arizona                                                                                                                295\n",
       "Indiana                                                                                                                315\n",
       "Missouri                                                                                                               321\n",
       "New Jersey                                                                                                             384\n",
       "Wisconsin                                                                                                              443\n",
       "Florida                                                                                                                505\n",
       "Georgia                                                                                                                508\n",
       "Michigan                                                                                                               525\n",
       "Maryland                                                                                                               535\n",
       "North Carolina                                                                                                         574\n",
       "Oregon                                                                                                                 606\n",
       "Colorado                                                                                                               607\n",
       "Ohio                                                                                                                   615\n",
       "Minnesota                                                                                                              690\n",
       "Virginia                                                                                                               756\n",
       "Pennsylvania                                                                                                           912\n",
       "District of Columbia                                                                                                   947\n",
       "Washington                                                                                                            1152\n",
       "Illinois                                                                                                              1166\n",
       "Texas                                                                                                                 1200\n",
       "Massachusetts                                                                                                         1452\n",
       "New York                                                                                                              2087\n",
       "California                                                                                                            2488\n",
       "Name: State (US), dtype: int64"
      ]
     },
     "execution_count": 52,
     "metadata": {},
     "output_type": "execute_result"
    }
   ],
   "source": [
    "#Percebe-se que há pessoas que trabalham em mais de uma cidade. Incluirei essas em um mesmo conjunto \n",
    "#chamado \"More than one State\". Washington DC foi considerado tanto como estado como cidade.\n",
    "df['State (US)'].value_counts(dropna=False, ascending=True)"
   ]
  },
  {
   "cell_type": "code",
   "execution_count": 53,
   "id": "efa9db5d",
   "metadata": {},
   "outputs": [],
   "source": [
    "df.loc[df['State (US)'].str.contains(r'(,)+', regex=True, na=False), ['State (US)']] = 'More than one State'"
   ]
  },
  {
   "cell_type": "code",
   "execution_count": 54,
   "id": "cd30ccb7",
   "metadata": {
    "collapsed": true,
    "jupyter": {
     "outputs_hidden": true
    },
    "tags": []
   },
   "outputs": [
    {
     "data": {
      "text/plain": [
       "California              2488\n",
       "New York                2087\n",
       "Massachusetts           1452\n",
       "Texas                   1200\n",
       "Illinois                1166\n",
       "Washington              1152\n",
       "District of Columbia     947\n",
       "Pennsylvania             912\n",
       "Virginia                 756\n",
       "Minnesota                690\n",
       "Ohio                     615\n",
       "Colorado                 607\n",
       "Oregon                   606\n",
       "North Carolina           574\n",
       "Maryland                 535\n",
       "Michigan                 525\n",
       "Georgia                  508\n",
       "Florida                  505\n",
       "Wisconsin                443\n",
       "New Jersey               384\n",
       "Missouri                 321\n",
       "Indiana                  315\n",
       "Arizona                  295\n",
       "Tennessee                273\n",
       "Connecticut              232\n",
       "Utah                     195\n",
       "Kentucky                 188\n",
       "Iowa                     170\n",
       "NaN                      168\n",
       "Kansas                   146\n",
       "South Carolina           141\n",
       "Louisiana                125\n",
       "Maine                    121\n",
       "New Hampshire            116\n",
       "Alabama                  110\n",
       "Oklahoma                 108\n",
       "More than one State      104\n",
       "Nebraska                 103\n",
       "Idaho                     97\n",
       "New Mexico                94\n",
       "Nevada                    88\n",
       "Rhode Island              74\n",
       "Arkansas                  70\n",
       "Vermont                   67\n",
       "Alaska                    61\n",
       "Montana                   60\n",
       "Mississippi               49\n",
       "Delaware                  43\n",
       "West Virginia             40\n",
       "North Dakota              35\n",
       "Hawaii                    27\n",
       "South Dakota              25\n",
       "Wyoming                   24\n",
       "Name: State (US), dtype: int64"
      ]
     },
     "execution_count": 54,
     "metadata": {},
     "output_type": "execute_result"
    }
   ],
   "source": [
    "df['State (US)'].value_counts(dropna=False)"
   ]
  },
  {
   "cell_type": "code",
   "execution_count": 55,
   "id": "762de3b2",
   "metadata": {},
   "outputs": [
    {
     "data": {
      "text/plain": [
       "53"
      ]
     },
     "execution_count": 55,
     "metadata": {},
     "output_type": "execute_result"
    }
   ],
   "source": [
    "#Os EUA possui 50 estados. As cateogiras dessa variável totalizaram 53 pois:\n",
    "#1. District of Columbia (Washington DC) foi considerado como estado (apesar de não ser nem cidade, mas sim um distrito)\n",
    "#2. Foi inserido o dado \"More than one State\"\n",
    "#3. Tem o label NaN dos dados de valores missing. \n",
    "len(df['State (US)'].value_counts(dropna=False)) "
   ]
  },
  {
   "cell_type": "code",
   "execution_count": 58,
   "id": "1d4161fd",
   "metadata": {},
   "outputs": [
    {
     "data": {
      "image/png": "[encoded data removed]",
      "text/plain": [
       "<Figure size 1300x500 with 1 Axes>"
      ]
     },
     "metadata": {},
     "output_type": "display_data"
    }
   ],
   "source": [
    "fig, ax = plt.subplots(figsize=(13,5))\n",
    "sns.set_theme(style='darkgrid', font= 'verdana' )\n",
    "states = df['State (US)'].value_counts()[0:10]\n",
    "ax = sns.barplot(x=states, y= states.index)\n",
    "ax.set_title('Estados com mais Participantes', fontsize= 18)\n",
    "ax.set_xlabel('N° de Participantes', fontsize= 13)\n",
    "ax.set_xticks(np.arange(0,2750,250))\n",
    "\n",
    "plt.tight_layout()"
   ]
  },
  {
   "cell_type": "markdown",
   "id": "36e29ce8",
   "metadata": {},
   "source": [
    "### Análise da Coluna \"City\""
   ]
  },
  {
   "cell_type": "markdown",
   "id": "958f657c",
   "metadata": {
    "tags": []
   },
   "source": [
    "> Há muita cardinalidade nos dados e falta de padrão no preenchimento. Apenas selecionarei as 10 cidades onde as pessoas mais trabalham. Nessas cidades, será feito tratamento dos dados. Sempre que possível, será considerado a cidade onde o trabalhador reside caso esse trabalhe remoto.  Para os preenchimentos onde não se especifica a cidade em si, mas sim uma medida de proximidade de uma determinada cidade, será considerada a cidade usada como referência. Caso contenha duas cidades diferentes de estados diferentes sem especificar o local de moradia, será atribuido como \"More than one City\" (mais do que uma cidade). Caso se especifique o estado, será utilizado a capital do respectivo estado."
   ]
  },
  {
   "cell_type": "code",
   "execution_count": 59,
   "id": "d20d7379",
   "metadata": {
    "tags": []
   },
   "outputs": [
    {
     "data": {
      "text/plain": [
       "55"
      ]
     },
     "execution_count": 59,
     "metadata": {},
     "output_type": "execute_result"
    }
   ],
   "source": [
    "df['City'].isnull().sum()"
   ]
  },
  {
   "cell_type": "code",
   "execution_count": 60,
   "id": "59ad9d09-c20b-4e5a-9c05-c486976e1056",
   "metadata": {},
   "outputs": [
    {
     "data": {
      "text/plain": [
       "3694"
      ]
     },
     "execution_count": 60,
     "metadata": {},
     "output_type": "execute_result"
    }
   ],
   "source": [
    "#Cardinalidade muito grande (além da ausência de padrão de preenchimento).\n",
    "len(df['City'].value_counts(dropna=False))"
   ]
  },
  {
   "cell_type": "code",
   "execution_count": 61,
   "id": "af9cf7b4-6d75-45ea-a1e9-a530cea1e00d",
   "metadata": {
    "tags": []
   },
   "outputs": [
    {
     "data": {
      "image/png": "[encoded data removed]",
      "text/plain": [
       "<Figure size 1300x500 with 1 Axes>"
      ]
     },
     "metadata": {},
     "output_type": "display_data"
    }
   ],
   "source": [
    "fig, ax = plt.subplots(figsize=(13,5))\n",
    "sns.set_theme(style = 'darkgrid', font='verdana')\n",
    "cities = df['City'].value_counts(dropna=False)[0:10]\n",
    "ax = sns.barplot(y=cities.index, x=cities)\n",
    "ax.set_title('Cidades com mais Participantes', fontsize= 18)\n",
    "ax.set_xlabel('N° de Participantes', fontsize= 13)\n",
    "ax.set_xticks(np.arange(0,1600,100))\n",
    "\n",
    "plt.tight_layout()"
   ]
  },
  {
   "cell_type": "markdown",
   "id": "e6140647",
   "metadata": {},
   "source": [
    "#### Boston   "
   ]
  },
  {
   "cell_type": "code",
   "execution_count": 62,
   "id": "aa744001",
   "metadata": {
    "collapsed": true,
    "jupyter": {
     "outputs_hidden": true
    },
    "tags": []
   },
   "outputs": [
    {
     "data": {
      "text/plain": [
       "City                                                                             \n",
       "Boston                                                                               735\n",
       "Boston                                                                                49\n",
       "Boston, MA                                                                            13\n",
       "Boston area                                                                            8\n",
       "Boston Area                                                                            5\n",
       "Boston suburbs                                                                         2\n",
       "Metro Boston                                                                           2\n",
       "North of Boston                                                                        2\n",
       "Greater Boston Area                                                                    2\n",
       "Greater Boston area                                                                    2\n",
       "Remote. Live near Boston                                                               1\n",
       "NA (remote). Live near Boston, work is based in upstate NY                             1\n",
       "HQ us in Cambridge, Ma but moving to the suburbs. I live right outside of Boston.      1\n",
       "a suburb of Boston                                                                     1\n",
       "I left Boston for Indiana, so get a Boston salary in south bend                        1\n",
       "Lynnfield (Boston metro area)                                                          1\n",
       "Woburn (Greater Boston area; I provide services in a number of towns.)                 1\n",
       "Metrowest Boston                                                                       1\n",
       "Metrowest Boston area                                                                  1\n",
       "NYC, remotely for a Boston company                                                     1\n",
       "Remote. Company is in Boston, I am in SF                                               1\n",
       "Near Boston                                                                            1\n",
       "Watertown (Greater Boston area)                                                        1\n",
       "Waltham (suburb of Boston)                                                             1\n",
       "Outside Boston                                                                         1\n",
       "San Francisco, but company is Boston based                                             1\n",
       "Raleigh; role based out of Boston MA                                                   1\n",
       "Salem (remote for Boston Mass)                                                         1\n",
       " Boston                                                                                1\n",
       "Fully Remote (Greater Boston)                                                          1\n",
       "Greater Boston                                                                         1\n",
       "Greater Boston                                                                         1\n",
       "Boston (Somerville specifically)                                                       1\n",
       "Boston (suburb)                                                                        1\n",
       "Boston MA                                                                              1\n",
       "Boston Massachusetts                                                                   1\n",
       "Boston Metro                                                                           1\n",
       "Boston Metro Area                                                                      1\n",
       "Boston Metro area                                                                      1\n",
       "Boston Suburb                                                                          1\n",
       "Boston metro                                                                           1\n",
       "Boston(ish)                                                                            1\n",
       "Boston, ma                                                                             1\n",
       "Boston/Cambridge                                                                       1\n",
       "Cambridge (Boston metro area)                                                          1\n",
       "Cambridge/Boston                                                                       1\n",
       "Charlestown (Boston)                                                                   1\n",
       "Columbus, Boston                                                                       1\n",
       "Company is in NYC, I'm remote in Boston                                                1\n",
       "Denver/Boston                                                                          1\n",
       "Eastern MA (not Boston)                                                                1\n",
       "outside of Boston                                                                      1\n",
       "dtype: int64"
      ]
     },
     "execution_count": 62,
     "metadata": {},
     "output_type": "execute_result"
    }
   ],
   "source": [
    "df.loc[df['City'].str.contains('Boston', na=False), ['City']].value_counts()"
   ]
  },
  {
   "cell_type": "code",
   "execution_count": 63,
   "id": "c2979c0c",
   "metadata": {},
   "outputs": [],
   "source": [
    "df['City'].loc[df['City'] == 'I left Boston for Indiana, so get a Boston salary in south bend '] = 'Indianápolis'\n",
    "df['City'].loc[df['City'] == 'NYC, remotely for a Boston company'] = 'New York City'\n",
    "df['City'].loc[df['City'] == 'Remote. Company is in Boston, I am in SF'] = 'San Francisco'\n",
    "df['City'].loc[df['City'] == 'San Francisco, but company is Boston based'] = 'San Francisco'\n",
    "df['City'].loc[df['City'] == 'Salem (remote for Boston Mass)'] = 'Salem'\n",
    "df['City'].loc[df['City'] == 'NYC, remotely for a Boston company'] = 'New York City'\n",
    "df['City'].loc[df['City'] == 'Raleigh; role based out of Boston MA'] = 'Raleigh'\n",
    "df['City'].loc[df['City'] == 'Denver/Boston'] = 'More than one City'"
   ]
  },
  {
   "cell_type": "code",
   "execution_count": 64,
   "id": "8b33e155",
   "metadata": {
    "collapsed": true,
    "jupyter": {
     "outputs_hidden": true
    },
    "tags": []
   },
   "outputs": [
    {
     "data": {
      "text/plain": [
       "City                                                                             \n",
       "Boston                                                                               735\n",
       "Boston                                                                                49\n",
       "Boston, MA                                                                            13\n",
       "Boston area                                                                            8\n",
       "Boston Area                                                                            5\n",
       "Boston suburbs                                                                         2\n",
       "Greater Boston Area                                                                    2\n",
       "Greater Boston area                                                                    2\n",
       "Metro Boston                                                                           2\n",
       "North of Boston                                                                        2\n",
       "HQ us in Cambridge, Ma but moving to the suburbs. I live right outside of Boston.      1\n",
       "Lynnfield (Boston metro area)                                                          1\n",
       "Metrowest Boston                                                                       1\n",
       "Metrowest Boston area                                                                  1\n",
       " Boston                                                                                1\n",
       "NA (remote). Live near Boston, work is based in upstate NY                             1\n",
       "Greater Boston                                                                         1\n",
       "Near Boston                                                                            1\n",
       "Outside Boston                                                                         1\n",
       "Remote. Live near Boston                                                               1\n",
       "Waltham (suburb of Boston)                                                             1\n",
       "Watertown (Greater Boston area)                                                        1\n",
       "Woburn (Greater Boston area; I provide services in a number of towns.)                 1\n",
       "a suburb of Boston                                                                     1\n",
       "Greater Boston                                                                         1\n",
       "Columbus, Boston                                                                       1\n",
       "Fully Remote (Greater Boston)                                                          1\n",
       "Boston Suburb                                                                          1\n",
       "Boston (Somerville specifically)                                                       1\n",
       "Boston (suburb)                                                                        1\n",
       "Boston MA                                                                              1\n",
       "Boston Massachusetts                                                                   1\n",
       "Boston Metro                                                                           1\n",
       "Boston Metro Area                                                                      1\n",
       "Boston Metro area                                                                      1\n",
       "Boston metro                                                                           1\n",
       "Eastern MA (not Boston)                                                                1\n",
       "Boston(ish)                                                                            1\n",
       "Boston, ma                                                                             1\n",
       "Boston/Cambridge                                                                       1\n",
       "Cambridge (Boston metro area)                                                          1\n",
       "Cambridge/Boston                                                                       1\n",
       "Charlestown (Boston)                                                                   1\n",
       "Company is in NYC, I'm remote in Boston                                                1\n",
       "outside of Boston                                                                      1\n",
       "dtype: int64"
      ]
     },
     "execution_count": 64,
     "metadata": {},
     "output_type": "execute_result"
    }
   ],
   "source": [
    "df.loc[df['City'].str.contains('Boston', na=False), ['City']].value_counts()"
   ]
  },
  {
   "cell_type": "code",
   "execution_count": 65,
   "id": "93574b2e-4947-485c-a6fb-3411e9877c08",
   "metadata": {},
   "outputs": [],
   "source": [
    "df.loc[df['City'].str.contains('Boston', na=False), ['City']] = 'Boston' "
   ]
  },
  {
   "cell_type": "code",
   "execution_count": 66,
   "id": "c646c6bc-8d65-4df8-b534-66080c073a1f",
   "metadata": {},
   "outputs": [
    {
     "data": {
      "text/plain": [
       "City  \n",
       "Boston    855\n",
       "dtype: int64"
      ]
     },
     "execution_count": 66,
     "metadata": {},
     "output_type": "execute_result"
    }
   ],
   "source": [
    "df.loc[df['City'].str.contains('Boston', na=False), ['City']].value_counts()"
   ]
  },
  {
   "cell_type": "markdown",
   "id": "d2e0359e",
   "metadata": {},
   "source": [
    "#### Chicago"
   ]
  },
  {
   "cell_type": "code",
   "execution_count": 67,
   "id": "5d40eea5",
   "metadata": {
    "collapsed": true,
    "jupyter": {
     "outputs_hidden": true
    },
    "tags": []
   },
   "outputs": [
    {
     "data": {
      "text/plain": [
       "City                                                                                \n",
       "Chicago                                                                                 726\n",
       "Chicago                                                                                  70\n",
       "Chicago suburbs                                                                          12\n",
       "Chicago Suburbs                                                                           8\n",
       "North Chicago                                                                             4\n",
       "Chicagoland                                                                               4\n",
       "Chicago area                                                                              4\n",
       "Chicago, IL                                                                               4\n",
       "Suburban Chicago                                                                          3\n",
       " Chicago                                                                                  2\n",
       "Chicago (suburbs)                                                                         2\n",
       "Greater Chicago Area                                                                      2\n",
       "Suburb of Chicago                                                                         2\n",
       "Home plus travel to customers. Near Chicago                                               1\n",
       "Naperville (Chicago area)                                                                 1\n",
       "Hoffman Estates (suburb of Chicago)                                                       1\n",
       "Near Chicago                                                                              1\n",
       "Northwest Chicago suburbs                                                                 1\n",
       "North Chicago                                                                             1\n",
       "East Chicago                                                                              1\n",
       "Office was in Chicago, now WFH in WI                                                      1\n",
       "Remote (Chicago)                                                                          1\n",
       "Schaumburg (Chicago Metro Area)                                                           1\n",
       "Suburban Chicago, Illinois                                                                1\n",
       "Work remotely, but the company is based out of Chicago, IL and I work in Newark, NJ       1\n",
       "Greater Chicago                                                                           1\n",
       "Chicago/Deerfield (two offices)                                                           1\n",
       "Denver, Chicago                                                                           1\n",
       "Chicagoland Area                                                                          1\n",
       "Affluent Chicago suburb                                                                   1\n",
       "Chicago (but distributed workplace)                                                       1\n",
       "Chicago (remote)                                                                          1\n",
       "Chicago -remote position though                                                           1\n",
       "Chicago / FT Remote                                                                       1\n",
       "Chicago Area                                                                              1\n",
       "Chicago Metro                                                                             1\n",
       "Chicago Suburbs                                                                           1\n",
       "Chicago area mostly, but also the US and Canada                                           1\n",
       "Chicago but the company is remote                                                         1\n",
       "Chicago metro                                                                             1\n",
       "Chicago, IL                                                                               1\n",
       "Chicago, IL (but I work remotely)                                                         1\n",
       " Chicago                                                                                  1\n",
       "Chicago/Evanston                                                                          1\n",
       "greater Chicagoland                                                                       1\n",
       "dtype: int64"
      ]
     },
     "execution_count": 67,
     "metadata": {},
     "output_type": "execute_result"
    }
   ],
   "source": [
    "df.loc[df['City'].str.contains('Chicago', na=False), ['City']].value_counts()"
   ]
  },
  {
   "cell_type": "code",
   "execution_count": 68,
   "id": "a582cb4a",
   "metadata": {},
   "outputs": [],
   "source": [
    "df['City'].loc[df['City'] == 'Work remotely, but the company is based out of Chicago, IL and I work in Newark, NJ'] = 'Newark'\n",
    "df['City'].loc[df['City'] == 'Office was in Chicago, now WFH in WI'] = 'Madison'\n",
    "df['City'].loc[df['City'] == 'Chicago/Evanston'] = 'More than one City'\n",
    "df['City'].loc[df['City'] == 'Chicago/Deerfield (two offices)'] = 'More than one City'\n",
    "df['City'].loc[df['City'] == 'Denver, Chicago'] = 'More than one City'"
   ]
  },
  {
   "cell_type": "code",
   "execution_count": 69,
   "id": "40c2136a",
   "metadata": {
    "collapsed": true,
    "jupyter": {
     "outputs_hidden": true
    },
    "tags": []
   },
   "outputs": [
    {
     "data": {
      "text/plain": [
       "City                                                                                \n",
       "Chicago                                                                                 726\n",
       "Chicago                                                                                  70\n",
       "Chicago suburbs                                                                          12\n",
       "Chicago Suburbs                                                                           8\n",
       "Chicago area                                                                              4\n",
       "Chicagoland                                                                               4\n",
       "Chicago, IL                                                                               4\n",
       "North Chicago                                                                             4\n",
       "Suburban Chicago                                                                          3\n",
       "Greater Chicago Area                                                                      2\n",
       " Chicago                                                                                  2\n",
       "Suburb of Chicago                                                                         2\n",
       "Chicago (suburbs)                                                                         2\n",
       "Northwest Chicago suburbs                                                                 1\n",
       "East Chicago                                                                              1\n",
       "North Chicago                                                                             1\n",
       "Remote (Chicago)                                                                          1\n",
       "Schaumburg (Chicago Metro Area)                                                           1\n",
       "Near Chicago                                                                              1\n",
       "Naperville (Chicago area)                                                                 1\n",
       "Home plus travel to customers. Near Chicago                                               1\n",
       "Hoffman Estates (suburb of Chicago)                                                       1\n",
       "Suburban Chicago, Illinois                                                                1\n",
       "Work remotely, but the company is based out of Chicago, IL and I work in Newark, NJ       1\n",
       "Greater Chicago                                                                           1\n",
       "Chicago, IL (but I work remotely)                                                         1\n",
       "Chicagoland Area                                                                          1\n",
       "Chicago/Evanston                                                                          1\n",
       " Chicago                                                                                  1\n",
       "Chicago, IL                                                                               1\n",
       "Chicago metro                                                                             1\n",
       "Chicago but the company is remote                                                         1\n",
       "Chicago area mostly, but also the US and Canada                                           1\n",
       "Chicago Suburbs                                                                           1\n",
       "Chicago Metro                                                                             1\n",
       "Chicago Area                                                                              1\n",
       "Chicago / FT Remote                                                                       1\n",
       "Chicago -remote position though                                                           1\n",
       "Chicago (remote)                                                                          1\n",
       "Chicago (but distributed workplace)                                                       1\n",
       "Affluent Chicago suburb                                                                   1\n",
       "greater Chicagoland                                                                       1\n",
       "dtype: int64"
      ]
     },
     "execution_count": 69,
     "metadata": {},
     "output_type": "execute_result"
    }
   ],
   "source": [
    "df.loc[df['City'].str.contains('Chicago', na=False), ['City']].value_counts()"
   ]
  },
  {
   "cell_type": "code",
   "execution_count": 70,
   "id": "88a19d24",
   "metadata": {},
   "outputs": [],
   "source": [
    "df.loc[df['City'].str.contains('Chicago', na=False), ['City']] = 'Chicago'"
   ]
  },
  {
   "cell_type": "code",
   "execution_count": 71,
   "id": "0b07e072",
   "metadata": {},
   "outputs": [
    {
     "data": {
      "text/plain": [
       "City   \n",
       "Chicago    872\n",
       "dtype: int64"
      ]
     },
     "execution_count": 71,
     "metadata": {},
     "output_type": "execute_result"
    }
   ],
   "source": [
    "df.loc[df['City'].str.contains('Chicago', na=False), ['City']].value_counts()"
   ]
  },
  {
   "cell_type": "markdown",
   "id": "84330be9",
   "metadata": {},
   "source": [
    "#### New York City"
   ]
  },
  {
   "cell_type": "code",
   "execution_count": 72,
   "id": "83b68475",
   "metadata": {
    "tags": []
   },
   "outputs": [
    {
     "data": {
      "text/plain": [
       "City                           \n",
       "New York                           682\n",
       "New York City                      477\n",
       "New York                            76\n",
       "New York City                       20\n",
       "New York, NY                         6\n",
       "New York city                        6\n",
       "Austin / New York                    1\n",
       "New York City/Brooklyn               1\n",
       "New YorknCity                        1\n",
       "New York, New York                   1\n",
       "New York, NY                         1\n",
       "New York city                        1\n",
       "New York Metro                       1\n",
       "New York City, New York              1\n",
       "New York City, currently remote      1\n",
       "Greater New York Metro Area          1\n",
       "New York City Suburbs                1\n",
       "New York City (remote)               1\n",
       "New York City (The Bronx)            1\n",
       "New York CIty                        1\n",
       "New York Buty                        1\n",
       "Upstate New York                     1\n",
       "dtype: int64"
      ]
     },
     "execution_count": 72,
     "metadata": {},
     "output_type": "execute_result"
    }
   ],
   "source": [
    "df.loc[df['City'].str.contains('New York', na=False), ['City']].value_counts()"
   ]
  },
  {
   "cell_type": "code",
   "execution_count": 73,
   "id": "398e6454",
   "metadata": {},
   "outputs": [],
   "source": [
    "df.loc[df['City'].str.contains('New York', na=False), ['City']] = 'New York City'"
   ]
  },
  {
   "cell_type": "code",
   "execution_count": 74,
   "id": "9cf6a304",
   "metadata": {
    "tags": []
   },
   "outputs": [
    {
     "data": {
      "text/plain": [
       "City                                                                               \n",
       "NYC                                                                                    211\n",
       "NYC                                                                                      8\n",
       "NY                                                                                       6\n",
       "Upstate NY                                                                               4\n",
       "Albany, NY                                                                               3\n",
       "Rochester, NY                                                                            3\n",
       "Hudson, NY                                                                               2\n",
       "Upstate, NY                                                                              1\n",
       "Primary WFH or NYC; however travel to client site weekly in the \"before times\"           1\n",
       "NYC metro area                                                                           1\n",
       "Work remotely for a NYC business from Portland, ME                                       1\n",
       "Westchester/NYC                                                                          1\n",
       "NYC, NY                                                                                  1\n",
       "NYC, currently WFH                                                                       1\n",
       "Plattsburgh, NY                                                                          1\n",
       "WFH in Northern NJ but company HQ is in Illinois, local office NYC                       1\n",
       "Remote - previously NYC                                                                  1\n",
       "Tarrytown, NY                                                                            1\n",
       "Remote but NYC                                                                           1\n",
       "Remote/NYC HQ                                                                            1\n",
       "NYC (remotely)                                                                           1\n",
       "Rural small town western NY                                                              1\n",
       "Schenectady, NY                                                                          1\n",
       "Suburb city in Metro NY area                                                             1\n",
       "Suburban NYC Metro Area                                                                  1\n",
       "NYC - Queens                                                                             1\n",
       "NYC (but I work remote)                                                                  1\n",
       "NYC (remote)                                                                             1\n",
       "Greater NYC area                                                                         1\n",
       "Central NY                                                                               1\n",
       "Cold Spring, NY                                                                          1\n",
       "Company is based in Nashville, I work remotely from NYC                                  1\n",
       "Cortland, NY                                                                             1\n",
       "Denver (but remote - company is NYC)                                                     1\n",
       "Gloversville, NY                                                                         1\n",
       "Greater NYC Area                                                                         1\n",
       "Greater NYC Metro                                                                        1\n",
       "Hudson Valley NY                                                                         1\n",
       "Buffalo, NY                                                                              1\n",
       "Ithaca NY                                                                                1\n",
       "Ithaca, NY                                                                               1\n",
       "Long Island, NY                                                                          1\n",
       "Merrick - my home, but we do have an office in NYC.  Main office is in Seattle, WA.      1\n",
       "Metro NYC                                                                                1\n",
       "NY Metro                                                                                 1\n",
       "NY Suburb                                                                                1\n",
       "NY metro area but not NYC                                                                1\n",
       "near Buffalo, NY                                                                         1\n",
       "dtype: int64"
      ]
     },
     "execution_count": 74,
     "metadata": {},
     "output_type": "execute_result"
    }
   ],
   "source": [
    "df.loc[df['City'].str.contains(r'(NY)|(NYC)|(Upstate NY)|(NYC, NY)'\n",
    "                               , regex=True, na=False), ['City']].value_counts()"
   ]
  },
  {
   "cell_type": "code",
   "execution_count": 75,
   "id": "f1edea71",
   "metadata": {},
   "outputs": [],
   "source": [
    "df['City'].loc[df['City'] == 'NA (remote). Live near Boston, work is based in upstate NY'] = 'Boston'\n",
    "df['City'].loc[df['City'] == 'NY metro area but not NYC'] = 'New York Metro Area'\n",
    "df['City'].loc[df['City'] == 'WFH in Northern NJ but company HQ is in Illinois, local office NYC'] = 'Northern New Jersey'\n",
    "df['City'].loc[df['City'] == 'Denver (but remote - company is NYC)'] = 'Denver'"
   ]
  },
  {
   "cell_type": "code",
   "execution_count": 76,
   "id": "753bd5c3-b3b3-4586-83c4-b5d0220a1796",
   "metadata": {},
   "outputs": [],
   "source": [
    "#Tratei as cidades acima para que a linha de código abaixo não as considere como NYC. \n",
    "df['City'].loc[df['City'] == 'NYC'] = 'New York City'"
   ]
  },
  {
   "cell_type": "markdown",
   "id": "8650e437",
   "metadata": {},
   "source": [
    "#### San Francisco"
   ]
  },
  {
   "cell_type": "code",
   "execution_count": 77,
   "id": "7c5e729a",
   "metadata": {
    "tags": []
   },
   "outputs": [
    {
     "data": {
      "text/plain": [
       "City                                                        \n",
       "San Francisco                                                   480\n",
       "San Francisco                                                    78\n",
       "San Francisco Bay Area                                           17\n",
       "South San Francisco                                              10\n",
       "San Francisco Bay area                                            2\n",
       "San Francisco (nominally; I work from home now due to COVID)      1\n",
       "San Francisco, CA                                                 1\n",
       "WFH in San Francisco Bay Area                                     1\n",
       "dtype: int64"
      ]
     },
     "execution_count": 77,
     "metadata": {},
     "output_type": "execute_result"
    }
   ],
   "source": [
    "df.loc[df['City'].str.contains('San Francisco', na=False), ['City']].value_counts()"
   ]
  },
  {
   "cell_type": "code",
   "execution_count": 78,
   "id": "0c354d4c",
   "metadata": {},
   "outputs": [],
   "source": [
    "df.loc[df['City'].str.contains('San Francisco', na=False), ['City']] = 'San Francisco'"
   ]
  },
  {
   "cell_type": "markdown",
   "id": "93b2de31",
   "metadata": {},
   "source": [
    "#### Seattle"
   ]
  },
  {
   "cell_type": "code",
   "execution_count": 79,
   "id": "3af27dbe",
   "metadata": {
    "tags": []
   },
   "outputs": [
    {
     "data": {
      "text/plain": [
       "City                                                                               \n",
       "Seattle                                                                                674\n",
       "Seattle                                                                                 42\n",
       "Seattle, WA                                                                              5\n",
       "Seattle Area                                                                             2\n",
       "Seattle area                                                                             2\n",
       "Greater Seattle area                                                                     1\n",
       "Yakima but my employer is based in Seattle                                               1\n",
       "Seattle, wa                                                                              1\n",
       "Seattle, Washington                                                                      1\n",
       "Seattle, Wa                                                                              1\n",
       "Seattle, WA                                                                              1\n",
       "Seattle Metro                                                                            1\n",
       "Seattle metro                                                                            1\n",
       "Merrick - my home, but we do have an office in NYC.  Main office is in Seattle, WA.      1\n",
       "Seattle (remote)                                                                         1\n",
       "Seattle (company is in Redmond)                                                          1\n",
       "Seattle (but fully remote)                                                               1\n",
       "Near Seattle                                                                             1\n",
       "greater Seattle area                                                                     1\n",
       "dtype: int64"
      ]
     },
     "execution_count": 79,
     "metadata": {},
     "output_type": "execute_result"
    }
   ],
   "source": [
    "df.loc[df['City'].str.contains('Seattle', na=False), ['City']].value_counts()"
   ]
  },
  {
   "cell_type": "code",
   "execution_count": 80,
   "id": "636eb087-2dfa-404f-ac83-c789164a6527",
   "metadata": {
    "tags": []
   },
   "outputs": [],
   "source": [
    "df['City'].loc[df['City'] == 'Yakima but my employer is based in Seattle'] = 'Yakima'\n",
    "df['City'].loc[df['City'] == 'Merrick - my home, but we do have an office in NYC.  Main office is in Seattle, WA.'] = 'Hempstead'\n",
    "df.loc[df['City'].str.contains('Seattle', na=False), ['City']] = 'Seattle'"
   ]
  },
  {
   "cell_type": "markdown",
   "id": "1464715b",
   "metadata": {},
   "source": [
    "#### Los Angeles"
   ]
  },
  {
   "cell_type": "code",
   "execution_count": 81,
   "id": "c563fd71",
   "metadata": {
    "tags": []
   },
   "outputs": [
    {
     "data": {
      "text/plain": [
       "City                                                                     \n",
       "Los Angeles                                                                  437\n",
       "Los Angeles                                                                   59\n",
       "Los Angeles County                                                             2\n",
       "Los Angeles, CA                                                                2\n",
       " Los Angeles                                                                   1\n",
       "Los Angeles (but my job is remote)                                             1\n",
       "Los Angeles Metro                                                              1\n",
       "Los Angeles Metro Area                                                         1\n",
       "Los Angeles area                                                               1\n",
       "Los Angeles metro area                                                         1\n",
       "Los Angeles, but I work with people in Europe including the company owner      1\n",
       "Los Angeles, or I travel for work                                              1\n",
       "dtype: int64"
      ]
     },
     "execution_count": 81,
     "metadata": {},
     "output_type": "execute_result"
    }
   ],
   "source": [
    "df.loc[df['City'].str.contains('Los Angeles', na=False), ['City']].value_counts()"
   ]
  },
  {
   "cell_type": "code",
   "execution_count": 82,
   "id": "d633ad08",
   "metadata": {},
   "outputs": [],
   "source": [
    "df.loc[df['City'].str.contains('Los Angeles', na=False), ['City']] = 'Los Angeles'"
   ]
  },
  {
   "cell_type": "code",
   "execution_count": 83,
   "id": "9b9968ef",
   "metadata": {
    "tags": []
   },
   "outputs": [
    {
     "data": {
      "text/plain": [
       "City                                \n",
       "LA                                      5\n",
       "ATLANTA                                 2\n",
       "Near LA                                 2\n",
       "Alexandria, LA                          1\n",
       "EAST LANSING                            1\n",
       "Geismar, LA                             1\n",
       "PORTLAND                                1\n",
       "Remote (HQ in San Fran, based in LA)    1\n",
       "dtype: int64"
      ]
     },
     "execution_count": 83,
     "metadata": {},
     "output_type": "execute_result"
    }
   ],
   "source": [
    "df.loc[df['City'].str.contains('LA', na=False), ['City']].value_counts()"
   ]
  },
  {
   "cell_type": "code",
   "execution_count": 84,
   "id": "8280674b-f0e0-441e-aa50-48f28d6fc449",
   "metadata": {
    "collapsed": true,
    "jupyter": {
     "outputs_hidden": true
    },
    "tags": []
   },
   "outputs": [],
   "source": [
    "df['City'].replace('LA', 'Los Angeles', inplace=True)\n",
    "df['City'].loc[df['City'] == 'Alexandria, LA'] =  'Los Angeles'\n",
    "df['City'].loc[df['City'] == 'Geismar, LA'] =  'Los Angeles'\n",
    "df['City'].loc[df['City'] == 'Remote (HQ in San Fran, based in LA)'] =  'Los Angeles'"
   ]
  },
  {
   "cell_type": "code",
   "execution_count": 85,
   "id": "b0cfda62-9572-44d2-b697-b2f50a3a71da",
   "metadata": {},
   "outputs": [
    {
     "data": {
      "text/plain": [
       "City        \n",
       "ATLANTA         2\n",
       "Near LA         2\n",
       "EAST LANSING    1\n",
       "PORTLAND        1\n",
       "dtype: int64"
      ]
     },
     "execution_count": 85,
     "metadata": {},
     "output_type": "execute_result"
    }
   ],
   "source": [
    "df.loc[df['City'].str.contains('LA', na=False), ['City']].value_counts()"
   ]
  },
  {
   "cell_type": "markdown",
   "id": "a1e94241",
   "metadata": {},
   "source": [
    "#### Portland"
   ]
  },
  {
   "cell_type": "code",
   "execution_count": 86,
   "id": "f16942a9",
   "metadata": {
    "tags": []
   },
   "outputs": [
    {
     "data": {
      "text/plain": [
       "City                                               \n",
       "Portland                                               415\n",
       "Portland                                                50\n",
       "Portland, OR                                             9\n",
       "Portland, ME                                             4\n",
       "Portland, Oregon                                         2\n",
       "Beaverton, OR (Portland suburb)                          1\n",
       "South Portland                                           1\n",
       "Portland, or                                             1\n",
       "Portland, Oregon                                         1\n",
       "Portland, OR (remote for a company in CA)                1\n",
       "Portland, Maine                                          1\n",
       "Portland, ME area                                        1\n",
       "Portland metro                                           1\n",
       "Portland metro area                                      1\n",
       "Gorham/Portland                                          1\n",
       "Portland area                                            1\n",
       "Portland OR                                              1\n",
       "Portland Metro area                                      1\n",
       "Portland (Remote)                                        1\n",
       "Portland (I work remote for a company out of state)      1\n",
       "North of Portland                                        1\n",
       "Greater Portland                                         1\n",
       "Work remotely for a NYC business from Portland, ME       1\n",
       "dtype: int64"
      ]
     },
     "execution_count": 86,
     "metadata": {},
     "output_type": "execute_result"
    }
   ],
   "source": [
    "df.loc[df['City'].str.contains('Portland', na=False), ['City']].value_counts()"
   ]
  },
  {
   "cell_type": "code",
   "execution_count": 87,
   "id": "41891cf9",
   "metadata": {},
   "outputs": [],
   "source": [
    "df.loc[df['City'].str.contains('Portland', na=False), ['City']] = 'Portland'"
   ]
  },
  {
   "cell_type": "markdown",
   "id": "6018dad8",
   "metadata": {},
   "source": [
    "#### Washington"
   ]
  },
  {
   "cell_type": "code",
   "execution_count": 88,
   "id": "3c2f399b",
   "metadata": {},
   "outputs": [
    {
     "data": {
      "text/plain": [
       "City                                             \n",
       "Washington                                           332\n",
       "Washington, DC                                       247\n",
       "Washington DC                                        143\n",
       "Washington                                            38\n",
       "Washington, D.C.                                      22\n",
       "Washington DC                                         13\n",
       "Washington D.C.                                       11\n",
       "Washington, DC                                         7\n",
       "Washington, D.C.                                       6\n",
       "Washington D.C.                                        3\n",
       "Eastern Washington                                     2\n",
       "Washington, DC.                                        1\n",
       "Washington, DC area                                    1\n",
       "Washington, DC Primarily                               1\n",
       "Washington, DC - Baltimore, MD area.                   1\n",
       "Washington, DC (I'm remote, but office is in DC)       1\n",
       "Washington, D.C                                        1\n",
       "Washington, District of Columbia                       1\n",
       "Washington, d.c.                                       1\n",
       "Washington, dc                                         1\n",
       "Arlington, VA (Washington D.C. metro area)             1\n",
       "Washington DC suburbs                                  1\n",
       "Washington,  DC                                        1\n",
       "Washington state                                       1\n",
       "Washington dc                                          1\n",
       "Washington DC metro area                               1\n",
       "Washington DC (and Philadelphia PA)                    1\n",
       "Tiverton (Remote) but company based in Washington      1\n",
       "Rural Washington State                                 1\n",
       "Remote - Washington DC Area                            1\n",
       "Port Washington                                        1\n",
       "Northern Virginia (Washington, DC metro)               1\n",
       "Mt. Washington                                         1\n",
       "Mount Washington                                       1\n",
       "Fort Washington                                        1\n",
       "WashingtonDC                                           1\n",
       "dtype: int64"
      ]
     },
     "execution_count": 88,
     "metadata": {},
     "output_type": "execute_result"
    }
   ],
   "source": [
    "df.loc[df['City'].str.contains('Washington', na=False), ['City']].value_counts()"
   ]
  },
  {
   "cell_type": "code",
   "execution_count": 89,
   "id": "537d32b2",
   "metadata": {},
   "outputs": [],
   "source": [
    "df['City'].loc[df['City'] == 'Mount Washington'] = 'Mount Washington'\n",
    "df['City'].loc[df['City'] == 'Mount Washington '] = 'Mount Washington'\n",
    "df['City'].loc[df['City'] == 'Mt. Washington'] = 'Mount Washington'\n",
    "df['City'].loc[df['City'] == 'Fort Washington '] = 'Fort Washington'\n",
    "df['City'].loc[df['City'] == 'Mount Washington'] = 'Concord'\n",
    "df['City'].loc[df['City'] == 'Fort Washington'] = 'Annapolis'\n",
    "df['City'].loc[df['City'] == 'Port Washington'] = 'North Hempstead'\n",
    "df['City'].loc[df['City'].str.contains('Tiverton', na=False)] = 'Tiverton'"
   ]
  },
  {
   "cell_type": "code",
   "execution_count": 90,
   "id": "1bee6b85",
   "metadata": {
    "tags": []
   },
   "outputs": [
    {
     "data": {
      "text/plain": [
       "City                                                                               \n",
       "Washington, DC                                                                         247\n",
       "Washington DC                                                                          143\n",
       "DC                                                                                     106\n",
       "Washington, D.C.                                                                        22\n",
       "Washington DC                                                                           13\n",
       "Washington D.C.                                                                         11\n",
       "D.C.                                                                                     8\n",
       "Washington, DC                                                                           7\n",
       "Washington, D.C.                                                                         6\n",
       "washington dc                                                                            4\n",
       "Washington D.C.                                                                          3\n",
       "DC Metro Area                                                                            3\n",
       "Paducah                                                                                  2\n",
       "DC metro area                                                                            2\n",
       "dc                                                                                       2\n",
       "washington DC                                                                            1\n",
       "Washington DC suburbs                                                                    1\n",
       "Washington dc                                                                            1\n",
       "Washington,  DC                                                                          1\n",
       "Washington, D.C                                                                          1\n",
       "Washington, DC (I'm remote, but office is in DC)                                         1\n",
       "redacted (sorry)                                                                         1\n",
       "Washington, DC - Baltimore, MD area.                                                     1\n",
       "Washington, DC Primarily                                                                 1\n",
       "Washington DC metro area                                                                 1\n",
       "Washington, DC.                                                                          1\n",
       "Washington, d.c.                                                                         1\n",
       "Washington, dc                                                                           1\n",
       "WashingtonDC                                                                             1\n",
       "rapid city                                                                               1\n",
       "Washington, DC area                                                                      1\n",
       "Arlington, VA (Washington D.C. metro area)                                               1\n",
       "Washington DC (and Philadelphia PA)                                                      1\n",
       "Job is based in DC, but I go to where disasters are                                      1\n",
       "DC Area                                                                                  1\n",
       "DC Suburb                                                                                1\n",
       "DC area                                                                                  1\n",
       "DC area (work remote for CO company)                                                     1\n",
       "DC metro area, mostly DC and Montgomery County MD                                        1\n",
       "DC suburb                                                                                1\n",
       "Denver - remote, company based in DC                                                     1\n",
       "From home for a chicago based company                                                    1\n",
       "I work in a rural area and cannot answer this question while maintaining anonymity.      1\n",
       "Mclean, VA outside of DC                                                                 1\n",
       "D.C                                                                                      1\n",
       "Midsized city                                                                            1\n",
       "NA (work from home in small town, decline to specify)                                    1\n",
       "Northern Virginia (Washington, DC metro)                                                 1\n",
       "RAPID CITY                                                                               1\n",
       "Remote (org based out of DC metro area)                                                  1\n",
       "Remote - HQ is in DC                                                                     1\n",
       "Remote - Washington DC Area                                                              1\n",
       "Remotely in NC for DC employer                                                           1\n",
       "Stillwater: WI based company, office in MN                                               1\n",
       "washington dc                                                                            1\n",
       "dtype: int64"
      ]
     },
     "execution_count": 90,
     "metadata": {},
     "output_type": "execute_result"
    }
   ],
   "source": [
    "df.loc[df['City'].str.contains(r'(D.C)|(DC)|(dc)|(D.C.)|(d.c.)', regex=True, na=False), ['City']].value_counts()"
   ]
  },
  {
   "cell_type": "code",
   "execution_count": 91,
   "id": "15d65df6",
   "metadata": {},
   "outputs": [],
   "source": [
    "df['City'].loc[df['City'] == 'Washington DC (and Philadelphia PA)'] = 'More than one City'\n",
    "df['City'].loc[df['City'] == 'Remotely in NC for DC employer'] = 'Raleigh'\n",
    "df['City'].loc[df['City'] == 'RAPID CITY'] = 'rpsdk'\n",
    "df.loc[df['City'].str.contains(r'(D.C)|(DC)|(dc)|(D.C.)|(d.c.)', regex=True, na=False), ['City']] = 'Washington, DC'\n",
    "df['City'].loc[df['City'] == 'Washington, District of Columbia '] = 'Washington, DC'\n",
    "df['City'].loc[df['City'] == 'rpsdk'] = 'Rapid City'\n",
    "df['City'].loc[df['City'] == 'Seattle, Washington'] = 'More than one City'"
   ]
  },
  {
   "cell_type": "code",
   "execution_count": 92,
   "id": "9e500afd",
   "metadata": {},
   "outputs": [
    {
     "data": {
      "text/plain": [
       "City                  \n",
       "Washington, DC            617\n",
       "Washington                332\n",
       "Washington                 38\n",
       "Eastern Washington          2\n",
       "Rural Washington State      1\n",
       "Washington state            1\n",
       "dtype: int64"
      ]
     },
     "execution_count": 92,
     "metadata": {},
     "output_type": "execute_result"
    }
   ],
   "source": [
    "df.loc[df['City'].str.contains('Washington', na=False), ['City']].value_counts()"
   ]
  },
  {
   "cell_type": "code",
   "execution_count": 93,
   "id": "cb4e0c4f",
   "metadata": {},
   "outputs": [],
   "source": [
    "df.loc[df['City'].str.contains('Washington', na=False), ['City']] = 'Washington, DC'"
   ]
  },
  {
   "cell_type": "code",
   "execution_count": 94,
   "id": "6ddb5c97-0071-46d2-84d2-ddf6c2ae1215",
   "metadata": {},
   "outputs": [
    {
     "data": {
      "text/plain": [
       "City          \n",
       "Washington, DC    991\n",
       "dtype: int64"
      ]
     },
     "execution_count": 94,
     "metadata": {},
     "output_type": "execute_result"
    }
   ],
   "source": [
    "df.loc[df['City'].str.contains('Washington', na=False), ['City']].value_counts()"
   ]
  },
  {
   "cell_type": "markdown",
   "id": "62afb674",
   "metadata": {},
   "source": [
    "#### Austin"
   ]
  },
  {
   "cell_type": "code",
   "execution_count": 95,
   "id": "ba287ef8",
   "metadata": {
    "tags": []
   },
   "outputs": [
    {
     "data": {
      "text/plain": [
       "City             \n",
       "Austin               321\n",
       "Austin                12\n",
       "Austin, TX             2\n",
       "Austin Metro Area      1\n",
       "Austin metro area      1\n",
       "Austin, TX             1\n",
       "Austin, Texas          1\n",
       "Port Austin            1\n",
       "dtype: int64"
      ]
     },
     "execution_count": 95,
     "metadata": {},
     "output_type": "execute_result"
    }
   ],
   "source": [
    "df.loc[df['City'].str.contains('Austin', na=False), ['City']].value_counts()"
   ]
  },
  {
   "cell_type": "code",
   "execution_count": 96,
   "id": "afa59398",
   "metadata": {},
   "outputs": [],
   "source": [
    "df['City'].loc[df['City'] == 'Port Austin'] = 'Lansing'\n",
    "df['City'].loc[df['City'] == 'Austin / New York'] = 'More than one City'\n",
    "df.loc[df['City'].str.contains('Austin', na=False), ['City']] = 'Austin'"
   ]
  },
  {
   "cell_type": "code",
   "execution_count": 97,
   "id": "3c1a8fd5",
   "metadata": {},
   "outputs": [
    {
     "data": {
      "image/png": "[encoded data removed]",
      "text/plain": [
       "<Figure size 1300x500 with 1 Axes>"
      ]
     },
     "metadata": {},
     "output_type": "display_data"
    }
   ],
   "source": [
    "fig, ax = plt.subplots(figsize=(13,5))\n",
    "sns.set_theme(style = 'darkgrid', font='verdana')\n",
    "cities = df['City'].value_counts(dropna=False)[0:10]\n",
    "ax = sns.barplot(y=cities.index, x=cities)\n",
    "ax.set_title('Cidades com mais Participantes', fontsize= 18)\n",
    "ax.set_xlabel('N° de Participantes', fontsize= 13)\n",
    "plt.tight_layout()"
   ]
  },
  {
   "cell_type": "markdown",
   "id": "bcbb640a-eba8-407e-9b27-3f057b98742b",
   "metadata": {},
   "source": [
    "#### Denver"
   ]
  },
  {
   "cell_type": "code",
   "execution_count": 98,
   "id": "2014e98e",
   "metadata": {},
   "outputs": [
    {
     "data": {
      "text/plain": [
       "Denver                            311\n",
       "Denver                             14\n",
       "Denver, CO                          3\n",
       "Denver metro                        3\n",
       "Denver Metro Area                   2\n",
       "Fully remote job (Denver area)      1\n",
       "Not Denver                          1\n",
       "Denver Metro                        1\n",
       "Denver CO                           1\n",
       "Lakewood (live in Denver)           1\n",
       "Denver - remote                     1\n",
       "Denver-metro                        1\n",
       "Name: City, dtype: int64"
      ]
     },
     "execution_count": 98,
     "metadata": {},
     "output_type": "execute_result"
    }
   ],
   "source": [
    "df['City'].loc[df['City'].str.contains('Denver', na=False)].value_counts()"
   ]
  },
  {
   "cell_type": "code",
   "execution_count": 99,
   "id": "0aa00305",
   "metadata": {},
   "outputs": [],
   "source": [
    "df['City'].loc[df['City'] == 'Not Denver'] = 'Unknown City'\n",
    "df['City'].loc[df['City'].str.contains('Denver', na=False)] = 'Denver'"
   ]
  },
  {
   "cell_type": "markdown",
   "id": "eb8ba527",
   "metadata": {},
   "source": [
    "### Análise da Coluna Work Industry"
   ]
  },
  {
   "cell_type": "code",
   "execution_count": 100,
   "id": "ff4c2910",
   "metadata": {
    "scrolled": true
   },
   "outputs": [
    {
     "data": {
      "text/plain": [
       "count                 22184\n",
       "unique                  994\n",
       "top       Computing or Tech\n",
       "freq                   3557\n",
       "Name: Work Industry, dtype: object"
      ]
     },
     "execution_count": 100,
     "metadata": {},
     "output_type": "execute_result"
    }
   ],
   "source": [
    "df['Work Industry'].describe()"
   ]
  },
  {
   "cell_type": "code",
   "execution_count": 101,
   "id": "01f81a93",
   "metadata": {
    "scrolled": true
   },
   "outputs": [
    {
     "data": {
      "text/plain": [
       "Computing or Tech                       3557\n",
       "Nonprofits                              2047\n",
       "Education (Higher Education)            2006\n",
       "Health care                             1569\n",
       "Accounting, Banking & Finance           1412\n",
       "Engineering or Manufacturing            1374\n",
       "Government and Public Administration    1354\n",
       "Law                                      921\n",
       "Marketing, Advertising & PR              877\n",
       "Education (Primary/Secondary)            687\n",
       "Business or Consulting                   678\n",
       "Media & Digital                          596\n",
       "Insurance                                446\n",
       "Recruitment or HR                        389\n",
       "Retail                                   383\n",
       "Property or Construction                 297\n",
       "Art & Design                             290\n",
       "Utilities & Telecommunications           255\n",
       "Sales                                    237\n",
       "Transport or Logistics                   235\n",
       "Name: Work Industry, dtype: int64"
      ]
     },
     "execution_count": 101,
     "metadata": {},
     "output_type": "execute_result"
    }
   ],
   "source": [
    "df['Work Industry'].value_counts()[0:20]"
   ]
  },
  {
   "cell_type": "code",
   "execution_count": 102,
   "id": "b270c505",
   "metadata": {},
   "outputs": [
    {
     "data": {
      "text/plain": [
       "Education (Higher Education)                                                                               2006\n",
       "Education (Primary/Secondary)                                                                               687\n",
       "Educational technology                                                                                        2\n",
       "Early Childhood Education                                                                                     2\n",
       "Data/Institutional Research in Higher Education                                                               1\n",
       "Hybrid Nonprofit Higher Education (we are part of a university but our entire budget comes from grants)       1\n",
       "Education- museum/public outreach                                                                             1\n",
       "Beauty Manufacturing & Education                                                                              1\n",
       "Educational products                                                                                          1\n",
       "Early Education                                                                                               1\n",
       "Educational Publishing                                                                                        1\n",
       "Education start-up                                                                                            1\n",
       "Education service provider                                                                                    1\n",
       "Educational Research                                                                                          1\n",
       "Education research- mix of Edtech and non profits                                                             1\n",
       "Educational assessment                                                                                        1\n",
       "Education Consulting                                                                                          1\n",
       "Early Education (corporate office)                                                                            1\n",
       "Educational publishing / ed tech                                                                              1\n",
       "Education: preschool                                                                                          1\n",
       "Education services (tutoring)                                                                                 1\n",
       "Education/vocational                                                                                          1\n",
       "Fundraising in Higher Education; nonclinical, nonacademic                                                     1\n",
       "Education Publishing                                                                                          1\n",
       "Educational Technology - hybrid between book publishing and technology really                                 1\n",
       "Education (Early Childhood Education)                                                                         1\n",
       "Name: Work Industry, dtype: int64"
      ]
     },
     "execution_count": 102,
     "metadata": {},
     "output_type": "execute_result"
    }
   ],
   "source": [
    "df['Work Industry'].loc[df['Work Industry'].str.contains('Education', na=False)].value_counts()"
   ]
  },
  {
   "cell_type": "code",
   "execution_count": 103,
   "id": "2c9cb119",
   "metadata": {},
   "outputs": [
    {
     "data": {
      "text/plain": [
       "Education    2719\n",
       "Name: Work Industry, dtype: int64"
      ]
     },
     "execution_count": 103,
     "metadata": {},
     "output_type": "execute_result"
    }
   ],
   "source": [
    "df['Work Industry'].loc[df['Work Industry'].str.contains('Education', na=False)] = 'Education'\n",
    "df['Work Industry'].loc[df['Work Industry'].str.contains('Education', na=False)].value_counts()"
   ]
  },
  {
   "cell_type": "code",
   "execution_count": 104,
   "id": "8bcdd288",
   "metadata": {},
   "outputs": [
    {
     "data": {
      "text/plain": [
       "Computing or Tech                       3557\n",
       "Education                               2719\n",
       "Nonprofits                              2047\n",
       "Health care                             1569\n",
       "Accounting, Banking & Finance           1412\n",
       "Engineering or Manufacturing            1374\n",
       "Government and Public Administration    1354\n",
       "Law                                      921\n",
       "Marketing, Advertising & PR              877\n",
       "Business or Consulting                   678\n",
       "Media & Digital                          596\n",
       "Insurance                                446\n",
       "Recruitment or HR                        389\n",
       "Retail                                   383\n",
       "Property or Construction                 297\n",
       "Art & Design                             290\n",
       "Utilities & Telecommunications           255\n",
       "Sales                                    237\n",
       "Transport or Logistics                   235\n",
       "Social Work                              228\n",
       "Name: Work Industry, dtype: int64"
      ]
     },
     "execution_count": 104,
     "metadata": {},
     "output_type": "execute_result"
    }
   ],
   "source": [
    "df['Work Industry'].value_counts()[0:20]"
   ]
  },
  {
   "cell_type": "code",
   "execution_count": 105,
   "id": "e9729409",
   "metadata": {
    "scrolled": true
   },
   "outputs": [
    {
     "data": {
      "text/plain": [
       "Insurance                           446\n",
       "Health Insurance                      1\n",
       "Automotive finance and insurance      1\n",
       "Name: Work Industry, dtype: int64"
      ]
     },
     "execution_count": 105,
     "metadata": {},
     "output_type": "execute_result"
    }
   ],
   "source": [
    "df['Work Industry'].loc[df['Work Industry'].str.contains(r'(Insurance)|(insurance)', regex=True, na=False)].value_counts()"
   ]
  },
  {
   "cell_type": "code",
   "execution_count": 106,
   "id": "9f429237",
   "metadata": {},
   "outputs": [
    {
     "data": {
      "text/plain": [
       "Insurance    448\n",
       "Name: Work Industry, dtype: int64"
      ]
     },
     "execution_count": 106,
     "metadata": {},
     "output_type": "execute_result"
    }
   ],
   "source": [
    "df['Work Industry'].loc[df['Work Industry'].str.contains(r'(Insurance)|(insurance)', regex=True, na=False)] = 'Insurance'\n",
    "df['Work Industry'].loc[df['Work Industry'].str.contains(r'(Insurance)|(insurance)', regex=True, na=False)].value_counts()"
   ]
  },
  {
   "cell_type": "code",
   "execution_count": 107,
   "id": "3db6c5be",
   "metadata": {},
   "outputs": [
    {
     "data": {
      "text/plain": [
       "Health care                                         1569\n",
       "Biomedical Research                                    8\n",
       "Medical Research                                       4\n",
       "Public Health                                          4\n",
       "Medical Devices                                        3\n",
       "Healthcare IT                                          3\n",
       "Biomedical research                                    2\n",
       "Public health                                          2\n",
       "Medical Device                                         2\n",
       "Medical Technology                                     2\n",
       "public health                                          2\n",
       "Global Health Consulting                               1\n",
       "Medical supply Wholesale & Warehousing                 1\n",
       "Animal Health                                          1\n",
       "Animal health industry                                 1\n",
       "Non-profit health care (I couldn’t select both)        1\n",
       "Public Health- state level                             1\n",
       "Healthcare Information Technology                      1\n",
       "Healthcare technology                                  1\n",
       "Diagnostic Medical Devices                             1\n",
       "Public Health, local government                        1\n",
       "Medical/Pharmaceutical                                 1\n",
       "Manufacturing (medical devices)                        1\n",
       "Behavior analysis/mental health                        1\n",
       "Medical technology                                     1\n",
       "environmental health and safety                        1\n",
       "Medical Interpreter -(Spanish)                         1\n",
       "Public health (not medical)                            1\n",
       "Environmental health and safety                        1\n",
       "STEM medical research                                  1\n",
       "Mental health therapist                                1\n",
       "Health and fitness                                     1\n",
       "Environment, health, and safety                        1\n",
       "Animal Health Product Manufacturing                    1\n",
       "Public health in higher education                      1\n",
       "Public health                                          1\n",
       "pharma / medical device design and manufacturing       1\n",
       "Medical Library                                        1\n",
       "Public Health Research                                 1\n",
       "Medical communications                                 1\n",
       "Public/Environmental Health                            1\n",
       "Environmental Health + Pest Control                    1\n",
       "Environmental health and safety compliance             1\n",
       "Medical Communications                                 1\n",
       "Libraries (Medical)                                    1\n",
       "Behavioral Health                                      1\n",
       "Health Research                                        1\n",
       "Research - Public Health                               1\n",
       "Mental health                                          1\n",
       "mental health                                          1\n",
       "biomedical research                                    1\n",
       "Health and Safety                                      1\n",
       "Name: Work Industry, dtype: int64"
      ]
     },
     "execution_count": 107,
     "metadata": {},
     "output_type": "execute_result"
    }
   ],
   "source": [
    "df['Work Industry'].loc[df['Work Industry'].str.contains(r'(health)|(Health)|(medical)|(Medical)', \n",
    "                                                         regex=True, na=False)].value_counts()"
   ]
  },
  {
   "cell_type": "code",
   "execution_count": 108,
   "id": "79fec09f",
   "metadata": {},
   "outputs": [
    {
     "data": {
      "text/plain": [
       "Medical/Health Care    1642\n",
       "Name: Work Industry, dtype: int64"
      ]
     },
     "execution_count": 108,
     "metadata": {},
     "output_type": "execute_result"
    }
   ],
   "source": [
    "df['Work Industry'].loc[df['Work Industry'].str.contains(r'(health)|(Health)|(medical)|(Medical)', \n",
    "                                                         regex=True, na=False)] = 'Medical/Health Care'\n",
    "df['Work Industry'].loc[df['Work Industry'].str.contains(r'(health)|(Health)|(medical)|(Medical)', \n",
    "                                                         regex=True, na=False)].value_counts()"
   ]
  },
  {
   "cell_type": "code",
   "execution_count": 109,
   "id": "f9bdb222",
   "metadata": {},
   "outputs": [
    {
     "data": {
      "text/plain": [
       "Computing or Tech                       3557\n",
       "Education                               2719\n",
       "Nonprofits                              2047\n",
       "Medical/Health Care                     1642\n",
       "Accounting, Banking & Finance           1412\n",
       "Engineering or Manufacturing            1374\n",
       "Government and Public Administration    1354\n",
       "Law                                      921\n",
       "Marketing, Advertising & PR              877\n",
       "Business or Consulting                   678\n",
       "Media & Digital                          596\n",
       "Insurance                                448\n",
       "Recruitment or HR                        389\n",
       "Retail                                   383\n",
       "Property or Construction                 297\n",
       "Art & Design                             290\n",
       "Utilities & Telecommunications           255\n",
       "Sales                                    237\n",
       "Transport or Logistics                   235\n",
       "Social Work                              228\n",
       "Name: Work Industry, dtype: int64"
      ]
     },
     "execution_count": 109,
     "metadata": {},
     "output_type": "execute_result"
    }
   ],
   "source": [
    "df['Work Industry'].value_counts()[0:20]"
   ]
  },
  {
   "cell_type": "code",
   "execution_count": 110,
   "id": "f1c5818e",
   "metadata": {},
   "outputs": [
    {
     "data": {
      "text/plain": [
       "Engineering or Manufacturing                           1374\n",
       "Property or Construction                                297\n",
       "Manufacturing                                            22\n",
       "Architecture                                             17\n",
       "Manufacturing                                            11\n",
       "Construction                                              7\n",
       "Architecture                                              6\n",
       "Construction                                              3\n",
       "Food Manufacturing                                        2\n",
       "Library/archives                                          2\n",
       "Pharmaceutical Manufacturing                              2\n",
       "Production and Manufacturing                              1\n",
       "Aerospace and Defense Manufacturing                       1\n",
       "Manufacturing/Consumer Packaged Goods                     1\n",
       "R&D in Manufacturing                                      1\n",
       "Landscape Architecture                                    1\n",
       "Architecture, Engineering, Construction                   1\n",
       "Architecture/Construction                                 1\n",
       "Architecture & Construction                               1\n",
       "Manufacturing (personal care)                             1\n",
       "Construction Management                                   1\n",
       "CBD Manufacturing                                         1\n",
       "museums & archives (not sure where this would fall)       1\n",
       "Professional services / architecture                      1\n",
       "Architecture and engineering consulting and design        1\n",
       "Manufacturing, Chemical                                   1\n",
       "Construction, HVAC                                        1\n",
       "Manufacturing : corporate admin support                   1\n",
       "Architectural/Land Planning/Civil Engineering             1\n",
       "Engineering and Environmental Consulting                  1\n",
       "Food/Beverage Manufacturing- Quality/Laboratory           1\n",
       "Architecture / Engineering                                1\n",
       "Pharmaceutical Manufacturing                              1\n",
       "Manufacturing/Wholesale                                   1\n",
       "Manufacturing (pharmaceuticals)                           1\n",
       "Synthetic Chemical Manufacturing                          1\n",
       "architecture                                              1\n",
       "Chemical Manufacturing                                    1\n",
       "Manufacturing and distributing                            1\n",
       "Aerospace Manufacturing                                   1\n",
       "Name: Work Industry, dtype: int64"
      ]
     },
     "execution_count": 110,
     "metadata": {},
     "output_type": "execute_result"
    }
   ],
   "source": [
    "df['Work Industry'].loc[df['Work Industry'].str.\n",
    "                        contains(r'(Engineering)|(Manufacturing)|(Construction)|(Architecture|archi)', \n",
    "                                 regex=True, na=False)].value_counts()"
   ]
  },
  {
   "cell_type": "code",
   "execution_count": 111,
   "id": "cca6ee3f",
   "metadata": {},
   "outputs": [],
   "source": [
    "df['Work Industry'].loc[df['Work Industry'].str.contains(r'(Engineering)|(Manufacturing)|(Construction)|(Architecture|archi)', \n",
    "                                                         regex=True, na=False)] = 'Engineering/Manufacturing/Construction'"
   ]
  },
  {
   "cell_type": "code",
   "execution_count": 112,
   "id": "7e2f2552",
   "metadata": {},
   "outputs": [
    {
     "data": {
      "text/plain": [
       "Libraries                                                                                                 44\n",
       "Library                                                                                                   44\n",
       "Public Library                                                                                            31\n",
       "Public Libraries                                                                                          16\n",
       "Public library                                                                                             9\n",
       "public library                                                                                             5\n",
       "Public library                                                                                             4\n",
       "Library                                                                                                    4\n",
       "library                                                                                                    4\n",
       "Librarian                                                                                                  3\n",
       "Libraries and Archives                                                                                     2\n",
       "Public libraries                                                                                           2\n",
       "Libraries                                                                                                  2\n",
       "Libraries & Archives                                                                                       2\n",
       "Librarian                                                                                                  2\n",
       "Special Collections Library                                                                                1\n",
       "Library at a University                                                                                    1\n",
       "Libraries / Archives / Information                                                                         1\n",
       "Municipal library                                                                                          1\n",
       "Libraries (Public)                                                                                         1\n",
       "Library science / part-time work/study                                                                     1\n",
       "Library and Information Services                                                                           1\n",
       "Library and Information Science                                                                            1\n",
       "Libraries/Museums/Archives                                                                                 1\n",
       "University libraries                                                                                       1\n",
       "Libraries (public)                                                                                         1\n",
       "Archives/Libraries                                                                                         1\n",
       "Public Library                                                                                             1\n",
       "Public Library (technically City Govt.?)                                                                   1\n",
       "Higher education/Libraries                                                                                 1\n",
       "Libraries/Archives                                                                                         1\n",
       "libraries                                                                                                  1\n",
       "Information Services/Libraries                                                                             1\n",
       "Public Libraries                                                                                           1\n",
       "public libraries                                                                                           1\n",
       "Municipal Government (Library)                                                                             1\n",
       "Professional Public Librarian                                                                              1\n",
       "librarian--Contractor for NASA                                                                             1\n",
       "Information services (libraries)                                                                           1\n",
       "Libraries and Archives (Academic)                                                                          1\n",
       "Public Librarian                                                                                           1\n",
       "Librarian and Assistant Manager of a library                                                               1\n",
       "Library (its a non-profit and its a govt job - how would I list that? Not all libraries are govt jobs)     1\n",
       "Librarian in legal setting                                                                                 1\n",
       "municipal (public) libraries                                                                               1\n",
       "Public Library (might be considered Government, but that always seems an odd designation...)               1\n",
       "Library Page (Public county library)                                                                       1\n",
       "public libraries                                                                                           1\n",
       "Library/Archive/Research Center                                                                            1\n",
       "Library/Archive                                                                                            1\n",
       "Archives/Library Science                                                                                   1\n",
       "Public Library (Non-profit, but also government?)                                                          1\n",
       "Library--public                                                                                            1\n",
       "Information services (library)                                                                             1\n",
       "Public/Research Library                                                                                    1\n",
       "Name: Work Industry, dtype: int64"
      ]
     },
     "execution_count": 112,
     "metadata": {},
     "output_type": "execute_result"
    }
   ],
   "source": [
    "df['Work Industry'].loc[df['Work Industry'].str.contains(r'(Libra|libra)', regex=True, na=False)].value_counts()"
   ]
  },
  {
   "cell_type": "code",
   "execution_count": 113,
   "id": "890858c3",
   "metadata": {},
   "outputs": [],
   "source": [
    "df['Work Industry'].loc[df['Work Industry'].str.contains(r'(Libra|libra)', \n",
    "                                                         regex=True, na=False)] = 'Business/Consulting/Administrative Work'"
   ]
  },
  {
   "cell_type": "code",
   "execution_count": 114,
   "id": "10352fc2",
   "metadata": {},
   "outputs": [
    {
     "data": {
      "text/plain": [
       "Business or Consulting                      678\n",
       "Business/Consulting/Administrative Work     214\n",
       "Business Services                             1\n",
       "Federal Contracting/Business Development      1\n",
       "Small business/service company                1\n",
       "Business Process Outsourcing                  1\n",
       "I have two jobs. Marketing / Business         1\n",
       "Name: Work Industry, dtype: int64"
      ]
     },
     "execution_count": 114,
     "metadata": {},
     "output_type": "execute_result"
    }
   ],
   "source": [
    "df['Work Industry'].loc[df['Work Industry'].str.contains(r'(Business|business)', regex=True, na=False)].value_counts()"
   ]
  },
  {
   "cell_type": "code",
   "execution_count": 115,
   "id": "2d8bec61",
   "metadata": {},
   "outputs": [],
   "source": [
    "df['Work Industry'].loc[df['Work Industry'] == 'Business or Consulting'] = 'Business/Consulting/Administrative Work'"
   ]
  },
  {
   "cell_type": "code",
   "execution_count": 116,
   "id": "1b1ab245",
   "metadata": {},
   "outputs": [
    {
     "data": {
      "text/plain": [
       "Marketing, Advertising & PR                                                              877\n",
       "Marketing at a Non Profit                                                                  1\n",
       "University tech transfer (higher ed/marketing/writing)                                     1\n",
       "Marketing technology                                                                       1\n",
       "digital marketing within a book publishing company (please reclassify as you see fit)      1\n",
       "I have two jobs. Marketing / Business                                                      1\n",
       "Digital Marketing                                                                          1\n",
       "Name: Work Industry, dtype: int64"
      ]
     },
     "execution_count": 116,
     "metadata": {},
     "output_type": "execute_result"
    }
   ],
   "source": [
    "df['Work Industry'].loc[df['Work Industry'].str.contains(r'(Marketing|marketing)', regex=True, na=False)].value_counts()"
   ]
  },
  {
   "cell_type": "code",
   "execution_count": 117,
   "id": "6d251c1d",
   "metadata": {},
   "outputs": [],
   "source": [
    "df['Work Industry'].loc[df['Work Industry'].str.contains(r'(Marketing|marketing)', \n",
    "                                                         regex=True, na=False)] = 'Business/Consulting/Administrative Work'"
   ]
  },
  {
   "cell_type": "code",
   "execution_count": 118,
   "id": "659e6225",
   "metadata": {},
   "outputs": [
    {
     "data": {
      "text/plain": [
       "Recruitment or HR    389\n",
       "Human Resources        2\n",
       "HRO                    1\n",
       "Human Resources        1\n",
       "Name: Work Industry, dtype: int64"
      ]
     },
     "execution_count": 118,
     "metadata": {},
     "output_type": "execute_result"
    }
   ],
   "source": [
    "df['Work Industry'].loc[df['Work Industry'].str.contains(r'(Recruitment|HR|Human Resources)', \n",
    "                                                         regex=True, na=False)].value_counts()"
   ]
  },
  {
   "cell_type": "code",
   "execution_count": 119,
   "id": "28ea637f",
   "metadata": {},
   "outputs": [],
   "source": [
    "df['Work Industry'].loc[df['Work Industry'].str.\n",
    "                        contains(r'(Recruitment|HR|Human Resources)', \n",
    "                                 regex=True, na=False)] = 'Business/Consulting/Administrative Work'"
   ]
  },
  {
   "cell_type": "code",
   "execution_count": 120,
   "id": "88b62ad9",
   "metadata": {},
   "outputs": [
    {
     "data": {
      "text/plain": [
       "Computing or Tech                          3557\n",
       "Education                                  2719\n",
       "Business/Consulting/Administrative Work    2168\n",
       "Nonprofits                                 2047\n",
       "Engineering/Manufacturing/Construction     1772\n",
       "Medical/Health Care                        1642\n",
       "Accounting, Banking & Finance              1412\n",
       "Government and Public Administration       1354\n",
       "Law                                         921\n",
       "Media & Digital                             596\n",
       "Insurance                                   448\n",
       "Retail                                      383\n",
       "Art & Design                                290\n",
       "Utilities & Telecommunications              255\n",
       "Sales                                       237\n",
       "Transport or Logistics                      235\n",
       "Social Work                                 228\n",
       "Hospitality & Events                        201\n",
       "Entertainment                               195\n",
       "Agriculture or Forestry                     105\n",
       "Name: Work Industry, dtype: int64"
      ]
     },
     "execution_count": 120,
     "metadata": {},
     "output_type": "execute_result"
    }
   ],
   "source": [
    "df['Work Industry'].value_counts()[0:20]"
   ]
  },
  {
   "cell_type": "code",
   "execution_count": 121,
   "id": "2dae6edd",
   "metadata": {},
   "outputs": [
    {
     "data": {
      "text/plain": [
       "Media & Digital                            596\n",
       "Art & Design                               290\n",
       "apparel design/product development           1\n",
       "consumer product design                      1\n",
       "Instructional Design and Training            1\n",
       "Instructional Design, Aviation Industry      1\n",
       "Instructional Designer                       1\n",
       "Nonprofit - legal department                 1\n",
       "Interior Design (commercial)                 1\n",
       "Funding Intermediary                         1\n",
       "art appraisal                                1\n",
       "Performing Arts                              1\n",
       "Consumer Products design                     1\n",
       "Arts Administration                          1\n",
       "Earth sciences                               1\n",
       "Name: Work Industry, dtype: int64"
      ]
     },
     "execution_count": 121,
     "metadata": {},
     "output_type": "execute_result"
    }
   ],
   "source": [
    "df['Work Industry'].loc[df['Work Industry'].str.contains(r'((Art|art)|(Design|design)|(Media|media))', \n",
    "                                                         regex=True, na=False)].value_counts()"
   ]
  },
  {
   "cell_type": "code",
   "execution_count": 122,
   "id": "bb53fc2a",
   "metadata": {},
   "outputs": [],
   "source": [
    "df['Work Industry'].loc[df['Work Industry'].str.\n",
    "                        contains(r'((Art|art)|(Design|design)|(Media|media))', regex=True, na=False)] = 'Art/Design/Media'"
   ]
  },
  {
   "cell_type": "code",
   "execution_count": 123,
   "id": "4cf804c0",
   "metadata": {},
   "outputs": [
    {
     "data": {
      "text/plain": [
       "Hospitality & Events                   201\n",
       "Entertainment                          195\n",
       "Fitness & Entertainment                  1\n",
       "Entertainment data                       1\n",
       "Graduate assistant and also events       1\n",
       "Name: Work Industry, dtype: int64"
      ]
     },
     "execution_count": 123,
     "metadata": {},
     "output_type": "execute_result"
    }
   ],
   "source": [
    "df['Work Industry'].loc[df['Work Industry'].str.\n",
    "                        contains(r'(Hospitality|(events|Events)|(Entertainment|entertainment))', \n",
    "                                 regex=True, na=False)].value_counts()"
   ]
  },
  {
   "cell_type": "code",
   "execution_count": 124,
   "id": "b9c4de93",
   "metadata": {},
   "outputs": [],
   "source": [
    "df['Work Industry'].loc[df['Work Industry'].str.\n",
    "                        contains(r'(Hospitality|(events|Events)|(Entertainment|entertainment))', \n",
    "                                 regex=True, na=False)] = 'Hospitality/Events/Entertainment'"
   ]
  },
  {
   "cell_type": "code",
   "execution_count": 125,
   "id": "3b4ad031",
   "metadata": {},
   "outputs": [
    {
     "data": {
      "text/plain": [
       "Computing or Tech                          3557\n",
       "Education                                  2719\n",
       "Business/Consulting/Administrative Work    2168\n",
       "Nonprofits                                 2047\n",
       "Engineering/Manufacturing/Construction     1772\n",
       "Medical/Health Care                        1642\n",
       "Accounting, Banking & Finance              1412\n",
       "Government and Public Administration       1354\n",
       "Law                                         921\n",
       "Art/Design/Media                            899\n",
       "Insurance                                   448\n",
       "Hospitality/Events/Entertainment            399\n",
       "Retail                                      383\n",
       "Utilities & Telecommunications              255\n",
       "Sales                                       237\n",
       "Transport or Logistics                      235\n",
       "Social Work                                 228\n",
       "Agriculture or Forestry                     105\n",
       "Leisure, Sport & Tourism                     72\n",
       "Publishing                                   45\n",
       "Name: Work Industry, dtype: int64"
      ]
     },
     "execution_count": 125,
     "metadata": {},
     "output_type": "execute_result"
    }
   ],
   "source": [
    "df['Work Industry'].value_counts()[0:20]"
   ]
  },
  {
   "cell_type": "code",
   "execution_count": 126,
   "id": "7e40c46d",
   "metadata": {},
   "outputs": [
    {
     "data": {
      "text/plain": [
       "Accounting, Banking & Finance                                            1412\n",
       "Finance                                                                     3\n",
       "Finance/Investment Management but in legal/compliance, so back-office       1\n",
       "Corporate accounting in death care (funeral & cemetery)                     1\n",
       "I work in the finance function of a large global conglomerate               1\n",
       "finance                                                                     1\n",
       "Professional Association in Finance                                         1\n",
       "Name: Work Industry, dtype: int64"
      ]
     },
     "execution_count": 126,
     "metadata": {},
     "output_type": "execute_result"
    }
   ],
   "source": [
    "df['Work Industry'].loc[df['Work Industry'].str.contains(r'((Account|account)|(finance|Finance)|banking)', \n",
    "                                                         regex=True, na=False)].value_counts()"
   ]
  },
  {
   "cell_type": "code",
   "execution_count": 127,
   "id": "17fb2dfb",
   "metadata": {},
   "outputs": [],
   "source": [
    "df['Work Industry'].loc[df['Work Industry'].str.\n",
    "                        contains(r'((Account|account)|(finance|Finance)|banking)', \n",
    "                                 regex=True, na=False)] = 'Accounting/Banking/Finance'"
   ]
  },
  {
   "cell_type": "code",
   "execution_count": 128,
   "id": "6994d330",
   "metadata": {},
   "outputs": [
    {
     "data": {
      "text/plain": [
       "Government and Public Administration                               1354\n",
       "Politics                                                              8\n",
       "Government Relations                                                  3\n",
       "Government contracting                                                2\n",
       "Government contractor                                                 2\n",
       "Government Contracting                                                2\n",
       "Government Affairs/Lobbying                                           2\n",
       "Government Contracting R&D                                            1\n",
       "Government                                                            1\n",
       "Aerospace and Defense/Government Contracting                          1\n",
       "Government Contractor (R&D)                                           1\n",
       "government contractor, international development                      1\n",
       "Science/government                                                    1\n",
       "Science Research, government                                          1\n",
       "Government relations                                                  1\n",
       "Politics/campaigns                                                    1\n",
       "Government contracting (data analytics and program evaluations)       1\n",
       "Government contractor                                                 1\n",
       "Politics/Campaigns                                                    1\n",
       "Government Contractor                                                 1\n",
       "Federal Government Contracting                                        1\n",
       "Government Relations/Lobbying                                         1\n",
       "Government- Scientist                                                 1\n",
       "\"Government Relations\" (Lobbying)                                     1\n",
       "Politics/Government Relations                                         1\n",
       "Name: Work Industry, dtype: int64"
      ]
     },
     "execution_count": 128,
     "metadata": {},
     "output_type": "execute_result"
    }
   ],
   "source": [
    "df['Work Industry'].loc[df['Work Industry'].str.contains(r'(Govern|govern)|(politics|Politics)', \n",
    "                                                         regex=True, na=False)].value_counts()"
   ]
  },
  {
   "cell_type": "code",
   "execution_count": 129,
   "id": "7d69d4c3",
   "metadata": {},
   "outputs": [],
   "source": [
    "df['Work Industry'].loc[df['Work Industry'].str.contains(r'(Govern|govern)|(politics|Politics)', \n",
    "                                                         regex=True, na=False)] = 'Government/Public Administration'"
   ]
  },
  {
   "cell_type": "code",
   "execution_count": 130,
   "id": "69b4920d",
   "metadata": {},
   "outputs": [
    {
     "data": {
      "text/plain": [
       "Computing or Tech                          3557\n",
       "Education                                  2719\n",
       "Business/Consulting/Administrative Work    2168\n",
       "Nonprofits                                 2047\n",
       "Engineering/Manufacturing/Construction     1772\n",
       "Medical/Health Care                        1642\n",
       "Accounting/Banking/Finance                 1420\n",
       "Government/Public Administration           1391\n",
       "Law                                         921\n",
       "Art/Design/Media                            899\n",
       "Insurance                                   448\n",
       "Hospitality/Events/Entertainment            399\n",
       "Retail                                      383\n",
       "Utilities & Telecommunications              255\n",
       "Sales                                       237\n",
       "Transport or Logistics                      235\n",
       "Social Work                                 228\n",
       "Agriculture or Forestry                     105\n",
       "Leisure, Sport & Tourism                     72\n",
       "Biotech                                      45\n",
       "Name: Work Industry, dtype: int64"
      ]
     },
     "execution_count": 130,
     "metadata": {},
     "output_type": "execute_result"
    }
   ],
   "source": [
    "df['Work Industry'].value_counts()[0:20]"
   ]
  },
  {
   "cell_type": "code",
   "execution_count": 131,
   "id": "eefc1a91",
   "metadata": {},
   "outputs": [
    {
     "data": {
      "text/plain": [
       "Biotech                                                                                                                                                                        45\n",
       "Pharmaceuticals                                                                                                                                                                19\n",
       "Pharma                                                                                                                                                                         16\n",
       "Biotechnology                                                                                                                                                                  15\n",
       "Pharmaceutical                                                                                                                                                                 14\n",
       "Pharmaceutical                                                                                                                                                                  9\n",
       "Biotech/Pharma                                                                                                                                                                  9\n",
       "Biotechnology                                                                                                                                                                   5\n",
       "Pharmaceuticals                                                                                                                                                                 5\n",
       "Biopharma                                                                                                                                                                       4\n",
       "Pharmaceutical R&D                                                                                                                                                              3\n",
       "Pharmaceutical Development                                                                                                                                                      3\n",
       "Biotech/Drug Development                                                                                                                                                        2\n",
       "Biotech                                                                                                                                                                         2\n",
       "Biotech/pharmaceuticals                                                                                                                                                         2\n",
       "pharmaceuticals                                                                                                                                                                 2\n",
       "Biotech/pharma                                                                                                                                                                  2\n",
       "Pharma research                                                                                                                                                                 1\n",
       "Language Services company, unsure the broad category to use. Our clients are branding agencies, and their clients are frequently (but not always) pharmaceutical companies.     1\n",
       "Pharmaceutical industry                                                                                                                                                         1\n",
       "Pharma R&D                                                                                                                                                                      1\n",
       "Pharmaceutical research (chemist)                                                                                                                                               1\n",
       "Pharmaceutical/Biotech                                                                                                                                                          1\n",
       "Pharmaceutical Research                                                                                                                                                         1\n",
       "Pharmaceuticals/Biotechnology                                                                                                                                                   1\n",
       "Pharma/biotechnology                                                                                                                                                            1\n",
       "Pharma/ Research                                                                                                                                                                1\n",
       "Pharmaceutical research                                                                                                                                                         1\n",
       "Pharmaceutical Industry                                                                                                                                                         1\n",
       "Pharma & Biotech                                                                                                                                                                1\n",
       "biological research                                                                                                                                                             1\n",
       "Pharmaceitical manufacturing                                                                                                                                                    1\n",
       "Pharma/biotechnology                                                                                                                                                            1\n",
       "Biotech/software                                                                                                                                                                1\n",
       "Research Scientist, Pharma                                                                                                                                                      1\n",
       "Biopharmaceuticals                                                                                                                                                              1\n",
       "biotechnology                                                                                                                                                                   1\n",
       "Pharmaceutical company                                                                                                                                                          1\n",
       "Bioinformatics                                                                                                                                                                  1\n",
       "Pharmaceuticals / Biotech                                                                                                                                                       1\n",
       "Pharmaceutical/biotechnology                                                                                                                                                    1\n",
       "Pharmaceutical manufacturing                                                                                                                                                    1\n",
       "veterinary biotech                                                                                                                                                              1\n",
       "BioTech                                                                                                                                                                         1\n",
       "Bioscience Company                                                                                                                                                              1\n",
       "Pharma/Biotech                                                                                                                                                                  1\n",
       "Pharmaceutical research                                                                                                                                                         1\n",
       "biotech                                                                                                                                                                         1\n",
       "Academia--cell and molecular biology                                                                                                                                            1\n",
       "Biotech / Research                                                                                                                                                              1\n",
       "Pharmaceuticals R&D                                                                                                                                                             1\n",
       "Biotech / life sciences                                                                                                                                                         1\n",
       "Retail pharmacy                                                                                                                                                                 1\n",
       "Biology/Research                                                                                                                                                                1\n",
       "pharmaceutical                                                                                                                                                                  1\n",
       "Pharmacuticals                                                                                                                                                                  1\n",
       "Biotech manufacturing                                                                                                                                                           1\n",
       "Pharma                                                                                                                                                                          1\n",
       "Biotech/pharmaceuticals                                                                                                                                                         1\n",
       "Science (Research, Biology)                                                                                                                                                     1\n",
       "Biotech/Pharmaceuticals                                                                                                                                                         1\n",
       "Biotech / Pharmaceutical Industry                                                                                                                                               1\n",
       "Bio tech                                                                                                                                                                        1\n",
       "Real World Evidence (data for pharma research)                                                                                                                                  1\n",
       "Biological Sciences                                                                                                                                                             1\n",
       "Biotech research                                                                                                                                                                1\n",
       "Biotechnology/Life Sciences                                                                                                                                                     1\n",
       "Big Pharma                                                                                                                                                                      1\n",
       "Biotech Research                                                                                                                                                                1\n",
       "Pharma/biotech                                                                                                                                                                  1\n",
       "Pharmaceutical/Contract Research Organization                                                                                                                                   1\n",
       "Biotech R&D                                                                                                                                                                     1\n",
       "Name: Work Industry, dtype: int64"
      ]
     },
     "execution_count": 131,
     "metadata": {},
     "output_type": "execute_result"
    }
   ],
   "source": [
    "df['Work Industry'].loc[df['Work Industry'].str.contains(r'(Bio|bio|(pharma|Pharma))', regex=True, na=False)].value_counts()"
   ]
  },
  {
   "cell_type": "code",
   "execution_count": 132,
   "id": "707ce1c2",
   "metadata": {},
   "outputs": [],
   "source": [
    "df['Work Industry'].loc[df['Work Industry'].str.contains(r'(Bio|bio|(pharma|Pharma))', \n",
    "                                                         regex=True, na=False)] = 'Biotechnology/Pharma/Biology'"
   ]
  },
  {
   "cell_type": "code",
   "execution_count": 133,
   "id": "527e047b",
   "metadata": {},
   "outputs": [
    {
     "data": {
      "text/plain": [
       "Computing or Tech                          3557\n",
       "Education                                  2719\n",
       "Business/Consulting/Administrative Work    2168\n",
       "Nonprofits                                 2047\n",
       "Engineering/Manufacturing/Construction     1772\n",
       "Medical/Health Care                        1642\n",
       "Accounting/Banking/Finance                 1420\n",
       "Government/Public Administration           1391\n",
       "Law                                         921\n",
       "Art/Design/Media                            899\n",
       "Insurance                                   448\n",
       "Hospitality/Events/Entertainment            399\n",
       "Retail                                      383\n",
       "Utilities & Telecommunications              255\n",
       "Sales                                       237\n",
       "Transport or Logistics                      235\n",
       "Social Work                                 228\n",
       "Biotechnology/Pharma/Biology                212\n",
       "Agriculture or Forestry                     105\n",
       "Leisure, Sport & Tourism                     72\n",
       "Name: Work Industry, dtype: int64"
      ]
     },
     "execution_count": 133,
     "metadata": {},
     "output_type": "execute_result"
    }
   ],
   "source": [
    "df['Work Industry'].value_counts()[0:20]"
   ]
  },
  {
   "cell_type": "code",
   "execution_count": 134,
   "id": "ce83471a",
   "metadata": {},
   "outputs": [
    {
     "data": {
      "text/plain": [
       "Transport or Logistics                           235\n",
       "Leisure, Sport & Tourism                          72\n",
       "Industrial Cleaning & Non Hazardous Transport      1\n",
       "Tourism                                            1\n",
       "State-level public transportation agency           1\n",
       "Sports                                             1\n",
       "Name: Work Industry, dtype: int64"
      ]
     },
     "execution_count": 134,
     "metadata": {},
     "output_type": "execute_result"
    }
   ],
   "source": [
    "df['Work Industry'].loc[df['Work Industry'].str.contains(r'(sport|Sport|(tourism|Tourism))', \n",
    "                                                         regex=True, na=False)].value_counts()"
   ]
  },
  {
   "cell_type": "code",
   "execution_count": 135,
   "id": "e8f4bc98",
   "metadata": {},
   "outputs": [
    {
     "data": {
      "text/plain": [
       "Transport or Logistics                           235\n",
       "Supply chain                                       2\n",
       "Supply Chain                                       2\n",
       "Logistics                                          1\n",
       "Supply Chain Distribution                          1\n",
       "Industrial Cleaning & Non Hazardous Transport      1\n",
       "State-level public transportation agency           1\n",
       "Industrial Supply                                  1\n",
       "Supply Chain!                                      1\n",
       "Supply Chain Operations                            1\n",
       "Name: Work Industry, dtype: int64"
      ]
     },
     "execution_count": 135,
     "metadata": {},
     "output_type": "execute_result"
    }
   ],
   "source": [
    "df['Work Industry'].loc[df['Work Industry'].str.contains(r'(Transport|transport)|(logistics|Logistics|Supply|supply)', \n",
    "                                                         regex=True, na=False)].value_counts()"
   ]
  },
  {
   "cell_type": "code",
   "execution_count": 136,
   "id": "d1f8ac95",
   "metadata": {},
   "outputs": [],
   "source": [
    "df['Work Industry'].loc[df['Work Industry'].str.\n",
    "                        contains(r'(Transport|transport)|(logistics|Logistics|Supply|supply)', \n",
    "                                 regex=True, na=False)] = 'Transport/Logistics'"
   ]
  },
  {
   "cell_type": "code",
   "execution_count": 137,
   "id": "b61c590c",
   "metadata": {},
   "outputs": [
    {
     "data": {
      "text/plain": [
       "Transport/Logistics         246\n",
       "Leisure, Sport & Tourism     72\n",
       "Tourism                       1\n",
       "Sports                        1\n",
       "Name: Work Industry, dtype: int64"
      ]
     },
     "execution_count": 137,
     "metadata": {},
     "output_type": "execute_result"
    }
   ],
   "source": [
    "df['Work Industry'].loc[df['Work Industry'].str.contains(r'(sport|Sport|(tourism|Tourism))', \n",
    "                                                         regex=True, na=False)].value_counts()"
   ]
  },
  {
   "cell_type": "code",
   "execution_count": 138,
   "id": "1c92d2ee",
   "metadata": {},
   "outputs": [],
   "source": [
    "df['Work Industry'].replace({'Tourism':'Leisure, Sport & Tourism', 'Sports':'Leisure, Sport & Tourism'}, inplace=True)"
   ]
  },
  {
   "cell_type": "code",
   "execution_count": 139,
   "id": "8ae9df14",
   "metadata": {},
   "outputs": [
    {
     "data": {
      "text/plain": [
       "Transport/Logistics         246\n",
       "Leisure, Sport & Tourism     74\n",
       "Name: Work Industry, dtype: int64"
      ]
     },
     "execution_count": 139,
     "metadata": {},
     "output_type": "execute_result"
    }
   ],
   "source": [
    "df['Work Industry'].loc[df['Work Industry'].str.contains(r'(sport|Sport|(tourism|Tourism))', \n",
    "                                                         regex=True, na=False)].value_counts()"
   ]
  },
  {
   "cell_type": "code",
   "execution_count": 140,
   "id": "1266a0cc",
   "metadata": {},
   "outputs": [],
   "source": [
    "df['Work Industry'].replace('Leisure, Sport & Tourism', 'Leisure/Sport/Tourism', inplace=True)"
   ]
  },
  {
   "cell_type": "code",
   "execution_count": 141,
   "id": "70126b51",
   "metadata": {},
   "outputs": [
    {
     "data": {
      "text/plain": [
       "Computing or Tech                          3557\n",
       "Education                                  2719\n",
       "Business/Consulting/Administrative Work    2168\n",
       "Nonprofits                                 2047\n",
       "Engineering/Manufacturing/Construction     1772\n",
       "Medical/Health Care                        1642\n",
       "Accounting/Banking/Finance                 1420\n",
       "Government/Public Administration           1391\n",
       "Law                                         921\n",
       "Art/Design/Media                            899\n",
       "Insurance                                   448\n",
       "Hospitality/Events/Entertainment            399\n",
       "Retail                                      383\n",
       "Utilities & Telecommunications              255\n",
       "Transport/Logistics                         246\n",
       "Sales                                       237\n",
       "Social Work                                 228\n",
       "Biotechnology/Pharma/Biology                212\n",
       "Agriculture or Forestry                     105\n",
       "Leisure/Sport/Tourism                        74\n",
       "Name: Work Industry, dtype: int64"
      ]
     },
     "execution_count": 141,
     "metadata": {},
     "output_type": "execute_result"
    }
   ],
   "source": [
    "df['Work Industry'].value_counts()[0:20]"
   ]
  },
  {
   "cell_type": "code",
   "execution_count": 142,
   "id": "59325b98",
   "metadata": {},
   "outputs": [
    {
     "data": {
      "text/plain": [
       "Agriculture or Forestry              105\n",
       "Agriculture/Agriculture Chemical       1\n",
       "Forensics                              1\n",
       "Name: Work Industry, dtype: int64"
      ]
     },
     "execution_count": 142,
     "metadata": {},
     "output_type": "execute_result"
    }
   ],
   "source": [
    "df['Work Industry'].loc[df['Work Industry'].str.contains(r'(agri|Agri)|(fore|Fore)', regex=True, na=False)].value_counts()"
   ]
  },
  {
   "cell_type": "code",
   "execution_count": 143,
   "id": "e427c390",
   "metadata": {},
   "outputs": [],
   "source": [
    "df['Work Industry'].replace(\n",
    "    {'Agriculture or Forestry':'Agriculture/Forestry', \n",
    "             'Agriculture/Agriculture Chemical':'Agriculture/Forestry', 'Forensics':'Law'}, inplace=True)"
   ]
  },
  {
   "cell_type": "code",
   "execution_count": 144,
   "id": "bca9488a",
   "metadata": {},
   "outputs": [
    {
     "data": {
      "text/plain": [
       "Social Work                                                                                228\n",
       "Academic research (social science)                                                           1\n",
       "social science research - not quite academia, not quite nonprofit, not quite consulting      1\n",
       "Research/Social Science                                                                      1\n",
       "Social science                                                                               1\n",
       "Social sciences research                                                                     1\n",
       "Name: Work Industry, dtype: int64"
      ]
     },
     "execution_count": 144,
     "metadata": {},
     "output_type": "execute_result"
    }
   ],
   "source": [
    "df['Work Industry'].loc[df['Work Industry'].str.contains(r'(social|Social)', regex=True, na=False)].value_counts()"
   ]
  },
  {
   "cell_type": "code",
   "execution_count": 145,
   "id": "1b169928",
   "metadata": {},
   "outputs": [],
   "source": [
    "df['Work Industry'].loc[df['Work Industry'].str.contains(r'(social|Social)', regex=True, na=False)] = 'Social Work'"
   ]
  },
  {
   "cell_type": "code",
   "execution_count": 146,
   "id": "63d12551",
   "metadata": {},
   "outputs": [
    {
     "data": {
      "text/plain": [
       "Computing or Tech                            3557\n",
       "Biotechnology/Pharma/Biology                  212\n",
       "IT                                              4\n",
       "Tech                                            3\n",
       "Technology                                      3\n",
       "Fintech                                         3\n",
       "Publishing: Science, Academic, Technical        1\n",
       "Ecommerce - Technology                          1\n",
       "Automotive technician                           1\n",
       "Technology                                      1\n",
       "Ed Tech                                         1\n",
       "Technical writing                               1\n",
       "Educ tech                                       1\n",
       "Information Technology                          1\n",
       "Information technology (IT)                     1\n",
       "Bitech                                          1\n",
       "Information                                     1\n",
       "FinTech/Payment Processing                      1\n",
       "publishing/edtech                               1\n",
       "IT MSP                                          1\n",
       "IT Security                                     1\n",
       "Govtech Software as a Service                   1\n",
       "Information Technology                          1\n",
       "Career & Technical Training                     1\n",
       "technology/SaaS                                 1\n",
       "Information sciences                            1\n",
       "Technical/IT                                    1\n",
       "Technical/Cybersecurity                         1\n",
       "EdTech                                          1\n",
       "Name: Work Industry, dtype: int64"
      ]
     },
     "execution_count": 146,
     "metadata": {},
     "output_type": "execute_result"
    }
   ],
   "source": [
    "df['Work Industry'].loc[df['Work Industry'].str.contains(r'(computing|Computing)|(tech|Tech)|(IT|Information)', \n",
    "                                                         regex=True, na=False)].value_counts()"
   ]
  },
  {
   "cell_type": "code",
   "execution_count": 147,
   "id": "8cd4d679",
   "metadata": {},
   "outputs": [
    {
     "data": {
      "text/plain": [
       "Commercial Real Estate                                4\n",
       "E-commerce                                            3\n",
       "Commercial Real Estate                                2\n",
       "E commerce                                            1\n",
       "e-commerce                                            1\n",
       "Ecommerce                                             1\n",
       "E-Commerce                                            1\n",
       "Ecommerce fraud                                       1\n",
       "Delivery and installation for commercial machinery    1\n",
       "Commercial Real Estate Data and Analytics/Research    1\n",
       "Fashion/e-commerce                                    1\n",
       "Commercial Fisherman                                  1\n",
       "Commercial furniture                                  1\n",
       "Ecommerce - Technology                                1\n",
       "Commercial Landscaping                                1\n",
       "ECommerce                                             1\n",
       "Commercial Building Material Distribution             1\n",
       "Commercial Real Estate - Private Equity               1\n",
       "digital commerce / ecommerce                          1\n",
       "Name: Work Industry, dtype: int64"
      ]
     },
     "execution_count": 147,
     "metadata": {},
     "output_type": "execute_result"
    }
   ],
   "source": [
    "df['Work Industry'].loc[df['Work Industry'].str.contains(r'(Comme|comme)', regex=True, na=False)].value_counts()"
   ]
  },
  {
   "cell_type": "code",
   "execution_count": 148,
   "id": "495bbc0f",
   "metadata": {},
   "outputs": [],
   "source": [
    "df['Work Industry'].loc[df['Work Industry'].str.contains(r'(Comme|comme)', regex=True, na=False)] = 'Sales'"
   ]
  },
  {
   "cell_type": "code",
   "execution_count": 149,
   "id": "2b8721bb",
   "metadata": {},
   "outputs": [
    {
     "data": {
      "text/plain": [
       "Computing or Tech                            3557\n",
       "IT                                              4\n",
       "Fintech                                         3\n",
       "Technology                                      3\n",
       "Tech                                            3\n",
       "publishing/edtech                               1\n",
       "Bitech                                          1\n",
       "Information technology (IT)                     1\n",
       "Information Technology                          1\n",
       "Educ tech                                       1\n",
       "Technical writing                               1\n",
       "Technology                                      1\n",
       "Publishing: Science, Academic, Technical        1\n",
       "Information                                     1\n",
       "Ed Tech                                         1\n",
       "FinTech/Payment Processing                      1\n",
       "IT MSP                                          1\n",
       "IT Security                                     1\n",
       "Govtech Software as a Service                   1\n",
       "Information Technology                          1\n",
       "Career & Technical Training                     1\n",
       "technology/SaaS                                 1\n",
       "Information sciences                            1\n",
       "Technical/IT                                    1\n",
       "Technical/Cybersecurity                         1\n",
       "EdTech                                          1\n",
       "Name: Work Industry, dtype: int64"
      ]
     },
     "execution_count": 149,
     "metadata": {},
     "output_type": "execute_result"
    }
   ],
   "source": [
    "df['Work Industry'].loc[(df['Work Industry'].str.contains(\n",
    "    r'(computing|Computing)|(tech|Tech)|(IT|Information)', regex=True, na=False)) & \n",
    "                        (df['Work Industry'] != 'Biotechnology/Pharma/Biology') & \n",
    "                        (df['Work Industry'] != 'Automotive technician')].value_counts()"
   ]
  },
  {
   "cell_type": "code",
   "execution_count": 150,
   "id": "31e3ab4f",
   "metadata": {},
   "outputs": [],
   "source": [
    "df['Work Industry'].loc[(df['Work Industry'].str.contains(\n",
    "    r'(computing|Computing)|(tech|Tech)|(IT|Information)', regex=True, na=False)) & \n",
    "                        (df['Work Industry'] != 'Biotechnology/Pharma/Biology')] = 'Computing/IT/Tech'"
   ]
  },
  {
   "cell_type": "code",
   "execution_count": 151,
   "id": "4ba916fc",
   "metadata": {},
   "outputs": [
    {
     "data": {
      "text/plain": [
       "Computing/IT/Tech                          3592\n",
       "Education                                  2719\n",
       "Business/Consulting/Administrative Work    2168\n",
       "Nonprofits                                 2047\n",
       "Engineering/Manufacturing/Construction     1772\n",
       "Medical/Health Care                        1642\n",
       "Accounting/Banking/Finance                 1420\n",
       "Government/Public Administration           1391\n",
       "Law                                         922\n",
       "Art/Design/Media                            899\n",
       "Insurance                                   448\n",
       "Hospitality/Events/Entertainment            399\n",
       "Retail                                      383\n",
       "Sales                                       262\n",
       "Utilities & Telecommunications              255\n",
       "Transport/Logistics                         246\n",
       "Social Work                                 233\n",
       "Biotechnology/Pharma/Biology                212\n",
       "Agriculture/Forestry                        105\n",
       "Leisure/Sport/Tourism                        74\n",
       "Name: Work Industry, dtype: int64"
      ]
     },
     "execution_count": 151,
     "metadata": {},
     "output_type": "execute_result"
    }
   ],
   "source": [
    "df['Work Industry'].value_counts()[0:20]"
   ]
  },
  {
   "cell_type": "code",
   "execution_count": 152,
   "id": "14c1112d",
   "metadata": {},
   "outputs": [
    {
     "data": {
      "text/plain": [
       "Utilities & Telecommunications    255\n",
       "Telecommunications (GPS)            1\n",
       "Telecommunications                  1\n",
       "Name: Work Industry, dtype: int64"
      ]
     },
     "execution_count": 152,
     "metadata": {},
     "output_type": "execute_result"
    }
   ],
   "source": [
    "df['Work Industry'].loc[df['Work Industry'].str.contains(r'(Tele|tele|commu)|(util|Util)', regex=True, na=False)].value_counts()"
   ]
  },
  {
   "cell_type": "code",
   "execution_count": 153,
   "id": "b56c7b7c",
   "metadata": {},
   "outputs": [],
   "source": [
    "df['Work Industry'].loc[df['Work Industry'].str.contains(r'(Tele|tele|commu)|(util|Util)', \n",
    "                                                         regex=True, na=False)] = 'Utilities/Telecommunications'"
   ]
  },
  {
   "cell_type": "code",
   "execution_count": 154,
   "id": "137dbef8",
   "metadata": {},
   "outputs": [
    {
     "name": "stdout",
     "output_type": "stream",
     "text": [
      "95.52 % dos dados dessa variável foram tratados.\n",
      "O número de categorias ainda existentes para essa variável é: 628\n"
     ]
    }
   ],
   "source": [
    "print(round(((df['Work Industry'].value_counts()[0:20].sum()/df['Work Industry'].count())*100), 2),'% dos dados dessa variável foram tratados.')\n",
    "print('O número de categorias ainda existentes para essa variável é:', df['Work Industry'].nunique())\n",
    "\n",
    "#Conforme é visto, a cardinalidade diminuiu, contudo permanece elevada. O ponto positivo é que a imensa maioria dos dados\n",
    "#foram tratados. Ponderando a situação, decidi substituir as entradas de dados correspondentes às categorias que não \n",
    "#foram tratadas por \"Others/Not Correctly Specified\". É uma parcela pequena para o seu tamanho de cardinalidade."
   ]
  },
  {
   "cell_type": "code",
   "execution_count": 155,
   "id": "6fa8d310",
   "metadata": {
    "scrolled": true
   },
   "outputs": [
    {
     "data": {
      "text/plain": [
       "Index(['Computing/IT/Tech', 'Education',\n",
       "       'Business/Consulting/Administrative Work', 'Nonprofits',\n",
       "       'Engineering/Manufacturing/Construction', 'Medical/Health Care',\n",
       "       'Accounting/Banking/Finance', 'Government/Public Administration', 'Law',\n",
       "       'Art/Design/Media', 'Insurance', 'Hospitality/Events/Entertainment',\n",
       "       'Retail', 'Sales', 'Utilities/Telecommunications',\n",
       "       'Transport/Logistics', 'Social Work', 'Biotechnology/Pharma/Biology',\n",
       "       'Agriculture/Forestry', 'Leisure/Sport/Tourism'],\n",
       "      dtype='object')"
      ]
     },
     "execution_count": 155,
     "metadata": {},
     "output_type": "execute_result"
    }
   ],
   "source": [
    "df['Work Industry'].value_counts()[0:20].index"
   ]
  },
  {
   "cell_type": "code",
   "execution_count": 156,
   "id": "45fa7798",
   "metadata": {},
   "outputs": [
    {
     "data": {
      "text/plain": [
       "Computing/IT/Tech                          3592\n",
       "Education                                  2719\n",
       "Business/Consulting/Administrative Work    2168\n",
       "Nonprofits                                 2047\n",
       "Engineering/Manufacturing/Construction     1772\n",
       "Medical/Health Care                        1642\n",
       "Accounting/Banking/Finance                 1420\n",
       "Government/Public Administration           1391\n",
       "Others/Not Correctly Specified              993\n",
       "Law                                         922\n",
       "Art/Design/Media                            899\n",
       "Insurance                                   448\n",
       "Hospitality/Events/Entertainment            399\n",
       "Retail                                      383\n",
       "Sales                                       262\n",
       "Utilities/Telecommunications                257\n",
       "Transport/Logistics                         246\n",
       "Social Work                                 233\n",
       "Biotechnology/Pharma/Biology                212\n",
       "Agriculture/Forestry                        105\n",
       "Leisure/Sport/Tourism                        74\n",
       "Name: Work Industry, dtype: int64"
      ]
     },
     "execution_count": 156,
     "metadata": {},
     "output_type": "execute_result"
    }
   ],
   "source": [
    "for i in df['Work Industry'].value_counts()[20:].index:\n",
    "    df['Work Industry'].loc[df['Work Industry'] == i] = 'Others/Not Correctly Specified'\n",
    "\n",
    "df['Work Industry'].value_counts()"
   ]
  },
  {
   "cell_type": "markdown",
   "id": "38e470e9",
   "metadata": {},
   "source": [
    "#### Gráficos de Salários Anuais pós tratamento inicias:\n",
    "> Continua com outliers severos. "
   ]
  },
  {
   "cell_type": "code",
   "execution_count": 157,
   "id": "4bc4c9a5",
   "metadata": {},
   "outputs": [
    {
     "data": {
      "image/png": "[encoded data removed]",
      "text/plain": [
       "<Figure size 1300x500 with 1 Axes>"
      ]
     },
     "metadata": {},
     "output_type": "display_data"
    }
   ],
   "source": [
    "fig, ax = plt.subplots(figsize=(13,5))\n",
    "ax = sns.boxplot(x=df['Annual Salary'])\n",
    "ax.set_xticklabels(np.arange(0,750000,50000))\n",
    "plt.tight_layout()"
   ]
  },
  {
   "cell_type": "code",
   "execution_count": 158,
   "id": "32f12f84",
   "metadata": {},
   "outputs": [
    {
     "data": {
      "image/png": "[encoded data removed]",
      "text/plain": [
       "<Figure size 1600x600 with 1 Axes>"
      ]
     },
     "metadata": {},
     "output_type": "display_data"
    }
   ],
   "source": [
    "fig, ax = plt.subplots(figsize=(16,6))\n",
    "sns.set_theme(style='white', font='verdana')\n",
    "ax = sns.histplot(x=df['Annual Salary'], kde=True)\n",
    "mean =  'Média - ' + str(round(df['Annual Salary'].mean(), 2))\n",
    "median =  'Mediana - ' + str(round(df['Annual Salary'].median(), 2))\n",
    "ax.axvline(df['Annual Salary'].mean(), color='r', ls='--', lw=1, label=mean)\n",
    "ax.axvline(df['Annual Salary'].median(), color='g', ls='--', lw=1, label=median)\n",
    "ax.set_title('Distribuição - Salário Anual', fontsize=20)\n",
    "ax.set_xlabel('Salário Anual', fontsize=15)\n",
    "ax.set_ylabel('Entrevistados', fontsize=15)\n",
    "ax.set_xticklabels(np.arange(0,500000,50000))\n",
    "plt.legend(loc='upper right')\n",
    "\n",
    "plt.tight_layout()"
   ]
  },
  {
   "cell_type": "markdown",
   "id": "26796eb0",
   "metadata": {},
   "source": [
    "## "
   ]
  },
  {
   "cell_type": "code",
   "execution_count": 159,
   "id": "35ef746c",
   "metadata": {},
   "outputs": [],
   "source": [
    "#Salvar para fazer os tratamentos finais e o modelo de ML.\n",
    "df.to_csv('Projeto_1_ML.csv', index=False)"
   ]
  }
 ],
 "metadata": {
  "colab": {
   "collapsed_sections": [],
   "provenance": []
  },
  "kernelspec": {
   "display_name": "Python 3.9.13 ('base')",
   "language": "python",
   "name": "python3"
  },
  "language_info": {
   "codemirror_mode": {
    "name": "ipython",
    "version": 3
   },
   "file_extension": ".py",
   "mimetype": "text/x-python",
   "name": "python",
   "nbconvert_exporter": "python",
   "pygments_lexer": "ipython3",
   "version": "3.9.13 (main, Aug 25 2022, 23:51:50) [MSC v.1916 64 bit (AMD64)]"
  },
  "vscode": {
   "interpreter": {
    "hash": "7ce700165e2c4b10bae7603f1c1106a887b66d17bed302f9db11fdd8a44210c1"
   }
  }
 },
 "nbformat": 4,
 "nbformat_minor": 5
}
