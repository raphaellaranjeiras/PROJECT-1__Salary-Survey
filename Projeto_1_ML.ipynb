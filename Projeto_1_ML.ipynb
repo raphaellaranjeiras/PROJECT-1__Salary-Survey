{
 "cells": [
  {
   "cell_type": "code",
   "execution_count": 1,
   "id": "25154eb2",
   "metadata": {
    "id": "25154eb2"
   },
   "outputs": [],
   "source": [
    "import pandas as pd\n",
    "import numpy as np\n",
    "import matplotlib.pyplot as plt\n",
    "%matplotlib inline\n",
    "import seaborn as sns\n",
    "from scipy import stats\n",
    "\n",
    "import warnings\n",
    "warnings.filterwarnings(\"ignore\")\n",
    "\n",
    "from sklearn.preprocessing import OrdinalEncoder, OneHotEncoder, PowerTransformer\n",
    "from sklearn.model_selection import train_test_split, cross_validate, RandomizedSearchCV\n",
    "from sklearn.feature_selection import SelectKBest, f_regression, mutual_info_regression, SequentialFeatureSelector\n",
    "from sklearn.linear_model import LinearRegression\n",
    "from sklearn.ensemble import RandomForestRegressor, AdaBoostRegressor, GradientBoostingRegressor\n",
    "from sklearn.pipeline import Pipeline\n",
    "from sklearn.compose import make_column_transformer, TransformedTargetRegressor\n",
    "from sklearn.metrics import r2_score, mean_squared_error\n",
    "from feature_engine.outliers import Winsorizer\n",
    "import category_encoders as ce"
   ]
  },
  {
   "cell_type": "code",
   "execution_count": 2,
   "id": "1edb797f",
   "metadata": {},
   "outputs": [
    {
     "data": {
      "text/html": [
       "<div>\n",
       "<style scoped>\n",
       "    .dataframe tbody tr th:only-of-type {\n",
       "        vertical-align: middle;\n",
       "    }\n",
       "\n",
       "    .dataframe tbody tr th {\n",
       "        vertical-align: top;\n",
       "    }\n",
       "\n",
       "    .dataframe thead th {\n",
       "        text-align: right;\n",
       "    }\n",
       "</style>\n",
       "<table border=\"1\" class=\"dataframe\">\n",
       "  <thead>\n",
       "    <tr style=\"text-align: right;\">\n",
       "      <th></th>\n",
       "      <th>Age</th>\n",
       "      <th>Work Industry</th>\n",
       "      <th>Job title</th>\n",
       "      <th>Annual Salary</th>\n",
       "      <th>Currency</th>\n",
       "      <th>Country</th>\n",
       "      <th>State (US)</th>\n",
       "      <th>City</th>\n",
       "      <th>Overall Work Exp.</th>\n",
       "      <th>Fieldwork Exp.</th>\n",
       "      <th>Level of Education</th>\n",
       "      <th>Gender</th>\n",
       "      <th>Race</th>\n",
       "    </tr>\n",
       "  </thead>\n",
       "  <tbody>\n",
       "    <tr>\n",
       "      <th>0</th>\n",
       "      <td>25-34</td>\n",
       "      <td>Education</td>\n",
       "      <td>Research and Instruction Librarian</td>\n",
       "      <td>55000.0</td>\n",
       "      <td>USD</td>\n",
       "      <td>USA</td>\n",
       "      <td>Massachusetts</td>\n",
       "      <td>Boston</td>\n",
       "      <td>5 - 7 years</td>\n",
       "      <td>5 - 7 years</td>\n",
       "      <td>Master's degree</td>\n",
       "      <td>Woman</td>\n",
       "      <td>White</td>\n",
       "    </tr>\n",
       "    <tr>\n",
       "      <th>1</th>\n",
       "      <td>25-34</td>\n",
       "      <td>Accounting/Banking/Finance</td>\n",
       "      <td>Marketing Specialist</td>\n",
       "      <td>34000.0</td>\n",
       "      <td>USD</td>\n",
       "      <td>USA</td>\n",
       "      <td>Tennessee</td>\n",
       "      <td>Chattanooga</td>\n",
       "      <td>2 - 4 years</td>\n",
       "      <td>2 - 4 years</td>\n",
       "      <td>College degree</td>\n",
       "      <td>Woman</td>\n",
       "      <td>White</td>\n",
       "    </tr>\n",
       "    <tr>\n",
       "      <th>2</th>\n",
       "      <td>25-34</td>\n",
       "      <td>Nonprofits</td>\n",
       "      <td>Program Manager</td>\n",
       "      <td>62000.0</td>\n",
       "      <td>USD</td>\n",
       "      <td>USA</td>\n",
       "      <td>Wisconsin</td>\n",
       "      <td>Milwaukee</td>\n",
       "      <td>8 - 10 years</td>\n",
       "      <td>5 - 7 years</td>\n",
       "      <td>College degree</td>\n",
       "      <td>Woman</td>\n",
       "      <td>White</td>\n",
       "    </tr>\n",
       "    <tr>\n",
       "      <th>3</th>\n",
       "      <td>25-34</td>\n",
       "      <td>Accounting/Banking/Finance</td>\n",
       "      <td>Accounting Manager</td>\n",
       "      <td>60000.0</td>\n",
       "      <td>USD</td>\n",
       "      <td>USA</td>\n",
       "      <td>South Carolina</td>\n",
       "      <td>Greenville</td>\n",
       "      <td>8 - 10 years</td>\n",
       "      <td>5 - 7 years</td>\n",
       "      <td>College degree</td>\n",
       "      <td>Woman</td>\n",
       "      <td>White</td>\n",
       "    </tr>\n",
       "    <tr>\n",
       "      <th>4</th>\n",
       "      <td>25-34</td>\n",
       "      <td>Education</td>\n",
       "      <td>Scholarly Publishing Librarian</td>\n",
       "      <td>62000.0</td>\n",
       "      <td>USD</td>\n",
       "      <td>USA</td>\n",
       "      <td>New Hampshire</td>\n",
       "      <td>Hanover</td>\n",
       "      <td>8 - 10 years</td>\n",
       "      <td>2 - 4 years</td>\n",
       "      <td>Master's degree</td>\n",
       "      <td>Man</td>\n",
       "      <td>White</td>\n",
       "    </tr>\n",
       "  </tbody>\n",
       "</table>\n",
       "</div>"
      ],
      "text/plain": [
       "     Age               Work Industry                           Job title  \\\n",
       "0  25-34                   Education  Research and Instruction Librarian   \n",
       "1  25-34  Accounting/Banking/Finance                Marketing Specialist   \n",
       "2  25-34                  Nonprofits                     Program Manager   \n",
       "3  25-34  Accounting/Banking/Finance                  Accounting Manager   \n",
       "4  25-34                   Education      Scholarly Publishing Librarian   \n",
       "\n",
       "   Annual Salary Currency Country      State (US)         City  \\\n",
       "0        55000.0      USD     USA   Massachusetts       Boston   \n",
       "1        34000.0      USD     USA       Tennessee  Chattanooga   \n",
       "2        62000.0      USD     USA       Wisconsin    Milwaukee   \n",
       "3        60000.0      USD     USA  South Carolina   Greenville   \n",
       "4        62000.0      USD     USA   New Hampshire      Hanover   \n",
       "\n",
       "  Overall Work Exp. Fieldwork Exp. Level of Education Gender   Race  \n",
       "0       5 - 7 years    5 - 7 years    Master's degree  Woman  White  \n",
       "1       2 - 4 years    2 - 4 years     College degree  Woman  White  \n",
       "2      8 - 10 years    5 - 7 years     College degree  Woman  White  \n",
       "3      8 - 10 years    5 - 7 years     College degree  Woman  White  \n",
       "4      8 - 10 years    2 - 4 years    Master's degree    Man  White  "
      ]
     },
     "execution_count": 2,
     "metadata": {},
     "output_type": "execute_result"
    }
   ],
   "source": [
    "df = pd.read_csv('Projeto_1_ML.csv')\n",
    "df.head()"
   ]
  },
  {
   "cell_type": "markdown",
   "id": "f53cb81c",
   "metadata": {},
   "source": [
    "### Análise de Valores Missing"
   ]
  },
  {
   "cell_type": "code",
   "execution_count": 3,
   "id": "0831bdff",
   "metadata": {},
   "outputs": [
    {
     "data": {
      "text/plain": [
       "Age                   0.00\n",
       "Work Industry         0.24\n",
       "Job title             0.00\n",
       "Annual Salary         0.00\n",
       "Currency              0.00\n",
       "Country               0.00\n",
       "State (US)            0.76\n",
       "City                  0.25\n",
       "Overall Work Exp.     0.00\n",
       "Fieldwork Exp.        0.00\n",
       "Level of Education    0.64\n",
       "Gender                0.59\n",
       "Race                  0.58\n",
       "dtype: float64"
      ]
     },
     "execution_count": 3,
     "metadata": {},
     "output_type": "execute_result"
    }
   ],
   "source": [
    "#Porcentagem de valores nulos por variável.\n",
    "\n",
    "df.isnull().mean().mul(100).round(2)"
   ]
  },
  {
   "cell_type": "code",
   "execution_count": 4,
   "id": "906c91c8",
   "metadata": {},
   "outputs": [
    {
     "data": {
      "text/plain": [
       "3.05"
      ]
     },
     "execution_count": 4,
     "metadata": {},
     "output_type": "execute_result"
    }
   ],
   "source": [
    "#Porcentagem de valores nulos em todo o conjunto de dados.\n",
    "df.isnull().mean().mul(100).sum().round(2)"
   ]
  },
  {
   "cell_type": "code",
   "execution_count": 5,
   "id": "3cc3c5f1",
   "metadata": {},
   "outputs": [
    {
     "data": {
      "text/plain": [
       "0.0"
      ]
     },
     "execution_count": 5,
     "metadata": {},
     "output_type": "execute_result"
    }
   ],
   "source": [
    "#Percebe-se que a porcentagem de valores nulos é muito pequena. Supondo que cada valor nulo de cada coluna seja correspondente a\n",
    "# a uma entrada de dado diferente, ainda assim a porcentagem de entradas que possuem valores nulos seria muito pequena (3,06%)\n",
    "#Com isso, eliminarei as entradas de dados com valores nulos.\n",
    "\n",
    "df.dropna(inplace=True)\n",
    "df.isnull().mean().mul(100).sum().round(2)"
   ]
  },
  {
   "cell_type": "markdown",
   "id": "b6e1544e",
   "metadata": {},
   "source": [
    "### Escolha das variáveis"
   ]
  },
  {
   "cell_type": "markdown",
   "id": "43f936e1",
   "metadata": {},
   "source": [
    "- Conforme explicado anteriormente, visto que limitamos a análise àquelas pessoas que ganham em dólar e residem nos Estados Unidos, descartaremos essas duas variáveis (\"Country\" e \"Currency\") por se tornarem irrelevantes. \n",
    "\n",
    "\n",
    "- Conforme visto anteriormente, a variável \"City\" possui uma cardinalidade grande: As subdivisões administrativas dos Estados Unidos são variadas. Diferentemente do Brasil, não há apenas municípios/cidades. Dentro as categorias dessa variável estavam inclusos condados, distritos além das cidades em si. Seria bastante complicado realizar o tratamento completo dessa coluna. Com isso, a mesma foi descartada do modelo para que este represente algo mais consistente. "
   ]
  },
  {
   "cell_type": "markdown",
   "id": "35fa9430",
   "metadata": {},
   "source": [
    "- A variável \"Job title\" possui uma cardinalidade imensa e completa falta de padrão no preenchimento (assim como todo o Data Set em sua grande maioria) e portanto foi completamente descartada do modelo. É importante frisar que ao considerar essa variável no modelo, o mesmo obteve um melhor desempenho. Contudo, há de se considerar que apesar disso o modelo se tornaria inconsistente, visto que, nesse caso, o dados que o alimentam não possuem um padrão de preenchimento, se tornando ambíguos, \"poluídos\", sem confiança. "
   ]
  },
  {
   "cell_type": "code",
   "execution_count": 6,
   "id": "8ba9aa15",
   "metadata": {
    "scrolled": true
   },
   "outputs": [
    {
     "data": {
      "text/plain": [
       "Software Engineer                 1.016025\n",
       "Project Manager                   0.794347\n",
       "Senior Software Engineer          0.734309\n",
       "Director                          0.725073\n",
       "Program Manager                   0.604997\n",
       "                                    ...   \n",
       "Pathology Admin Coordinator       0.004618\n",
       "Editor at news outlet             0.004618\n",
       "Business Process Manager          0.004618\n",
       "Community Engagement Associate    0.004618\n",
       "senior wifi engineer              0.004618\n",
       "Name: Job title, Length: 11413, dtype: float64"
      ]
     },
     "execution_count": 6,
     "metadata": {},
     "output_type": "execute_result"
    }
   ],
   "source": [
    "df['Job title'].value_counts(normalize=True).mul(100)"
   ]
  },
  {
   "cell_type": "code",
   "execution_count": 7,
   "id": "35ab0bce",
   "metadata": {},
   "outputs": [
    {
     "data": {
      "text/plain": [
       "11413"
      ]
     },
     "execution_count": 7,
     "metadata": {},
     "output_type": "execute_result"
    }
   ],
   "source": [
    "df['Job title'].nunique()"
   ]
  },
  {
   "cell_type": "markdown",
   "id": "d15a32bf",
   "metadata": {},
   "source": [
    "- Visto que a variável 'Job title' poderia ser muito importante para o modelo, descartar também a variável 'Work Industry' provocaria muita perda de informação. Com isso, apesar da grande cardinalidade, tentou-se realizar um tratamento minimamente satisfatório. Buscou-se tratar as 20 categorias com maior número (elas representaram 95,5% dos dados), removendo ambiguidade e agrupando de forma mais lógica as categorias. As categorias restantes foram agrupadas em uma nova categoria chamada 'Others/Not Correctly Specified'.  \n",
    "\n",
    "\n",
    "- Conforme explicado anteriormente, a variável \"State (US)\" possui como um dos seus valores o valor \"More than one State\" e a capital do país, Washington D.C (distrito), considerada como estado para fins dessa análise. Está identificada como \"District of Columbia\"."
   ]
  },
  {
   "cell_type": "code",
   "execution_count": 8,
   "id": "a1f0ff4b",
   "metadata": {
    "scrolled": true
   },
   "outputs": [
    {
     "data": {
      "text/html": [
       "<div>\n",
       "<style scoped>\n",
       "    .dataframe tbody tr th:only-of-type {\n",
       "        vertical-align: middle;\n",
       "    }\n",
       "\n",
       "    .dataframe tbody tr th {\n",
       "        vertical-align: top;\n",
       "    }\n",
       "\n",
       "    .dataframe thead th {\n",
       "        text-align: right;\n",
       "    }\n",
       "</style>\n",
       "<table border=\"1\" class=\"dataframe\">\n",
       "  <thead>\n",
       "    <tr style=\"text-align: right;\">\n",
       "      <th></th>\n",
       "      <th>Age</th>\n",
       "      <th>Work Industry</th>\n",
       "      <th>State (US)</th>\n",
       "      <th>Overall Work Exp.</th>\n",
       "      <th>Fieldwork Exp.</th>\n",
       "      <th>Level of Education</th>\n",
       "      <th>Gender</th>\n",
       "      <th>Race</th>\n",
       "      <th>Annual Salary</th>\n",
       "    </tr>\n",
       "  </thead>\n",
       "  <tbody>\n",
       "    <tr>\n",
       "      <th>0</th>\n",
       "      <td>25-34</td>\n",
       "      <td>Education</td>\n",
       "      <td>Massachusetts</td>\n",
       "      <td>5 - 7 years</td>\n",
       "      <td>5 - 7 years</td>\n",
       "      <td>Master's degree</td>\n",
       "      <td>Woman</td>\n",
       "      <td>White</td>\n",
       "      <td>55000.0</td>\n",
       "    </tr>\n",
       "    <tr>\n",
       "      <th>1</th>\n",
       "      <td>25-34</td>\n",
       "      <td>Accounting/Banking/Finance</td>\n",
       "      <td>Tennessee</td>\n",
       "      <td>2 - 4 years</td>\n",
       "      <td>2 - 4 years</td>\n",
       "      <td>College degree</td>\n",
       "      <td>Woman</td>\n",
       "      <td>White</td>\n",
       "      <td>34000.0</td>\n",
       "    </tr>\n",
       "    <tr>\n",
       "      <th>2</th>\n",
       "      <td>25-34</td>\n",
       "      <td>Nonprofits</td>\n",
       "      <td>Wisconsin</td>\n",
       "      <td>8 - 10 years</td>\n",
       "      <td>5 - 7 years</td>\n",
       "      <td>College degree</td>\n",
       "      <td>Woman</td>\n",
       "      <td>White</td>\n",
       "      <td>62000.0</td>\n",
       "    </tr>\n",
       "    <tr>\n",
       "      <th>3</th>\n",
       "      <td>25-34</td>\n",
       "      <td>Accounting/Banking/Finance</td>\n",
       "      <td>South Carolina</td>\n",
       "      <td>8 - 10 years</td>\n",
       "      <td>5 - 7 years</td>\n",
       "      <td>College degree</td>\n",
       "      <td>Woman</td>\n",
       "      <td>White</td>\n",
       "      <td>60000.0</td>\n",
       "    </tr>\n",
       "    <tr>\n",
       "      <th>4</th>\n",
       "      <td>25-34</td>\n",
       "      <td>Education</td>\n",
       "      <td>New Hampshire</td>\n",
       "      <td>8 - 10 years</td>\n",
       "      <td>2 - 4 years</td>\n",
       "      <td>Master's degree</td>\n",
       "      <td>Man</td>\n",
       "      <td>White</td>\n",
       "      <td>62000.0</td>\n",
       "    </tr>\n",
       "  </tbody>\n",
       "</table>\n",
       "</div>"
      ],
      "text/plain": [
       "     Age               Work Industry      State (US) Overall Work Exp.  \\\n",
       "0  25-34                   Education   Massachusetts       5 - 7 years   \n",
       "1  25-34  Accounting/Banking/Finance       Tennessee       2 - 4 years   \n",
       "2  25-34                  Nonprofits       Wisconsin      8 - 10 years   \n",
       "3  25-34  Accounting/Banking/Finance  South Carolina      8 - 10 years   \n",
       "4  25-34                   Education   New Hampshire      8 - 10 years   \n",
       "\n",
       "  Fieldwork Exp. Level of Education Gender   Race  Annual Salary  \n",
       "0    5 - 7 years    Master's degree  Woman  White        55000.0  \n",
       "1    2 - 4 years     College degree  Woman  White        34000.0  \n",
       "2    5 - 7 years     College degree  Woman  White        62000.0  \n",
       "3    5 - 7 years     College degree  Woman  White        60000.0  \n",
       "4    2 - 4 years    Master's degree    Man  White        62000.0  "
      ]
     },
     "execution_count": 8,
     "metadata": {},
     "output_type": "execute_result"
    }
   ],
   "source": [
    "X = df.drop(['Annual Salary', 'Job title', 'Currency', 'Country', 'City'], axis=1)\n",
    "y = df['Annual Salary']\n",
    "df = pd.concat([X, y], axis=1)\n",
    "df.head()"
   ]
  },
  {
   "cell_type": "markdown",
   "id": "886ca215",
   "metadata": {},
   "source": [
    "### Separação do conjunto de dados\n",
    "  > Realizar essa separação de imediato (antes das transformações nos dados) é crucial para **evitar** ***Data Leakage***."
   ]
  },
  {
   "cell_type": "code",
   "execution_count": 9,
   "id": "772ad956",
   "metadata": {},
   "outputs": [],
   "source": [
    "X_train, X_test, y_train, y_test = train_test_split(X, y, test_size= 0.33, random_state= 4)"
   ]
  },
  {
   "cell_type": "markdown",
   "id": "a43cccc6",
   "metadata": {},
   "source": [
    "### Target"
   ]
  },
  {
   "cell_type": "code",
   "execution_count": 10,
   "id": "d21ecd29",
   "metadata": {
    "scrolled": true
   },
   "outputs": [
    {
     "data": {
      "image/png": "[encoded data removed]",
      "text/plain": [
       "<Figure size 640x480 with 1 Axes>"
      ]
     },
     "metadata": {},
     "output_type": "display_data"
    }
   ],
   "source": [
    "sns.boxplot(x=df['Annual Salary'])\n",
    "plt.tight_layout()"
   ]
  },
  {
   "cell_type": "code",
   "execution_count": 11,
   "id": "e332cba3",
   "metadata": {},
   "outputs": [],
   "source": [
    "#Removendo \"outliers\": Importante frisar que a maneira como a pesquisa foi feita não garante segurança alguma nas respostas\n",
    "#aumentando ainda mais a chance dos valores serem inverídicos e portanto serem de fato um outlier. Escolhi a abordagem mais\n",
    "#conservadora considerando o intervalo inter-quartil pois o conjunto de dados é muito poluído e só dessa forma teremos um modelo\n",
    "#com mínima capacidade preditiva. \n",
    "\n",
    "outlier = Winsorizer(\n",
    "    variables= ['Annual Salary'],\n",
    "    capping_method= 'iqr',\n",
    "    tail= 'both',                          \n",
    "    fold= 1.5\n",
    "                    )\n",
    "\n",
    "#Esse transformador só aceita DataFrames. Por isso tive que fazer a conversão.\n",
    "y_train_winsorized= outlier.fit_transform(y_train.to_frame())\n",
    "y_test_winsorized= outlier.transform(y_test.to_frame())\n",
    "\n",
    "#Agora estou convertendo de volta para Série.\n",
    "y_train_winsorized = y_train_winsorized.squeeze()\n",
    "y_test_winsorized = y_test_winsorized.squeeze()"
   ]
  },
  {
   "cell_type": "code",
   "execution_count": 12,
   "id": "2cdbf4ad",
   "metadata": {},
   "outputs": [
    {
     "data": {
      "image/png": "[encoded data removed]",
      "text/plain": [
       "<Figure size 900x400 with 2 Axes>"
      ]
     },
     "metadata": {},
     "output_type": "display_data"
    }
   ],
   "source": [
    "fig, ax = plt.subplots(1,2, figsize= (9,4))\n",
    "\n",
    "sns.boxplot(x= y_train_winsorized, ax= ax[0])\n",
    "sns.histplot(x= y_train_winsorized, ax= ax[1])\n",
    "\n",
    "plt.tight_layout()"
   ]
  },
  {
   "cell_type": "code",
   "execution_count": 13,
   "id": "b235232f-b7f5-43d8-9421-a017ccb4735d",
   "metadata": {},
   "outputs": [
    {
     "data": {
      "image/png": "[encoded data removed]",
      "text/plain": [
       "<Figure size 900x400 with 2 Axes>"
      ]
     },
     "metadata": {},
     "output_type": "display_data"
    }
   ],
   "source": [
    "fig, ax = plt.subplots(1,2, figsize= (9,4))\n",
    "\n",
    "sns.boxplot(x= y_test_winsorized, ax= ax[0])\n",
    "sns.histplot(x= y_test_winsorized, ax= ax[1])\n",
    "\n",
    "plt.tight_layout()"
   ]
  },
  {
   "cell_type": "markdown",
   "id": "f21072d5",
   "metadata": {},
   "source": [
    "## Machine Learning"
   ]
  },
  {
   "cell_type": "markdown",
   "id": "da6b998b",
   "metadata": {},
   "source": [
    "### Pré-processamento"
   ]
  },
  {
   "cell_type": "code",
   "execution_count": 14,
   "id": "88d9051c",
   "metadata": {},
   "outputs": [
    {
     "data": {
      "text/plain": [
       "Index(['Age', 'Work Industry', 'State (US)', 'Overall Work Exp.',\n",
       "       'Fieldwork Exp.', 'Level of Education', 'Gender', 'Race'],\n",
       "      dtype='object')"
      ]
     },
     "execution_count": 14,
     "metadata": {},
     "output_type": "execute_result"
    }
   ],
   "source": [
    "X_train.columns"
   ]
  },
  {
   "cell_type": "code",
   "execution_count": 15,
   "id": "6101c504",
   "metadata": {},
   "outputs": [
    {
     "data": {
      "text/plain": [
       "(14507, 8)"
      ]
     },
     "execution_count": 15,
     "metadata": {},
     "output_type": "execute_result"
    }
   ],
   "source": [
    "X_train.shape"
   ]
  },
  {
   "cell_type": "markdown",
   "id": "67d3ef9a",
   "metadata": {},
   "source": [
    "#### Features"
   ]
  },
  {
   "cell_type": "markdown",
   "id": "a8845d3b",
   "metadata": {},
   "source": [
    "- Foi escolhido ***HelmertEncoder*** pois o mesmo considera a ordenação da variável e suas classes de ordenação. Para estabelecer o encoding leva em consideração todos os níveis da respectiva classe. Dessa forma o valor numérico atribuído a cada categoria tende a ser mais realista pois leva em consideração o conjunto de classes/níveis de cada variável. \n",
    "\n",
    "\n",
    "- Foi escolhido o ***LeaveOneOutEncoder*** pois visto que o modelo está tendendo underfitar, encodigns Bayesianos são bem vindos. Essa classe de encodings tem como tendência overfitar pois coletam informações da variável target para estabelcer o valor númerico de suas categorias. No caso do LOOE utiliza-se o valor esperado, desconsiderando a respectiva instância (por isso *leave-one-out*). Para esse Data Set foi a melhor escolha pois ao fazer essa manobra diminui o impacto de outliers."
   ]
  },
  {
   "cell_type": "code",
   "execution_count": 16,
   "id": "dd0a57da",
   "metadata": {},
   "outputs": [],
   "source": [
    "features_pipe = make_column_transformer(\n",
    "    (ce.HelmertEncoder(handle_unknown='ignore'), ['Level of Education', 'Overall Work Exp.', 'Fieldwork Exp.']),\n",
    "    (ce.LeaveOneOutEncoder(handle_unknown='ignore'), ['State (US)', 'Work Industry', 'Gender', 'Race', 'Age']))"
   ]
  },
  {
   "cell_type": "markdown",
   "id": "ce8df5a8-b3a9-443f-bd16-23283e19d982",
   "metadata": {},
   "source": [
    "### Cross-Validation"
   ]
  },
  {
   "cell_type": "markdown",
   "id": "d90ca885-9721-44a0-ba2a-8d05de70979e",
   "metadata": {},
   "source": [
    "#### TransformedTargetRegressor"
   ]
  },
  {
   "cell_type": "code",
   "execution_count": 17,
   "id": "da6d199c",
   "metadata": {},
   "outputs": [
    {
     "data": {
      "text/plain": [
       "train_neg_root_mean_squared_error   -32350.734420\n",
       "test_neg_root_mean_squared_error    -32546.135971\n",
       "train_r2                                 0.418873\n",
       "test_r2                                  0.410900\n",
       "dtype: float64"
      ]
     },
     "execution_count": 17,
     "metadata": {},
     "output_type": "execute_result"
    }
   ],
   "source": [
    "#Com transformação da variável target:\n",
    "\n",
    "ttr = TransformedTargetRegressor(\n",
    "                            regressor = LinearRegression(),\n",
    "                            transformer = PowerTransformer()\n",
    "                                )\n",
    "\n",
    "final_pipe = Pipeline([('features_pipe', features_pipe), ('model', ttr)])\n",
    "\n",
    "cv_ttr = cross_validate(final_pipe, X_train, y_train_winsorized, cv = 10, \n",
    "                        scoring = ('r2', 'neg_root_mean_squared_error'), n_jobs = -1, return_train_score= True)\n",
    "\n",
    "cv_ttr_df = pd.DataFrame(cv_ttr)\n",
    "cv_ttr_df[['train_neg_root_mean_squared_error', 'test_neg_root_mean_squared_error', 'train_r2', 'test_r2']].mean()"
   ]
  },
  {
   "cell_type": "code",
   "execution_count": 18,
   "id": "66db6cd9",
   "metadata": {},
   "outputs": [
    {
     "name": "stdout",
     "output_type": "stream",
     "text": [
      "O Coeficiente de Determinação com novos dados é: 0.432\n",
      "O RMSE com novos dados é: 32346.791\n"
     ]
    }
   ],
   "source": [
    "#Utilizando o conjunto de dados de teste para simular dados em produção:\n",
    "\n",
    "final_pipe.fit(X_train, y_train_winsorized)\n",
    "y_pred = final_pipe.predict(X_test)\n",
    "\n",
    "r2_det_test_cv_ttr = r2_score(y_test_winsorized, y_pred)\n",
    "rmse_test_cv_ttr = mean_squared_error(y_test_winsorized, y_pred, squared = False)\n",
    "\n",
    "print('O Coeficiente de Determinação com novos dados é:', r2_det_test_cv_ttr.round(3))\n",
    "print('O RMSE com novos dados é:', rmse_test_cv_ttr.round(3))"
   ]
  },
  {
   "cell_type": "markdown",
   "id": "ded2fd72-87ff-459a-823a-f5caed1ca186",
   "metadata": {},
   "source": [
    "#### LinearRegression"
   ]
  },
  {
   "cell_type": "code",
   "execution_count": 71,
   "id": "ef64c6df",
   "metadata": {},
   "outputs": [
    {
     "data": {
      "text/plain": [
       "train_neg_root_mean_squared_error   -32299.139495\n",
       "test_neg_root_mean_squared_error    -32497.322178\n",
       "train_r2                                 0.420725\n",
       "test_r2                                  0.412638\n",
       "dtype: float64"
      ]
     },
     "execution_count": 71,
     "metadata": {},
     "output_type": "execute_result"
    }
   ],
   "source": [
    "#Sem transformação da variável target:\n",
    "\n",
    "lr = LinearRegression()\n",
    "\n",
    "final_pipe = Pipeline([('features_pipe', features_pipe), ('model', lr)])\n",
    "\n",
    "cv_lr = cross_validate(final_pipe, X_train, y_train_winsorized, cv = 10, \n",
    "                       scoring = ('r2', 'neg_root_mean_squared_error'), n_jobs = -1, return_train_score= True)\n",
    "\n",
    "cv_lr_df = pd.DataFrame(cv_lr)\n",
    "cv_lr_df[['train_neg_root_mean_squared_error', 'test_neg_root_mean_squared_error', 'train_r2', 'test_r2']].mean()"
   ]
  },
  {
   "cell_type": "code",
   "execution_count": 68,
   "id": "1accde76",
   "metadata": {},
   "outputs": [
    {
     "name": "stdout",
     "output_type": "stream",
     "text": [
      "O Coeficiente de Determinação com novos dados é: 0.439\n",
      "O RMSE com novos dados é: 32148.283\n"
     ]
    }
   ],
   "source": [
    "#Utilizando o conjunto de dados de teste para simular dados em produção:\n",
    "\n",
    "final_pipe.fit(X_train, y_train_winsorized)\n",
    "y_pred = final_pipe.predict(X_test)\n",
    "\n",
    "r2_test_cv_lr = r2_score(y_test_winsorized, y_pred)\n",
    "rmse_test_cv_lr = mean_squared_error(y_test_winsorized, y_pred, squared = False)\n",
    "\n",
    "print('O Coeficiente de Determinação com novos dados é:', r2_test_cv_lr.round(3))\n",
    "print('O RMSE com novos dados é:', rmse_test_cv_lr.round(3))"
   ]
  },
  {
   "cell_type": "markdown",
   "id": "b4e1e09f",
   "metadata": {},
   "source": [
    "#### AdaBoostRegressor"
   ]
  },
  {
   "cell_type": "code",
   "execution_count": 59,
   "id": "45492ee7",
   "metadata": {},
   "outputs": [
    {
     "data": {
      "text/plain": [
       "train_neg_root_mean_squared_error   -32329.068136\n",
       "test_neg_root_mean_squared_error    -32541.235742\n",
       "train_r2                                 0.419652\n",
       "test_r2                                  0.411026\n",
       "dtype: float64"
      ]
     },
     "execution_count": 59,
     "metadata": {},
     "output_type": "execute_result"
    }
   ],
   "source": [
    "ab_lr = AdaBoostRegressor(lr, n_estimators= 100, random_state= 20, learning_rate=5)\n",
    "\n",
    "final_pipe = Pipeline([('features_pipe', features_pipe), ('model', ab_lr)])\n",
    "\n",
    "cv_ab_lr =  cross_validate(final_pipe, X_train, y_train_winsorized, cv = 10, n_jobs= -1, \n",
    "                           scoring = ('r2', 'neg_root_mean_squared_error'), return_train_score= True)\n",
    "\n",
    "cv_ab_lr_df = pd.DataFrame(cv_ab_lr)\n",
    "cv_ab_lr_df[['train_neg_root_mean_squared_error', 'test_neg_root_mean_squared_error', 'train_r2', 'test_r2']].mean()"
   ]
  },
  {
   "cell_type": "code",
   "execution_count": 60,
   "id": "7c6877bb-763a-4558-819a-e680c77d169e",
   "metadata": {},
   "outputs": [
    {
     "name": "stdout",
     "output_type": "stream",
     "text": [
      "O Coeficiente de Determinação com novos dados é: 0.438\n",
      "O RMSE com novos dados é: 32190.301\n"
     ]
    }
   ],
   "source": [
    "#Utilizando o conjunto de dados de teste para simular dados em produção:\n",
    "\n",
    "final_pipe.fit(X_train, y_train_winsorized)\n",
    "\n",
    "y_pred = final_pipe.predict(X_test)\n",
    "\n",
    "r2_test_cv_ab_lr = r2_score(y_test_winsorized, y_pred)\n",
    "rmse_test_cv_ab_lr = mean_squared_error(y_test_winsorized, y_pred, squared = False)\n",
    "\n",
    "print('O Coeficiente de Determinação com novos dados é:', r2_test_cv_ab_lr.round(3))\n",
    "print('O RMSE com novos dados é:', rmse_test_cv_ab_lr.round(3))"
   ]
  },
  {
   "cell_type": "markdown",
   "id": "ec14d4d8-d991-4041-b226-0971a54dba3d",
   "metadata": {},
   "source": [
    "#### GradientBoostingRegressor"
   ]
  },
  {
   "cell_type": "code",
   "execution_count": 23,
   "id": "196408c8-eb0f-4e09-acc6-47a9cb86770e",
   "metadata": {},
   "outputs": [
    {
     "data": {
      "text/plain": [
       "train_neg_root_mean_squared_error   -41728.310442\n",
       "test_neg_root_mean_squared_error    -41766.274716\n",
       "train_r2                                 0.033080\n",
       "test_r2                                  0.030498\n",
       "dtype: float64"
      ]
     },
     "execution_count": 23,
     "metadata": {},
     "output_type": "execute_result"
    }
   ],
   "source": [
    "gbr = GradientBoostingRegressor(max_depth=10, n_estimators=100, random_state=4, learning_rate=0.031)\n",
    "\n",
    "final_pipe = Pipeline([('features_pipe', features_pipe), ('model', gbr)])\n",
    "\n",
    "cv_gbr =  cross_validate(final_pipe, X_train, y_train_winsorized, cv = 10, n_jobs= -1, \n",
    "                           scoring = ('r2', 'neg_root_mean_squared_error'), return_train_score= True)\n",
    "\n",
    "cv_gbr_df = pd.DataFrame(cv_gbr)\n",
    "cv_gbr_df[['train_neg_root_mean_squared_error', 'test_neg_root_mean_squared_error', 'train_r2', 'test_r2']].mean()"
   ]
  },
  {
   "cell_type": "code",
   "execution_count": 24,
   "id": "e792a32c-0c90-4950-a009-fedd4c1e5766",
   "metadata": {},
   "outputs": [
    {
     "name": "stdout",
     "output_type": "stream",
     "text": [
      "O Coeficiente de Determinação com novos dados é: 0.044\n",
      "O RMSE com novos dados é: 41960.286\n"
     ]
    }
   ],
   "source": [
    "#Utilizando o conjunto de dados de teste para simular dados em produção:\n",
    "\n",
    "final_pipe.fit(X_train, y_train_winsorized)\n",
    "\n",
    "y_pred = final_pipe.predict(X_test)\n",
    "\n",
    "r2_test_cv_gbr = r2_score(y_test_winsorized, y_pred)\n",
    "rmse_test_cv_gbr = mean_squared_error(y_test_winsorized, y_pred, squared = False)\n",
    "\n",
    "print('O Coeficiente de Determinação com novos dados é:', r2_test_cv_gbr.round(3))\n",
    "print('O RMSE com novos dados é:', rmse_test_cv_gbr.round(3))"
   ]
  },
  {
   "cell_type": "markdown",
   "id": "e1443069",
   "metadata": {
    "tags": []
   },
   "source": [
    "#### Random Forest "
   ]
  },
  {
   "cell_type": "code",
   "execution_count": 25,
   "id": "0f728b9f",
   "metadata": {},
   "outputs": [
    {
     "data": {
      "text/plain": [
       "RandomizedSearchCV(cv=10,\n",
       "                   estimator=Pipeline(steps=[('features_pipe',\n",
       "                                              ColumnTransformer(transformers=[('helmertencoder',\n",
       "                                                                               HelmertEncoder(handle_unknown='ignore'),\n",
       "                                                                               ['Level '\n",
       "                                                                                'of '\n",
       "                                                                                'Education',\n",
       "                                                                                'Overall '\n",
       "                                                                                'Work '\n",
       "                                                                                'Exp.',\n",
       "                                                                                'Fieldwork '\n",
       "                                                                                'Exp.']),\n",
       "                                                                              ('leaveoneoutencoder',\n",
       "                                                                               LeaveOneOutEncoder(handle_unknown='ignore'),\n",
       "                                                                               ['State '\n",
       "                                                                                '(US)',\n",
       "                                                                                'Work '\n",
       "                                                                                'Industry',\n",
       "                                                                                'Gender',\n",
       "                                                                                'Race',\n",
       "                                                                                'Age'])])),\n",
       "                                             ('model',\n",
       "                                              RandomForestRegressor(n_jobs=-1,\n",
       "                                                                    random_state=2))]),\n",
       "                   n_jobs=-1,\n",
       "                   param_distributions={'model__max_depth': array([ 8,  9, 10, 11, 12, 13, 14, 15, 16, 17, 18])},\n",
       "                   refit='neg_root_mean_squared_error', return_train_score=True,\n",
       "                   scoring=['neg_root_mean_squared_error', 'r2'])"
      ]
     },
     "execution_count": 25,
     "metadata": {},
     "output_type": "execute_result"
    }
   ],
   "source": [
    "rf = RandomForestRegressor(n_estimators =100, n_jobs=-1, random_state=2)\n",
    "\n",
    "final_pipe = Pipeline([('features_pipe', features_pipe), ('model', rf)])\n",
    "\n",
    "param_grid = {'model__max_depth': np.arange(8, 19)}\n",
    "\n",
    "rcv_rf = RandomizedSearchCV(final_pipe, param_grid, n_jobs= -1, cv= 10, return_train_score= True,\n",
    "                scoring= ['neg_root_mean_squared_error', 'r2'], refit= 'neg_root_mean_squared_error')\n",
    " \n",
    "rcv_rf.fit(X_train, y_train_winsorized)"
   ]
  },
  {
   "cell_type": "code",
   "execution_count": 31,
   "id": "82968ca3",
   "metadata": {},
   "outputs": [
    {
     "data": {
      "text/html": [
       "<div>\n",
       "<style scoped>\n",
       "    .dataframe tbody tr th:only-of-type {\n",
       "        vertical-align: middle;\n",
       "    }\n",
       "\n",
       "    .dataframe tbody tr th {\n",
       "        vertical-align: top;\n",
       "    }\n",
       "\n",
       "    .dataframe thead th {\n",
       "        text-align: right;\n",
       "    }\n",
       "</style>\n",
       "<table border=\"1\" class=\"dataframe\">\n",
       "  <thead>\n",
       "    <tr style=\"text-align: right;\">\n",
       "      <th></th>\n",
       "      <th>params</th>\n",
       "      <th>mean_train_neg_root_mean_squared_error</th>\n",
       "      <th>mean_test_neg_root_mean_squared_error</th>\n",
       "      <th>mean_train_r2</th>\n",
       "      <th>mean_test_r2</th>\n",
       "    </tr>\n",
       "  </thead>\n",
       "  <tbody>\n",
       "    <tr>\n",
       "      <th>0</th>\n",
       "      <td>{'model__max_depth': 15}</td>\n",
       "      <td>-41662.36</td>\n",
       "      <td>-41658.12</td>\n",
       "      <td>0.04</td>\n",
       "      <td>0.04</td>\n",
       "    </tr>\n",
       "    <tr>\n",
       "      <th>5</th>\n",
       "      <td>{'model__max_depth': 12}</td>\n",
       "      <td>-41658.64</td>\n",
       "      <td>-41660.92</td>\n",
       "      <td>0.04</td>\n",
       "      <td>0.04</td>\n",
       "    </tr>\n",
       "    <tr>\n",
       "      <th>1</th>\n",
       "      <td>{'model__max_depth': 13}</td>\n",
       "      <td>-41660.83</td>\n",
       "      <td>-41661.95</td>\n",
       "      <td>0.04</td>\n",
       "      <td>0.04</td>\n",
       "    </tr>\n",
       "    <tr>\n",
       "      <th>8</th>\n",
       "      <td>{'model__max_depth': 14}</td>\n",
       "      <td>-41663.10</td>\n",
       "      <td>-41662.14</td>\n",
       "      <td>0.04</td>\n",
       "      <td>0.04</td>\n",
       "    </tr>\n",
       "    <tr>\n",
       "      <th>3</th>\n",
       "      <td>{'model__max_depth': 11}</td>\n",
       "      <td>-41664.62</td>\n",
       "      <td>-41667.20</td>\n",
       "      <td>0.04</td>\n",
       "      <td>0.04</td>\n",
       "    </tr>\n",
       "    <tr>\n",
       "      <th>7</th>\n",
       "      <td>{'model__max_depth': 16}</td>\n",
       "      <td>-41669.50</td>\n",
       "      <td>-41668.16</td>\n",
       "      <td>0.04</td>\n",
       "      <td>0.04</td>\n",
       "    </tr>\n",
       "    <tr>\n",
       "      <th>2</th>\n",
       "      <td>{'model__max_depth': 17}</td>\n",
       "      <td>-41669.79</td>\n",
       "      <td>-41671.26</td>\n",
       "      <td>0.04</td>\n",
       "      <td>0.04</td>\n",
       "    </tr>\n",
       "    <tr>\n",
       "      <th>4</th>\n",
       "      <td>{'model__max_depth': 18}</td>\n",
       "      <td>-41672.45</td>\n",
       "      <td>-41671.74</td>\n",
       "      <td>0.04</td>\n",
       "      <td>0.04</td>\n",
       "    </tr>\n",
       "    <tr>\n",
       "      <th>9</th>\n",
       "      <td>{'model__max_depth': 10}</td>\n",
       "      <td>-41703.63</td>\n",
       "      <td>-41704.05</td>\n",
       "      <td>0.03</td>\n",
       "      <td>0.03</td>\n",
       "    </tr>\n",
       "    <tr>\n",
       "      <th>6</th>\n",
       "      <td>{'model__max_depth': 9}</td>\n",
       "      <td>-41919.25</td>\n",
       "      <td>-41927.36</td>\n",
       "      <td>0.02</td>\n",
       "      <td>0.02</td>\n",
       "    </tr>\n",
       "  </tbody>\n",
       "</table>\n",
       "</div>"
      ],
      "text/plain": [
       "                     params  mean_train_neg_root_mean_squared_error  \\\n",
       "0  {'model__max_depth': 15}                               -41662.36   \n",
       "5  {'model__max_depth': 12}                               -41658.64   \n",
       "1  {'model__max_depth': 13}                               -41660.83   \n",
       "8  {'model__max_depth': 14}                               -41663.10   \n",
       "3  {'model__max_depth': 11}                               -41664.62   \n",
       "7  {'model__max_depth': 16}                               -41669.50   \n",
       "2  {'model__max_depth': 17}                               -41669.79   \n",
       "4  {'model__max_depth': 18}                               -41672.45   \n",
       "9  {'model__max_depth': 10}                               -41703.63   \n",
       "6   {'model__max_depth': 9}                               -41919.25   \n",
       "\n",
       "   mean_test_neg_root_mean_squared_error  mean_train_r2  mean_test_r2  \n",
       "0                              -41658.12           0.04          0.04  \n",
       "5                              -41660.92           0.04          0.04  \n",
       "1                              -41661.95           0.04          0.04  \n",
       "8                              -41662.14           0.04          0.04  \n",
       "3                              -41667.20           0.04          0.04  \n",
       "7                              -41668.16           0.04          0.04  \n",
       "2                              -41671.26           0.04          0.04  \n",
       "4                              -41671.74           0.04          0.04  \n",
       "9                              -41704.05           0.03          0.03  \n",
       "6                              -41927.36           0.02          0.02  "
      ]
     },
     "execution_count": 31,
     "metadata": {},
     "output_type": "execute_result"
    }
   ],
   "source": [
    "rcv_rf_df = pd.DataFrame(rcv_rf.cv_results_)\n",
    "(rcv_rf_df[['params', 'mean_train_neg_root_mean_squared_error', 'mean_test_neg_root_mean_squared_error', 'mean_train_r2', 'mean_test_r2']]\n",
    "                                                .sort_values('mean_test_neg_root_mean_squared_error', ascending= False).round(2))"
   ]
  },
  {
   "cell_type": "code",
   "execution_count": 33,
   "id": "7ed2eeb2",
   "metadata": {},
   "outputs": [
    {
     "name": "stdout",
     "output_type": "stream",
     "text": [
      "O Coeficiente de Determinação com novos dados é: 0.036\n",
      "O RMSE com novos dados é: 42155.173\n"
     ]
    }
   ],
   "source": [
    "#Utilizando o conjunto de dados de teste para simular dados em produção:\n",
    "\n",
    "rcv_rf.best_estimator_.fit(X_train, y_train_winsorized)\n",
    "y_pred =  rcv_rf.best_estimator_.predict(X_test)\n",
    "\n",
    "r2_test_cv_rf = r2_score(y_test_winsorized, y_pred)\n",
    "rmse_test_cv_rf = mean_squared_error(y_test_winsorized,y_pred, squared= False)\n",
    "\n",
    "print('O Coeficiente de Determinação com novos dados é:', r2_test_cv_rf.round(3))\n",
    "print('O RMSE com novos dados é:', rmse_test_cv_rf.round(3))"
   ]
  }
 ],
 "metadata": {
  "kernelspec": {
   "display_name": "Python 3.9.13 ('base')",
   "language": "python",
   "name": "python3"
  },
  "language_info": {
   "codemirror_mode": {
    "name": "ipython",
    "version": 3
   },
   "file_extension": ".py",
   "mimetype": "text/x-python",
   "name": "python",
   "nbconvert_exporter": "python",
   "pygments_lexer": "ipython3",
   "version": "3.9.13 (main, Aug 25 2022, 23:51:50) [MSC v.1916 64 bit (AMD64)]"
  },
  "vscode": {
   "interpreter": {
    "hash": "7ce700165e2c4b10bae7603f1c1106a887b66d17bed302f9db11fdd8a44210c1"
   }
  }
 },
 "nbformat": 4,
 "nbformat_minor": 5
}
